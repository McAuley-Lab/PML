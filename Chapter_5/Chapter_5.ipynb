{
 "cells": [
  {
   "cell_type": "code",
   "execution_count": 1,
   "metadata": {},
   "outputs": [
    {
     "data": {
      "text/plain": [
       "'0.4.8'"
      ]
     },
     "execution_count": 1,
     "metadata": {},
     "output_type": "execute_result"
    }
   ],
   "source": [
    "import implicit\n",
    "import os\n",
    "import wget\n",
    "import gzip\n",
    "import random\n",
    "import scipy\n",
    "import tensorflow as tf\n",
    "import torch\n",
    "from torch import nn\n",
    "from collections import defaultdict\n",
    "from implicit import bpr\n",
    "from surprise import SVD, Reader, Dataset\n",
    "from surprise.model_selection import train_test_split\n",
    "\n",
    "implicit.__version__  # implicit 0.5.2 will report errors, we use 0.4.8 instead\n"
   ]
  },
  {
   "cell_type": "markdown",
   "metadata": {},
   "source": [
    "Data is available at http://cseweb.ucsd.edu/~jmcauley/pml/data/. \n",
    "- Download and save to your own directory.\n",
    "- Or, run following script to save it into `Chapter_5/data` folder automatically."
   ]
  },
  {
   "cell_type": "code",
   "execution_count": 2,
   "metadata": {},
   "outputs": [
    {
     "name": "stdout",
     "output_type": "stream",
     "text": [
      "Done!\n"
     ]
    }
   ],
   "source": [
    "filenames = [\n",
    "    'goodreads_fantasy.tsv',\n",
    "    'goodreads_reviews_fantasy_paranormal.json.gz',\n",
    "    'goodreads_reviews_comics_graphic.json.gz'\n",
    "]\n",
    "\n",
    "dataDir = './data'\n",
    "url = 'http://jmcauley.ucsd.edu/pml_data'\n",
    "\n",
    "if not os.path.exists(dataDir):\n",
    "    os.makedirs(dataDir)\n",
    "for filename in filenames:\n",
    "    wget.download(os.path.join(url, filename), out=dataDir)\n",
    "print(\"Done!\")\n"
   ]
  },
  {
   "cell_type": "markdown",
   "metadata": {},
   "source": [
    "# Latent factor model (`Surprise`)"
   ]
  },
  {
   "cell_type": "markdown",
   "metadata": {},
   "source": [
    "Using the library's inbuilt data reader, extract tsv-formatted data"
   ]
  },
  {
   "cell_type": "code",
   "execution_count": 3,
   "metadata": {},
   "outputs": [],
   "source": [
    "reader = Reader(line_format='user item rating', sep='\\t')\n",
    "data = Dataset.load_from_file(os.path.join(\n",
    "    dataDir, \"goodreads_fantasy.tsv\"), reader=reader)\n"
   ]
  },
  {
   "cell_type": "markdown",
   "metadata": {},
   "source": [
    "Standard latent-factor model"
   ]
  },
  {
   "cell_type": "code",
   "execution_count": 4,
   "metadata": {},
   "outputs": [],
   "source": [
    "model = SVD()\n"
   ]
  },
  {
   "cell_type": "markdown",
   "metadata": {},
   "source": [
    "Inbuilt functions to split into training and test fractions"
   ]
  },
  {
   "cell_type": "code",
   "execution_count": 5,
   "metadata": {},
   "outputs": [],
   "source": [
    "trainset, testset = train_test_split(data, test_size=.25)\n"
   ]
  },
  {
   "cell_type": "markdown",
   "metadata": {},
   "source": [
    "Fit the model and extract predictions"
   ]
  },
  {
   "cell_type": "code",
   "execution_count": 6,
   "metadata": {},
   "outputs": [],
   "source": [
    "model.fit(trainset)\n",
    "predictions = model.test(testset)\n"
   ]
  },
  {
   "cell_type": "markdown",
   "metadata": {},
   "source": [
    "Estimate for a single (test) rating"
   ]
  },
  {
   "cell_type": "code",
   "execution_count": 7,
   "metadata": {},
   "outputs": [
    {
     "data": {
      "text/plain": [
       "4.383635103743483"
      ]
     },
     "execution_count": 7,
     "metadata": {},
     "output_type": "execute_result"
    }
   ],
   "source": [
    "predictions[0].est\n"
   ]
  },
  {
   "cell_type": "markdown",
   "metadata": {},
   "source": [
    "MSE for model predictions (test set)"
   ]
  },
  {
   "cell_type": "code",
   "execution_count": 8,
   "metadata": {},
   "outputs": [
    {
     "name": "stdout",
     "output_type": "stream",
     "text": [
      "1.1893084224607475\n"
     ]
    }
   ],
   "source": [
    "sse = 0\n",
    "for p in predictions:\n",
    "    sse += (p.r_ui - p.est)**2\n",
    "\n",
    "print(sse / len(predictions))\n"
   ]
  },
  {
   "cell_type": "markdown",
   "metadata": {},
   "source": [
    "# Bayesian Personalized Ranking (`Implicit`)"
   ]
  },
  {
   "cell_type": "code",
   "execution_count": 9,
   "metadata": {},
   "outputs": [],
   "source": [
    "def parseData(fname):\n",
    "    for l in gzip.open(fname):\n",
    "        d = eval(l)\n",
    "        # Discard the reviews, to save memory when we don't use them\n",
    "        del d['review_text']\n",
    "        yield d\n"
   ]
  },
  {
   "cell_type": "markdown",
   "metadata": {},
   "source": [
    "Full dataset of Goodreads fantasy reviews (fairly memory-hungry, could be replaced by something smaller)"
   ]
  },
  {
   "cell_type": "code",
   "execution_count": 10,
   "metadata": {},
   "outputs": [],
   "source": [
    "data = list(parseData(os.path.join(\n",
    "    dataDir, \"goodreads_reviews_fantasy_paranormal.json.gz\")))\n"
   ]
  },
  {
   "cell_type": "code",
   "execution_count": 11,
   "metadata": {},
   "outputs": [],
   "source": [
    "random.shuffle(data)\n"
   ]
  },
  {
   "cell_type": "markdown",
   "metadata": {},
   "source": [
    "Example from the dataset"
   ]
  },
  {
   "cell_type": "code",
   "execution_count": 12,
   "metadata": {},
   "outputs": [
    {
     "data": {
      "text/plain": [
       "{'user_id': 'abbd2f73a185c026dcb37d12cb0399e3',\n",
       " 'book_id': '18107099',\n",
       " 'review_id': '5d0dd1c3de78e1679c2cc52d53571c43',\n",
       " 'rating': 4,\n",
       " 'date_added': 'Mon Mar 10 14:14:46 -0700 2014',\n",
       " 'date_updated': 'Sun Mar 23 05:04:45 -0700 2014',\n",
       " 'read_at': 'Sun Mar 23 05:04:45 -0700 2014',\n",
       " 'started_at': 'Mon Mar 10 00:00:00 -0700 2014',\n",
       " 'n_votes': 1,\n",
       " 'n_comments': 2}"
      ]
     },
     "execution_count": 12,
     "metadata": {},
     "output_type": "execute_result"
    }
   ],
   "source": [
    "data[0]\n"
   ]
  },
  {
   "cell_type": "markdown",
   "metadata": {},
   "source": [
    "Build a few utility data structures. Since we'll be converting the data to a sparse interaction matrix, the main structure here is to assign each user/item to an ID from 0 to nUsers/nItems."
   ]
  },
  {
   "cell_type": "code",
   "execution_count": 13,
   "metadata": {},
   "outputs": [],
   "source": [
    "userIDs, itemIDs = {}, {}\n",
    "\n",
    "for d in data:\n",
    "    u, i = d['user_id'], d['book_id']\n",
    "    if not u in userIDs:\n",
    "        userIDs[u] = len(userIDs)\n",
    "    if not i in itemIDs:\n",
    "        itemIDs[i] = len(itemIDs)\n",
    "\n",
    "nUsers, nItems = len(userIDs), len(itemIDs)\n"
   ]
  },
  {
   "cell_type": "code",
   "execution_count": 14,
   "metadata": {},
   "outputs": [
    {
     "data": {
      "text/plain": [
       "(256088, 258212)"
      ]
     },
     "execution_count": 14,
     "metadata": {},
     "output_type": "execute_result"
    }
   ],
   "source": [
    "nUsers, nItems\n"
   ]
  },
  {
   "cell_type": "markdown",
   "metadata": {},
   "source": [
    "Convert dataset to sparse matrix. Only storing positive feedback instances (i.e., rated items)."
   ]
  },
  {
   "cell_type": "code",
   "execution_count": 15,
   "metadata": {},
   "outputs": [],
   "source": [
    "Xiu = scipy.sparse.lil_matrix((nItems, nUsers))\n",
    "for d in data:\n",
    "    Xiu[itemIDs[d['book_id']], userIDs[d['user_id']]] = 1\n",
    "\n",
    "Xui = Xiu.T.tocsr()\n"
   ]
  },
  {
   "cell_type": "markdown",
   "metadata": {},
   "source": [
    "Bayesian Personalized Ranking model with 5 latent factors"
   ]
  },
  {
   "cell_type": "code",
   "execution_count": 16,
   "metadata": {},
   "outputs": [],
   "source": [
    "model = bpr.BayesianPersonalizedRanking(factors=5, use_gpu=False)\n"
   ]
  },
  {
   "cell_type": "markdown",
   "metadata": {},
   "source": [
    "Fit the model"
   ]
  },
  {
   "cell_type": "code",
   "execution_count": 17,
   "metadata": {},
   "outputs": [
    {
     "data": {
      "application/vnd.jupyter.widget-view+json": {
       "model_id": "a54b324fe4bd49dda01311dbf38daedf",
       "version_major": 2,
       "version_minor": 0
      },
      "text/plain": [
       "  0%|          | 0/100 [00:00<?, ?it/s]"
      ]
     },
     "metadata": {},
     "output_type": "display_data"
    }
   ],
   "source": [
    "model.fit(Xiu)\n"
   ]
  },
  {
   "cell_type": "markdown",
   "metadata": {},
   "source": [
    "Get recommendations for a particular user (the first one) and to get items related to (similar latent factors) to a particular item"
   ]
  },
  {
   "cell_type": "code",
   "execution_count": 18,
   "metadata": {},
   "outputs": [],
   "source": [
    "recommended = model.recommend(0, Xui)\n",
    "related = model.similar_items(0)\n"
   ]
  },
  {
   "cell_type": "code",
   "execution_count": 19,
   "metadata": {},
   "outputs": [
    {
     "data": {
      "text/plain": [
       "[(0, 0.99999994),\n",
       " (43805, 0.989635),\n",
       " (32972, 0.9887914),\n",
       " (71450, 0.9853674),\n",
       " (14346, 0.9845543),\n",
       " (102941, 0.98222655),\n",
       " (217171, 0.9775458),\n",
       " (191999, 0.976213),\n",
       " (59827, 0.97602165),\n",
       " (3941, 0.97505105)]"
      ]
     },
     "execution_count": 19,
     "metadata": {},
     "output_type": "execute_result"
    }
   ],
   "source": [
    "related\n"
   ]
  },
  {
   "cell_type": "markdown",
   "metadata": {},
   "source": [
    "Extract user and item factors"
   ]
  },
  {
   "cell_type": "code",
   "execution_count": 20,
   "metadata": {},
   "outputs": [],
   "source": [
    "itemFactors = model.item_factors\n",
    "userFactors = model.user_factors\n"
   ]
  },
  {
   "cell_type": "code",
   "execution_count": 21,
   "metadata": {},
   "outputs": [
    {
     "data": {
      "text/plain": [
       "array([ 0.55078983,  0.44424427, -0.47678474,  0.2886802 ,  1.491127  ,\n",
       "       -0.25753266], dtype=float32)"
      ]
     },
     "execution_count": 21,
     "metadata": {},
     "output_type": "execute_result"
    }
   ],
   "source": [
    "itemFactors[0]\n"
   ]
  },
  {
   "cell_type": "markdown",
   "metadata": {},
   "source": [
    "# Latent factor model (`TensorFlow` and `PyTorch`)"
   ]
  },
  {
   "cell_type": "code",
   "execution_count": 22,
   "metadata": {},
   "outputs": [],
   "source": [
    "def parse(path):\n",
    "    g = gzip.open(path, 'r')\n",
    "    for l in g:\n",
    "        yield eval(l)\n"
   ]
  },
  {
   "cell_type": "markdown",
   "metadata": {},
   "source": [
    "Goodreads comic book data"
   ]
  },
  {
   "cell_type": "code",
   "execution_count": 23,
   "metadata": {},
   "outputs": [],
   "source": [
    "userIDs = {}\n",
    "itemIDs = {}\n",
    "interactions = []\n",
    "\n",
    "for d in parse(os.path.join(dataDir, \"goodreads_reviews_comics_graphic.json.gz\")):\n",
    "    u = d['user_id']\n",
    "    i = d['book_id']\n",
    "    r = d['rating']\n",
    "    if not u in userIDs:\n",
    "        userIDs[u] = len(userIDs)\n",
    "    if not i in itemIDs:\n",
    "        itemIDs[i] = len(itemIDs)\n",
    "    interactions.append((u, i, r))\n"
   ]
  },
  {
   "cell_type": "code",
   "execution_count": 24,
   "metadata": {},
   "outputs": [
    {
     "data": {
      "text/plain": [
       "542338"
      ]
     },
     "execution_count": 24,
     "metadata": {},
     "output_type": "execute_result"
    }
   ],
   "source": [
    "random.shuffle(interactions)\n",
    "len(interactions)\n"
   ]
  },
  {
   "cell_type": "markdown",
   "metadata": {},
   "source": [
    "Split into train and test sets"
   ]
  },
  {
   "cell_type": "code",
   "execution_count": 25,
   "metadata": {},
   "outputs": [],
   "source": [
    "nTrain = int(len(interactions) * 0.9)\n",
    "nTest = len(interactions) - nTrain\n",
    "interactionsTrain = interactions[:nTrain]\n",
    "interactionsTest = interactions[nTrain:]\n"
   ]
  },
  {
   "cell_type": "code",
   "execution_count": 26,
   "metadata": {},
   "outputs": [],
   "source": [
    "itemsPerUser = defaultdict(list)\n",
    "usersPerItem = defaultdict(list)\n",
    "for u, i, r in interactionsTrain:\n",
    "    itemsPerUser[u].append(i)\n",
    "    usersPerItem[i].append(u)\n"
   ]
  },
  {
   "cell_type": "markdown",
   "metadata": {},
   "source": [
    "Mean rating, just for initialization"
   ]
  },
  {
   "cell_type": "code",
   "execution_count": 27,
   "metadata": {},
   "outputs": [],
   "source": [
    "mu = sum([r for _, _, r in interactionsTrain]) / len(interactionsTrain)\n"
   ]
  },
  {
   "cell_type": "markdown",
   "metadata": {},
   "source": [
    "## `TensorFlow` Implementation"
   ]
  },
  {
   "cell_type": "markdown",
   "metadata": {},
   "source": [
    "Gradient descent optimizer, could experiment with learning rate"
   ]
  },
  {
   "cell_type": "code",
   "execution_count": 28,
   "metadata": {},
   "outputs": [],
   "source": [
    "optimizer = tf.keras.optimizers.Adam(0.1)\n"
   ]
  },
  {
   "cell_type": "markdown",
   "metadata": {},
   "source": [
    "Latent factor model tensorflow class"
   ]
  },
  {
   "cell_type": "code",
   "execution_count": 29,
   "metadata": {},
   "outputs": [],
   "source": [
    "class LatentFactorModel(tf.keras.Model):\n",
    "    def __init__(self, mu, K, lamb):\n",
    "        super(LatentFactorModel, self).__init__()\n",
    "        # Initialize to average\n",
    "        self.alpha = tf.Variable(mu)\n",
    "        # Initialize to small random values\n",
    "        self.betaU = tf.Variable(\n",
    "            tf.random.normal([len(userIDs)], stddev=0.001))\n",
    "        self.betaI = tf.Variable(\n",
    "            tf.random.normal([len(itemIDs)], stddev=0.001))\n",
    "        self.gammaU = tf.Variable(tf.random.normal(\n",
    "            [len(userIDs), K], stddev=0.001))\n",
    "        self.gammaI = tf.Variable(tf.random.normal(\n",
    "            [len(itemIDs), K], stddev=0.001))\n",
    "        self.lamb = lamb\n",
    "\n",
    "    # Prediction for a single instance (useful for evaluation)\n",
    "    def predict(self, u, i):\n",
    "        p = self.alpha + self.betaU[u] + self.betaI[i] +\\\n",
    "            tf.tensordot(self.gammaU[u], self.gammaI[i], 1)\n",
    "        return p\n",
    "\n",
    "    # Regularizer\n",
    "    def reg(self):\n",
    "        return self.lamb * (tf.reduce_sum(self.betaU**2) +\n",
    "                            tf.reduce_sum(self.betaI**2) +\n",
    "                            tf.reduce_sum(self.gammaU**2) +\n",
    "                            tf.reduce_sum(self.gammaI**2))\n",
    "\n",
    "    # Prediction for a sample of instances\n",
    "    def predictSample(self, sampleU, sampleI):\n",
    "        u = tf.convert_to_tensor(sampleU, dtype=tf.int32)\n",
    "        i = tf.convert_to_tensor(sampleI, dtype=tf.int32)\n",
    "        beta_u = tf.nn.embedding_lookup(self.betaU, u)\n",
    "        beta_i = tf.nn.embedding_lookup(self.betaI, i)\n",
    "        gamma_u = tf.nn.embedding_lookup(self.gammaU, u)\n",
    "        gamma_i = tf.nn.embedding_lookup(self.gammaI, i)\n",
    "        pred = self.alpha + beta_u + beta_i +\\\n",
    "            tf.reduce_sum(tf.multiply(gamma_u, gamma_i), 1)\n",
    "        return pred\n",
    "\n",
    "    # Loss\n",
    "    def call(self, sampleU, sampleI, sampleR):\n",
    "        pred = self.predictSample(sampleU, sampleI)\n",
    "        r = tf.convert_to_tensor(sampleR, dtype=tf.float32)\n",
    "        return tf.nn.l2_loss(pred - r) / len(sampleR)\n"
   ]
  },
  {
   "cell_type": "markdown",
   "metadata": {},
   "source": [
    "Initialize the model. Could experiment with number of factors and regularization rate."
   ]
  },
  {
   "cell_type": "code",
   "execution_count": 30,
   "metadata": {},
   "outputs": [
    {
     "name": "stderr",
     "output_type": "stream",
     "text": [
      "2022-03-24 15:01:29.144658: E tensorflow/stream_executor/cuda/cuda_driver.cc:271] failed call to cuInit: CUDA_ERROR_NO_DEVICE: no CUDA-capable device is detected\n",
      "2022-03-24 15:01:29.144703: I tensorflow/stream_executor/cuda/cuda_diagnostics.cc:169] retrieving CUDA diagnostic information for host: Zhankui\n",
      "2022-03-24 15:01:29.144710: I tensorflow/stream_executor/cuda/cuda_diagnostics.cc:176] hostname: Zhankui\n",
      "2022-03-24 15:01:29.144809: I tensorflow/stream_executor/cuda/cuda_diagnostics.cc:200] libcuda reported version is: 470.103.1\n",
      "2022-03-24 15:01:29.144836: I tensorflow/stream_executor/cuda/cuda_diagnostics.cc:204] kernel reported version is: 470.103.1\n",
      "2022-03-24 15:01:29.144843: I tensorflow/stream_executor/cuda/cuda_diagnostics.cc:310] kernel version seems to match DSO: 470.103.1\n",
      "2022-03-24 15:01:29.145591: I tensorflow/core/platform/cpu_feature_guard.cc:151] This TensorFlow binary is optimized with oneAPI Deep Neural Network Library (oneDNN) to use the following CPU instructions in performance-critical operations:  AVX2 FMA\n",
      "To enable them in other operations, rebuild TensorFlow with the appropriate compiler flags.\n"
     ]
    }
   ],
   "source": [
    "modelLFM = LatentFactorModel(mu, 5, 0.00001)\n"
   ]
  },
  {
   "cell_type": "markdown",
   "metadata": {},
   "source": [
    "Training step (for the batch-based model from Chapter 5)"
   ]
  },
  {
   "cell_type": "code",
   "execution_count": 31,
   "metadata": {},
   "outputs": [],
   "source": [
    "def trainingStep(model, interactions):\n",
    "    Nsamples = 50000\n",
    "    with tf.GradientTape() as tape:\n",
    "        sampleU, sampleI, sampleR = [], [], []\n",
    "        for _ in range(Nsamples):\n",
    "            u, i, r = random.choice(interactions)\n",
    "            sampleU.append(userIDs[u])\n",
    "            sampleI.append(itemIDs[i])\n",
    "            sampleR.append(r)\n",
    "\n",
    "        loss = model(sampleU, sampleI, sampleR)\n",
    "        loss += model.reg()\n",
    "    gradients = tape.gradient(loss, model.trainable_variables)\n",
    "    optimizer.apply_gradients((grad, var) for\n",
    "                              (grad, var) in zip(\n",
    "                                  gradients, model.trainable_variables)\n",
    "                              if grad is not None)\n",
    "    return loss.numpy()\n"
   ]
  },
  {
   "cell_type": "markdown",
   "metadata": {},
   "source": [
    "Run 100 iterations (really 100 batches) of gradient descent"
   ]
  },
  {
   "cell_type": "code",
   "execution_count": 32,
   "metadata": {},
   "outputs": [
    {
     "name": "stdout",
     "output_type": "stream",
     "text": [
      "iteration 10, objective = 0.5309396\n",
      "iteration 20, objective = 0.5107579\n",
      "iteration 30, objective = 0.5197936\n",
      "iteration 40, objective = 0.52355415\n",
      "iteration 50, objective = 0.5162568\n",
      "iteration 60, objective = 0.51113695\n",
      "iteration 70, objective = 0.50594246\n",
      "iteration 80, objective = 0.5036332\n",
      "iteration 90, objective = 0.5052657\n",
      "iteration 100, objective = 0.5083184\n"
     ]
    }
   ],
   "source": [
    "for i in range(100):\n",
    "    obj = trainingStep(modelLFM, interactionsTrain)\n",
    "    if (i % 10 == 9):\n",
    "        print(\"iteration \" + str(i+1) + \", objective = \" + str(obj))\n"
   ]
  },
  {
   "cell_type": "markdown",
   "metadata": {},
   "source": [
    "Prediction for a particular user/item pair"
   ]
  },
  {
   "cell_type": "code",
   "execution_count": 33,
   "metadata": {},
   "outputs": [],
   "source": [
    "u, i, r = interactionsTest[0]\n"
   ]
  },
  {
   "cell_type": "code",
   "execution_count": 34,
   "metadata": {},
   "outputs": [
    {
     "data": {
      "text/plain": [
       "3.8191333"
      ]
     },
     "execution_count": 34,
     "metadata": {},
     "output_type": "execute_result"
    }
   ],
   "source": [
    "modelLFM.predict(userIDs[u], itemIDs[i]).numpy()\n"
   ]
  },
  {
   "cell_type": "markdown",
   "metadata": {},
   "source": [
    "## `PyTorch` Implementation"
   ]
  },
  {
   "cell_type": "markdown",
   "metadata": {},
   "source": [
    "Latent factor model tensorflow class"
   ]
  },
  {
   "cell_type": "code",
   "execution_count": 35,
   "metadata": {},
   "outputs": [],
   "source": [
    "class LatentFactorModel(nn.Module):\n",
    "    def __init__(self, mu, K, lamb):\n",
    "        super(LatentFactorModel, self).__init__()\n",
    "        # Initialize to average\n",
    "        self.alpha = nn.Parameter(torch.Tensor([mu]))\n",
    "        # Initialize to small random values\n",
    "        self.betaU = nn.Embedding(len(userIDs), 1)\n",
    "        nn.init.normal_(self.betaU.weight, std=0.001)\n",
    "        self.betaI = nn.Embedding(len(itemIDs), 1)\n",
    "        nn.init.normal_(self.betaI.weight, std=0.001)\n",
    "        self.gammaU = nn.Embedding(len(userIDs), K)\n",
    "        nn.init.normal_(self.gammaU.weight, std=0.001)\n",
    "        self.gammaI = nn.Embedding(len(itemIDs), K)\n",
    "        nn.init.normal_(self.gammaI.weight, std=0.001)\n",
    "        self.lamb = lamb\n",
    "\n",
    "    # Prediction\n",
    "    def forward(self, u, i):\n",
    "        p = self.alpha + self.betaU(u).squeeze(-1) + self.betaI(i).squeeze(-1) + \\\n",
    "            (self.gammaU(u) * self.gammaI(i)).sum(dim=-1)\n",
    "        return p\n",
    "\n",
    "    # Regularizer\n",
    "    def reg(self):\n",
    "        return self.lamb * (torch.sum(self.betaU.weight**2) +\n",
    "                            torch.sum(self.betaI.weight**2) +\n",
    "                            torch.sum(self.gammaU.weight**2) +\n",
    "                            torch.sum(self.gammaI.weight**2))\n",
    "\n",
    "    # Loss\n",
    "    def loss(self, u, i, r):\n",
    "        pred = self.forward(u, i)\n",
    "        # match l2_loss in tensorflow (i.e., sum(x**2) / 2)\n",
    "        return nn.functional.mse_loss(pred, r) / 2 + self.reg()\n"
   ]
  },
  {
   "cell_type": "markdown",
   "metadata": {},
   "source": [
    "Initialize the model. Could experiment with number of factors and regularization rate.\n",
    "\n",
    "Gradient descent optimizer, could experiment with learning rate."
   ]
  },
  {
   "cell_type": "code",
   "execution_count": 36,
   "metadata": {},
   "outputs": [],
   "source": [
    "modelLFM = LatentFactorModel(mu, 5, 0.00001)\n",
    "optimizer = torch.optim.Adam(modelLFM.parameters(), lr=0.1)\n"
   ]
  },
  {
   "cell_type": "markdown",
   "metadata": {},
   "source": [
    "Training step (for the batch-based model from Chapter 5)"
   ]
  },
  {
   "cell_type": "code",
   "execution_count": 37,
   "metadata": {},
   "outputs": [],
   "source": [
    "\n",
    "def trainingStep(model, interactions):\n",
    "    # gradient reset\n",
    "    optimizer.zero_grad()\n",
    "    # data generation\n",
    "    Nsamples = 50000\n",
    "    sampleU, sampleI, sampleR = [], [], []\n",
    "    for _ in range(Nsamples):\n",
    "        u, i, r = random.choice(interactions)\n",
    "        sampleU.append(userIDs[u])\n",
    "        sampleI.append(itemIDs[i])\n",
    "        sampleR.append(r)\n",
    "    sampleU, sampleI, sampleR = torch.LongTensor(\n",
    "        sampleU), torch.LongTensor(sampleI), torch.Tensor(sampleR)\n",
    "    # loss calculation\n",
    "    loss = model.loss(sampleU, sampleI, sampleR)\n",
    "    # gradient calculation\n",
    "    loss.backward()\n",
    "    # weight update\n",
    "    optimizer.step()\n",
    "    return loss.item()\n"
   ]
  },
  {
   "cell_type": "markdown",
   "metadata": {},
   "source": [
    "Run 100 iterations (really 100 batches) of gradient descent"
   ]
  },
  {
   "cell_type": "code",
   "execution_count": 38,
   "metadata": {},
   "outputs": [
    {
     "name": "stdout",
     "output_type": "stream",
     "text": [
      "iteration 10, loss = 0.5609049797058105\n",
      "iteration 20, loss = 0.5348504781723022\n",
      "iteration 30, loss = 0.5309914350509644\n",
      "iteration 40, loss = 0.525666356086731\n",
      "iteration 50, loss = 0.5169359445571899\n",
      "iteration 60, loss = 0.5135524272918701\n",
      "iteration 70, loss = 0.5127942562103271\n",
      "iteration 80, loss = 0.5091582536697388\n",
      "iteration 90, loss = 0.5123672485351562\n",
      "iteration 100, loss = 0.509558916091919\n"
     ]
    }
   ],
   "source": [
    "\n",
    "for i in range(100):\n",
    "    loss = trainingStep(modelLFM, interactionsTrain)\n",
    "    if (i % 10 == 9):\n",
    "        print(\"iteration \" + str(i+1) + \", loss = \" + str(loss))\n"
   ]
  },
  {
   "cell_type": "markdown",
   "metadata": {},
   "source": [
    "Prediction for a particular user/item pair"
   ]
  },
  {
   "cell_type": "code",
   "execution_count": 39,
   "metadata": {},
   "outputs": [],
   "source": [
    "\n",
    "u, i, r = interactionsTest[0]\n"
   ]
  },
  {
   "cell_type": "code",
   "execution_count": 40,
   "metadata": {},
   "outputs": [
    {
     "data": {
      "text/plain": [
       "3.3774330615997314"
      ]
     },
     "execution_count": 40,
     "metadata": {},
     "output_type": "execute_result"
    }
   ],
   "source": [
    "modelLFM(torch.LongTensor([userIDs[u]]), torch.LongTensor([itemIDs[i]])).item()\n"
   ]
  },
  {
   "cell_type": "markdown",
   "metadata": {},
   "source": [
    "# Bayesian personalized ranking (`TensorFlow` and `PyTorch`)"
   ]
  },
  {
   "cell_type": "code",
   "execution_count": 41,
   "metadata": {},
   "outputs": [],
   "source": [
    "items = list(itemIDs.keys())\n"
   ]
  },
  {
   "cell_type": "markdown",
   "metadata": {},
   "source": [
    "## `TensorFlow` Implementation"
   ]
  },
  {
   "cell_type": "markdown",
   "metadata": {},
   "source": [
    "Batch-based version from Chapter 5"
   ]
  },
  {
   "cell_type": "code",
   "execution_count": 42,
   "metadata": {},
   "outputs": [],
   "source": [
    "class BPRbatch(tf.keras.Model):\n",
    "    def __init__(self, K, lamb):\n",
    "        super(BPRbatch, self).__init__()\n",
    "        # Initialize variables\n",
    "        self.betaI = tf.Variable(\n",
    "            tf.random.normal([len(itemIDs)], stddev=0.001))\n",
    "        self.gammaU = tf.Variable(tf.random.normal(\n",
    "            [len(userIDs), K], stddev=0.001))\n",
    "        self.gammaI = tf.Variable(tf.random.normal(\n",
    "            [len(itemIDs), K], stddev=0.001))\n",
    "        # Regularization coefficient\n",
    "        self.lamb = lamb\n",
    "\n",
    "    # Prediction for a single instance\n",
    "    def predict(self, u, i):\n",
    "        p = self.betaI[i] + tf.tensordot(self.gammaU[u], self.gammaI[i], 1)\n",
    "        return p\n",
    "\n",
    "    # Regularizer\n",
    "    def reg(self):\n",
    "        return self.lamb * (tf.nn.l2_loss(self.betaI) +\n",
    "                            tf.nn.l2_loss(self.gammaU) +\n",
    "                            tf.nn.l2_loss(self.gammaI))\n",
    "\n",
    "    def score(self, sampleU, sampleI):\n",
    "        u = tf.convert_to_tensor(sampleU, dtype=tf.int32)\n",
    "        i = tf.convert_to_tensor(sampleI, dtype=tf.int32)\n",
    "        beta_i = tf.nn.embedding_lookup(self.betaI, i)\n",
    "        gamma_u = tf.nn.embedding_lookup(self.gammaU, u)\n",
    "        gamma_i = tf.nn.embedding_lookup(self.gammaI, i)\n",
    "        x_ui = beta_i + tf.reduce_sum(tf.multiply(gamma_u, gamma_i), 1)\n",
    "        return x_ui\n",
    "\n",
    "    def call(self, sampleU, sampleI, sampleJ):\n",
    "        x_ui = self.score(sampleU, sampleI)\n",
    "        x_uj = self.score(sampleU, sampleJ)\n",
    "        return -tf.reduce_mean(tf.math.log(tf.math.sigmoid(x_ui - x_uj)))\n"
   ]
  },
  {
   "cell_type": "code",
   "execution_count": 43,
   "metadata": {},
   "outputs": [],
   "source": [
    "optimizer = tf.keras.optimizers.Adam(0.1)\n"
   ]
  },
  {
   "cell_type": "code",
   "execution_count": 44,
   "metadata": {},
   "outputs": [],
   "source": [
    "modelBPR = BPRbatch(5, 0.00001)\n"
   ]
  },
  {
   "cell_type": "code",
   "execution_count": 45,
   "metadata": {},
   "outputs": [],
   "source": [
    "def trainingStepBPR(model, interactions):\n",
    "    Nsamples = 50000\n",
    "    with tf.GradientTape() as tape:\n",
    "        sampleU, sampleI, sampleJ = [], [], []\n",
    "        for _ in range(Nsamples):\n",
    "            u, i, _ = random.choice(interactions)  # positive sample\n",
    "            j = random.choice(items)  # negative sample\n",
    "            while j in itemsPerUser[u]:\n",
    "                j = random.choice(items)\n",
    "            sampleU.append(userIDs[u])\n",
    "            sampleI.append(itemIDs[i])\n",
    "            sampleJ.append(itemIDs[j])\n",
    "\n",
    "        loss = model(sampleU, sampleI, sampleJ)\n",
    "        loss += model.reg()\n",
    "    gradients = tape.gradient(loss, model.trainable_variables)\n",
    "    optimizer.apply_gradients((grad, var) for\n",
    "                              (grad, var) in zip(\n",
    "                                  gradients, model.trainable_variables)\n",
    "                              if grad is not None)\n",
    "    return loss.numpy()\n"
   ]
  },
  {
   "cell_type": "markdown",
   "metadata": {},
   "source": [
    "Run 100 batches of gradient descent"
   ]
  },
  {
   "cell_type": "code",
   "execution_count": 46,
   "metadata": {},
   "outputs": [
    {
     "name": "stdout",
     "output_type": "stream",
     "text": [
      "iteration 10, objective = 0.52969164\n",
      "iteration 20, objective = 0.47901565\n",
      "iteration 30, objective = 0.47639802\n",
      "iteration 40, objective = 0.47310835\n",
      "iteration 50, objective = 0.47093636\n",
      "iteration 60, objective = 0.47369748\n",
      "iteration 70, objective = 0.47500864\n",
      "iteration 80, objective = 0.4744386\n",
      "iteration 90, objective = 0.4741045\n",
      "iteration 100, objective = 0.46990678\n"
     ]
    }
   ],
   "source": [
    "for i in range(100):\n",
    "    obj = trainingStepBPR(modelBPR, interactions)\n",
    "    if (i % 10 == 9):\n",
    "        print(\"iteration \" + str(i+1) + \", objective = \" + str(obj))\n"
   ]
  },
  {
   "cell_type": "markdown",
   "metadata": {},
   "source": [
    "Prediction for a particular user/item pair. Note that this is an unnormalized score (which can be used for ranking)"
   ]
  },
  {
   "cell_type": "code",
   "execution_count": 47,
   "metadata": {},
   "outputs": [],
   "source": [
    "u, i, _ = interactionsTest[0]\n"
   ]
  },
  {
   "cell_type": "code",
   "execution_count": 48,
   "metadata": {},
   "outputs": [
    {
     "data": {
      "text/plain": [
       "3.420997"
      ]
     },
     "execution_count": 48,
     "metadata": {},
     "output_type": "execute_result"
    }
   ],
   "source": [
    "# In this case just a score (that can be used for ranking), rather than a prediction of a rating\n",
    "modelBPR.predict(userIDs[u], itemIDs[i]).numpy()\n"
   ]
  },
  {
   "cell_type": "markdown",
   "metadata": {},
   "source": [
    "## `PyTorch` Implementation"
   ]
  },
  {
   "cell_type": "markdown",
   "metadata": {},
   "source": [
    "Batch-based version from Chapter 5"
   ]
  },
  {
   "cell_type": "code",
   "execution_count": 49,
   "metadata": {},
   "outputs": [],
   "source": [
    "class BPRbatch(nn.Module):\n",
    "    def __init__(self, K, lamb):\n",
    "        super(BPRbatch, self).__init__()\n",
    "        # Initialize to small random values\n",
    "        self.betaI = nn.Embedding(len(itemIDs), 1)\n",
    "        nn.init.normal_(self.betaI.weight, std=0.001)\n",
    "        self.gammaU = nn.Embedding(len(userIDs), K)\n",
    "        nn.init.normal_(self.gammaU.weight, std=0.001)\n",
    "        self.gammaI = nn.Embedding(len(itemIDs), K)\n",
    "        nn.init.normal_(self.gammaI.weight, std=0.001)\n",
    "        self.lamb = lamb\n",
    "\n",
    "    # Prediction\n",
    "    def forward(self, u, i):\n",
    "        p = self.betaI(i).squeeze(-1) + (self.gammaU(u)\n",
    "                                         * self.gammaI(i)).sum(dim=-1)\n",
    "        return p\n",
    "\n",
    "    # Regularizer\n",
    "    def reg(self):\n",
    "        return self.lamb * (torch.sum(self.betaI.weight**2) / 2 +\n",
    "                            torch.sum(self.gammaU.weight**2) / 2 +\n",
    "                            torch.sum(self.gammaI.weight**2) / 2)  # match l2_loss in tensorflow (i.e., sum(x**2) / 2)\n",
    "\n",
    "    # Loss\n",
    "    def loss(self, u, i, j):\n",
    "        x_ui = self.forward(u, i)\n",
    "        x_uj = self.forward(u, j)\n",
    "        return - torch.sigmoid(x_ui - x_uj).log().mean() + self.reg()\n"
   ]
  },
  {
   "cell_type": "code",
   "execution_count": 50,
   "metadata": {},
   "outputs": [],
   "source": [
    "modelBPR = BPRbatch(5, 0.00001)\n",
    "optimizer = torch.optim.Adam(modelBPR.parameters(), lr=0.1)\n"
   ]
  },
  {
   "cell_type": "code",
   "execution_count": 51,
   "metadata": {},
   "outputs": [],
   "source": [
    "def trainingStepBPR(model, interactions):\n",
    "    # gradient reset\n",
    "    optimizer.zero_grad()\n",
    "    # data generation\n",
    "    Nsamples = 50000\n",
    "    sampleU, sampleI, sampleJ = [], [], []\n",
    "    for _ in range(Nsamples):\n",
    "        u, i, _ = random.choice(interactions)  # positive sample\n",
    "        j = random.choice(items)  # negative sample\n",
    "        while j in itemsPerUser[u]:\n",
    "            j = random.choice(items)\n",
    "        sampleU.append(userIDs[u])\n",
    "        sampleI.append(itemIDs[i])\n",
    "        sampleJ.append(itemIDs[j])\n",
    "    sampleU, sampleI, sampleJ = torch.LongTensor(\n",
    "        sampleU), torch.LongTensor(sampleI), torch.LongTensor(sampleJ)\n",
    "    # loss calculation\n",
    "    loss = model.loss(sampleU, sampleI, sampleJ)\n",
    "    # gradient calculation\n",
    "    loss.backward()\n",
    "    # weight update\n",
    "    optimizer.step()\n",
    "    return loss.item()\n"
   ]
  },
  {
   "cell_type": "markdown",
   "metadata": {},
   "source": [
    "Run 100 batches of gradient descent"
   ]
  },
  {
   "cell_type": "code",
   "execution_count": 52,
   "metadata": {},
   "outputs": [
    {
     "name": "stdout",
     "output_type": "stream",
     "text": [
      "iteration 10, loss = 0.5430517196655273\n",
      "iteration 20, loss = 0.49784502387046814\n",
      "iteration 30, loss = 0.48478055000305176\n",
      "iteration 40, loss = 0.48229995369911194\n",
      "iteration 50, loss = 0.4817325472831726\n",
      "iteration 60, loss = 0.47607892751693726\n",
      "iteration 70, loss = 0.4738577902317047\n",
      "iteration 80, loss = 0.4703591465950012\n",
      "iteration 90, loss = 0.4687100052833557\n",
      "iteration 100, loss = 0.46969711780548096\n"
     ]
    }
   ],
   "source": [
    "for i in range(100):\n",
    "    loss = trainingStepBPR(modelBPR, interactionsTrain)\n",
    "    if (i % 10 == 9):\n",
    "        print(\"iteration \" + str(i+1) + \", loss = \" + str(loss))\n"
   ]
  },
  {
   "cell_type": "markdown",
   "metadata": {},
   "source": [
    "Prediction for a particular user/item pair. Note that this is an unnormalized score (which can be used for ranking)"
   ]
  },
  {
   "cell_type": "code",
   "execution_count": 53,
   "metadata": {},
   "outputs": [],
   "source": [
    "u, i, _ = interactionsTest[0]\n"
   ]
  },
  {
   "cell_type": "code",
   "execution_count": 54,
   "metadata": {},
   "outputs": [
    {
     "data": {
      "text/plain": [
       "3.3774330615997314"
      ]
     },
     "execution_count": 54,
     "metadata": {},
     "output_type": "execute_result"
    }
   ],
   "source": [
    "modelLFM(torch.LongTensor([userIDs[u]]), torch.LongTensor([itemIDs[i]])).item()\n"
   ]
  },
  {
   "cell_type": "markdown",
   "metadata": {},
   "source": [
    "# Exercises"
   ]
  },
  {
   "cell_type": "markdown",
   "metadata": {},
   "source": [
    "### 5.1 (`TensorFlow` Implementation)"
   ]
  },
  {
   "cell_type": "markdown",
   "metadata": {},
   "source": [
    "Adapt the latent factor model above, simply deleting any terms associated with latent factors"
   ]
  },
  {
   "cell_type": "code",
   "execution_count": 59,
   "metadata": {},
   "outputs": [],
   "source": [
    "optimizer = tf.keras.optimizers.Adam(0.1)\n"
   ]
  },
  {
   "cell_type": "code",
   "execution_count": 60,
   "metadata": {},
   "outputs": [],
   "source": [
    "class LatentFactorModelBiasOnly(tf.keras.Model):\n",
    "    def __init__(self, mu, lamb):\n",
    "        super(LatentFactorModelBiasOnly, self).__init__()\n",
    "        # Initialize to average\n",
    "        self.alpha = tf.Variable(mu)\n",
    "        # Initialize to small random values\n",
    "        self.betaU = tf.Variable(\n",
    "            tf.random.normal([len(userIDs)], stddev=0.001))\n",
    "        self.betaI = tf.Variable(\n",
    "            tf.random.normal([len(itemIDs)], stddev=0.001))\n",
    "        self.lamb = lamb\n",
    "\n",
    "    # Prediction for a single instance (useful for evaluation)\n",
    "    def predict(self, u, i):\n",
    "        p = self.alpha + self.betaU[u] + self.betaI[i]\n",
    "        return p\n",
    "\n",
    "    # Regularizer\n",
    "    def reg(self):\n",
    "        return self.lamb * (tf.reduce_sum(self.betaU**2) +\n",
    "                            tf.reduce_sum(self.betaI**2))\n",
    "\n",
    "    # Prediction for a sample of instances\n",
    "    def predictSample(self, sampleU, sampleI):\n",
    "        u = tf.convert_to_tensor(sampleU, dtype=tf.int32)\n",
    "        i = tf.convert_to_tensor(sampleI, dtype=tf.int32)\n",
    "        beta_u = tf.nn.embedding_lookup(self.betaU, u)\n",
    "        beta_i = tf.nn.embedding_lookup(self.betaI, i)\n",
    "        pred = self.alpha + beta_u + beta_i\n",
    "        return pred\n",
    "\n",
    "    # Loss\n",
    "    def call(self, sampleU, sampleI, sampleR):\n",
    "        pred = self.predictSample(sampleU, sampleI)\n",
    "        r = tf.convert_to_tensor(sampleR, dtype=tf.float32)\n",
    "        return tf.nn.l2_loss(pred - r) / len(sampleR)\n"
   ]
  },
  {
   "cell_type": "code",
   "execution_count": 61,
   "metadata": {},
   "outputs": [],
   "source": [
    "modelBiasOnly = LatentFactorModelBiasOnly(mu, 0.00001)\n"
   ]
  },
  {
   "cell_type": "code",
   "execution_count": 62,
   "metadata": {},
   "outputs": [],
   "source": [
    "def trainingStepBiasOnly(model, interactions):\n",
    "    Nsamples = 50000\n",
    "    with tf.GradientTape() as tape:\n",
    "        sampleU, sampleI, sampleR = [], [], []\n",
    "        for _ in range(Nsamples):\n",
    "            u, i, r = random.choice(interactions)\n",
    "            sampleU.append(userIDs[u])\n",
    "            sampleI.append(itemIDs[i])\n",
    "            sampleR.append(r)\n",
    "\n",
    "        loss = model(sampleU, sampleI, sampleR)\n",
    "        loss += model.reg()\n",
    "    gradients = tape.gradient(loss, model.trainable_variables)\n",
    "    optimizer.apply_gradients((grad, var) for\n",
    "                              (grad, var) in zip(\n",
    "                                  gradients, model.trainable_variables)\n",
    "                              if grad is not None)\n",
    "    return loss.numpy()\n"
   ]
  },
  {
   "cell_type": "code",
   "execution_count": 63,
   "metadata": {},
   "outputs": [
    {
     "name": "stdout",
     "output_type": "stream",
     "text": [
      "iteration 10, objective = 0.5325793\n",
      "iteration 20, objective = 0.5129128\n",
      "iteration 30, objective = 0.49926892\n",
      "iteration 40, objective = 0.4964696\n",
      "iteration 50, objective = 0.4938159\n"
     ]
    }
   ],
   "source": [
    "for i in range(50):\n",
    "    obj = trainingStepBiasOnly(modelBiasOnly, interactionsTrain)\n",
    "    if (i % 10 == 9):\n",
    "        print(\"iteration \" + str(i+1) + \", objective = \" + str(obj))\n"
   ]
  },
  {
   "cell_type": "markdown",
   "metadata": {},
   "source": [
    "Compute the MSEs for a model which always predicts the mean, versus one which involves bias terms"
   ]
  },
  {
   "cell_type": "code",
   "execution_count": 64,
   "metadata": {},
   "outputs": [],
   "source": [
    "def MSE(predictions, labels):\n",
    "    differences = [(x-y)**2 for x, y in zip(predictions, labels)]\n",
    "    return sum(differences) / len(differences)\n"
   ]
  },
  {
   "cell_type": "code",
   "execution_count": 65,
   "metadata": {},
   "outputs": [],
   "source": [
    "alwaysPredictMean = [mu for _ in interactionsTest]\n",
    "labels = [r for _, _, r in interactionsTest]\n"
   ]
  },
  {
   "cell_type": "code",
   "execution_count": 66,
   "metadata": {},
   "outputs": [
    {
     "data": {
      "text/plain": [
       "1.3588585417861048"
      ]
     },
     "execution_count": 66,
     "metadata": {},
     "output_type": "execute_result"
    }
   ],
   "source": [
    "MSE(alwaysPredictMean, labels)\n"
   ]
  },
  {
   "cell_type": "code",
   "execution_count": 67,
   "metadata": {},
   "outputs": [],
   "source": [
    "biasOnlyPredictions =\\\n",
    "    [modelBiasOnly.predict(userIDs[u], itemIDs[i]).numpy()\n",
    "     for u, i, _ in interactionsTest]\n"
   ]
  },
  {
   "cell_type": "code",
   "execution_count": 68,
   "metadata": {},
   "outputs": [
    {
     "data": {
      "text/plain": [
       "3.642407"
      ]
     },
     "execution_count": 68,
     "metadata": {},
     "output_type": "execute_result"
    }
   ],
   "source": [
    "biasOnlyPredictions[0]\n"
   ]
  },
  {
   "cell_type": "code",
   "execution_count": 69,
   "metadata": {},
   "outputs": [
    {
     "data": {
      "text/plain": [
       "0.9985292734595719"
      ]
     },
     "execution_count": 69,
     "metadata": {},
     "output_type": "execute_result"
    }
   ],
   "source": [
    "MSE(biasOnlyPredictions, labels)\n"
   ]
  },
  {
   "cell_type": "markdown",
   "metadata": {},
   "source": [
    "### 5.1 (`PyTorch` Implementation)"
   ]
  },
  {
   "cell_type": "code",
   "execution_count": 70,
   "metadata": {},
   "outputs": [
    {
     "name": "stdout",
     "output_type": "stream",
     "text": [
      "iteration 10, loss = 0.5496252179145813\n",
      "iteration 20, loss = 0.5112858414649963\n",
      "iteration 30, loss = 0.5048273801803589\n",
      "iteration 40, loss = 0.5003482103347778\n",
      "iteration 50, loss = 0.48966529965400696\n"
     ]
    }
   ],
   "source": [
    "class LatentFactorModelBiasOnly(nn.Module):\n",
    "    def __init__(self, mu, K, lamb):\n",
    "        super(LatentFactorModelBiasOnly, self).__init__()\n",
    "        # Initialize to average\n",
    "        self.alpha = nn.Parameter(torch.Tensor([mu]))\n",
    "        # Initialize to small random values\n",
    "        self.betaU = nn.Embedding(len(userIDs), 1)\n",
    "        nn.init.normal_(self.betaU.weight, std=0.001)\n",
    "        self.betaI = nn.Embedding(len(itemIDs), 1)\n",
    "        nn.init.normal_(self.betaI.weight, std=0.001)\n",
    "        self.lamb = lamb\n",
    "\n",
    "    # Prediction\n",
    "    def forward(self, u, i):\n",
    "        p = self.alpha + self.betaU(u).squeeze(-1) + self.betaI(i).squeeze(-1)\n",
    "        return p\n",
    "\n",
    "    # Regularizer\n",
    "    def reg(self):\n",
    "        return self.lamb * (torch.sum(self.betaU.weight**2) +\n",
    "                            torch.sum(self.betaI.weight**2))\n",
    "\n",
    "    # Loss\n",
    "    def loss(self, u, i, r):\n",
    "        pred = self.forward(u, i)\n",
    "        # match l2_loss in tensorflow (i.e., sum(x**2) / 2)\n",
    "        return nn.functional.mse_loss(pred, r) / 2 + self.reg()\n",
    "\n",
    "\n",
    "modelBiasOnly = LatentFactorModelBiasOnly(mu, 5, 0.00001)\n",
    "optimizer = torch.optim.Adam(modelBiasOnly.parameters(), lr=0.1)\n",
    "\n",
    "\n",
    "def trainingStepBiasOnly(model, interactions):\n",
    "    # gradient reset\n",
    "    optimizer.zero_grad()\n",
    "    # data generation\n",
    "    Nsamples = 50000\n",
    "    sampleU, sampleI, sampleR = [], [], []\n",
    "    for _ in range(Nsamples):\n",
    "        u, i, r = random.choice(interactions)\n",
    "        sampleU.append(userIDs[u])\n",
    "        sampleI.append(itemIDs[i])\n",
    "        sampleR.append(r)\n",
    "    sampleU, sampleI, sampleR = torch.LongTensor(\n",
    "        sampleU), torch.LongTensor(sampleI), torch.Tensor(sampleR)\n",
    "    # loss calculation\n",
    "    loss = model.loss(sampleU, sampleI, sampleR)\n",
    "    # gradient calculation\n",
    "    loss.backward()\n",
    "    # weight update\n",
    "    optimizer.step()\n",
    "    return loss.item()\n",
    "\n",
    "\n",
    "for i in range(50):\n",
    "    loss = trainingStepBiasOnly(modelBiasOnly, interactionsTrain)\n",
    "    if (i % 10 == 9):\n",
    "        print(\"iteration \" + str(i+1) + \", loss = \" + str(loss))\n"
   ]
  },
  {
   "cell_type": "markdown",
   "metadata": {},
   "source": [
    "Compute the MSEs for a model which always predicts the mean, versus one which involves bias terms"
   ]
  },
  {
   "cell_type": "code",
   "execution_count": 71,
   "metadata": {},
   "outputs": [
    {
     "data": {
      "text/plain": [
       "1.3588585417861048"
      ]
     },
     "execution_count": 71,
     "metadata": {},
     "output_type": "execute_result"
    }
   ],
   "source": [
    "def MSE(predictions, labels):\n",
    "    differences = [(x-y)**2 for x, y in zip(predictions, labels)]\n",
    "    return sum(differences) / len(differences)\n",
    "\n",
    "\n",
    "alwaysPredictMean = [mu for _ in interactionsTest]\n",
    "labels = [r for _, _, r in interactionsTest]\n",
    "\n",
    "MSE(alwaysPredictMean, labels)\n"
   ]
  },
  {
   "cell_type": "code",
   "execution_count": 72,
   "metadata": {},
   "outputs": [],
   "source": [
    "biasOnlyPredictions = \\\n",
    "    [modelBiasOnly(torch.LongTensor([userIDs[u]]),\n",
    "                   torch.LongTensor([itemIDs[i]])).item() for u, i, _ in interactionsTest]\n"
   ]
  },
  {
   "cell_type": "code",
   "execution_count": 73,
   "metadata": {},
   "outputs": [
    {
     "data": {
      "text/plain": [
       "3.7933297157287598"
      ]
     },
     "execution_count": 73,
     "metadata": {},
     "output_type": "execute_result"
    }
   ],
   "source": [
    "biasOnlyPredictions[0]\n"
   ]
  },
  {
   "cell_type": "code",
   "execution_count": 74,
   "metadata": {},
   "outputs": [
    {
     "data": {
      "text/plain": [
       "1.001839570283527"
      ]
     },
     "execution_count": 74,
     "metadata": {},
     "output_type": "execute_result"
    }
   ],
   "source": [
    "MSE(biasOnlyPredictions, labels)\n"
   ]
  },
  {
   "cell_type": "markdown",
   "metadata": {},
   "source": [
    "### 5.2 (`TensorFlow` Implementation)"
   ]
  },
  {
   "cell_type": "markdown",
   "metadata": {},
   "source": [
    "Performance of a complete latent factor model (the latent factor model implementation is as the same as LatentFactorMOdel in the examples above)"
   ]
  },
  {
   "cell_type": "code",
   "execution_count": 75,
   "metadata": {},
   "outputs": [],
   "source": [
    "class LatentFactorModel(tf.keras.Model):\n",
    "    def __init__(self, mu, K, lamb):\n",
    "        super(LatentFactorModel, self).__init__()\n",
    "        # Initialize to average\n",
    "        self.alpha = tf.Variable(mu)\n",
    "        # Initialize to small random values\n",
    "        self.betaU = tf.Variable(\n",
    "            tf.random.normal([len(userIDs)], stddev=0.001))\n",
    "        self.betaI = tf.Variable(\n",
    "            tf.random.normal([len(itemIDs)], stddev=0.001))\n",
    "        self.gammaU = tf.Variable(tf.random.normal(\n",
    "            [len(userIDs), K], stddev=0.001))\n",
    "        self.gammaI = tf.Variable(tf.random.normal(\n",
    "            [len(itemIDs), K], stddev=0.001))\n",
    "        self.lamb = lamb\n",
    "\n",
    "    # Prediction for a single instance (useful for evaluation)\n",
    "    def predict(self, u, i):\n",
    "        p = self.alpha + self.betaU[u] + self.betaI[i] +\\\n",
    "            tf.tensordot(self.gammaU[u], self.gammaI[i], 1)\n",
    "        return p\n",
    "\n",
    "    # Regularizer\n",
    "    def reg(self):\n",
    "        return self.lamb * (tf.reduce_sum(self.betaU**2) +\n",
    "                            tf.reduce_sum(self.betaI**2) +\n",
    "                            tf.reduce_sum(self.gammaU**2) +\n",
    "                            tf.reduce_sum(self.gammaI**2))\n",
    "\n",
    "    # Prediction for a sample of instances\n",
    "    def predictSample(self, sampleU, sampleI):\n",
    "        u = tf.convert_to_tensor(sampleU, dtype=tf.int32)\n",
    "        i = tf.convert_to_tensor(sampleI, dtype=tf.int32)\n",
    "        beta_u = tf.nn.embedding_lookup(self.betaU, u)\n",
    "        beta_i = tf.nn.embedding_lookup(self.betaI, i)\n",
    "        gamma_u = tf.nn.embedding_lookup(self.gammaU, u)\n",
    "        gamma_i = tf.nn.embedding_lookup(self.gammaI, i)\n",
    "        pred = self.alpha + beta_u + beta_i +\\\n",
    "            tf.reduce_sum(tf.multiply(gamma_u, gamma_i), 1)\n",
    "        return pred\n",
    "\n",
    "    # Loss\n",
    "    def call(self, sampleU, sampleI, sampleR):\n",
    "        pred = self.predictSample(sampleU, sampleI)\n",
    "        r = tf.convert_to_tensor(sampleR, dtype=tf.float32)\n",
    "        return tf.nn.l2_loss(pred - r) / len(sampleR)\n",
    "\n",
    "\n",
    "def trainingStep(model, interactions):\n",
    "    Nsamples = 50000\n",
    "    with tf.GradientTape() as tape:\n",
    "        sampleU, sampleI, sampleR = [], [], []\n",
    "        for _ in range(Nsamples):\n",
    "            u, i, r = random.choice(interactions)\n",
    "            sampleU.append(userIDs[u])\n",
    "            sampleI.append(itemIDs[i])\n",
    "            sampleR.append(r)\n",
    "\n",
    "        loss = model(sampleU, sampleI, sampleR)\n",
    "        loss += model.reg()\n",
    "    gradients = tape.gradient(loss, model.trainable_variables)\n",
    "    optimizer.apply_gradients((grad, var) for\n",
    "                              (grad, var) in zip(\n",
    "                                  gradients, model.trainable_variables)\n",
    "                              if grad is not None)\n",
    "    return loss.numpy()\n",
    "\n",
    "\n",
    "optimizer = tf.keras.optimizers.Adam(0.1)\n",
    "modelLFM = LatentFactorModel(mu, 10, 0.00001)\n"
   ]
  },
  {
   "cell_type": "code",
   "execution_count": 76,
   "metadata": {},
   "outputs": [
    {
     "name": "stdout",
     "output_type": "stream",
     "text": [
      "iteration 10, objective = 0.5405107\n",
      "iteration 20, objective = 0.523776\n",
      "iteration 30, objective = 0.53565085\n",
      "iteration 40, objective = 0.5329913\n",
      "iteration 50, objective = 0.53082687\n"
     ]
    }
   ],
   "source": [
    "for i in range(50):\n",
    "    obj = trainingStep(modelLFM, interactionsTrain)\n",
    "    if (i % 10 == 9):\n",
    "        print(\"iteration \" + str(i+1) + \", objective = \" + str(obj))\n"
   ]
  },
  {
   "cell_type": "code",
   "execution_count": 77,
   "metadata": {},
   "outputs": [],
   "source": [
    "predictions = [modelLFM.predict(userIDs[u], itemIDs[i]).numpy()\n",
    "               for u, i, _ in interactionsTest]\n"
   ]
  },
  {
   "cell_type": "code",
   "execution_count": 78,
   "metadata": {},
   "outputs": [
    {
     "data": {
      "text/plain": [
       "1.022115720965297"
      ]
     },
     "execution_count": 78,
     "metadata": {},
     "output_type": "execute_result"
    }
   ],
   "source": [
    "MSE(predictions, labels)\n"
   ]
  },
  {
   "cell_type": "markdown",
   "metadata": {},
   "source": [
    "(probably needs a little more tuning in terms of number of latent factors, learning rate, etc.)"
   ]
  },
  {
   "cell_type": "markdown",
   "metadata": {},
   "source": [
    "### 5.2 (`PyTorch` Implementation)\n",
    "Performance of a complete latent factor model (the latent factor model implementation is as the same as LatentFactorMOdel in the examples above)"
   ]
  },
  {
   "cell_type": "code",
   "execution_count": 79,
   "metadata": {},
   "outputs": [
    {
     "name": "stdout",
     "output_type": "stream",
     "text": [
      "iteration 10, loss = 0.5724738836288452\n",
      "iteration 20, loss = 0.5555902719497681\n",
      "iteration 30, loss = 0.5478214621543884\n",
      "iteration 40, loss = 0.5373783707618713\n",
      "iteration 50, loss = 0.5360277891159058\n"
     ]
    }
   ],
   "source": [
    "class LatentFactorModel(nn.Module):\n",
    "    def __init__(self, mu, K, lamb):\n",
    "        super(LatentFactorModel, self).__init__()\n",
    "        # Initialize to average\n",
    "        self.alpha = nn.Parameter(torch.Tensor([mu]))\n",
    "        # Initialize to small random values\n",
    "        self.betaU = nn.Embedding(len(userIDs), 1)\n",
    "        nn.init.normal_(self.betaU.weight, std=0.001)\n",
    "        self.betaI = nn.Embedding(len(itemIDs), 1)\n",
    "        nn.init.normal_(self.betaI.weight, std=0.001)\n",
    "        self.gammaU = nn.Embedding(len(userIDs), K)\n",
    "        nn.init.normal_(self.gammaU.weight, std=0.001)\n",
    "        self.gammaI = nn.Embedding(len(itemIDs), K)\n",
    "        nn.init.normal_(self.gammaI.weight, std=0.001)\n",
    "        self.lamb = lamb\n",
    "\n",
    "    # Prediction\n",
    "    def forward(self, u, i):\n",
    "        p = self.alpha + self.betaU(u).squeeze(-1) + self.betaI(i).squeeze(-1) + \\\n",
    "            (self.gammaU(u) * self.gammaI(i)).sum(dim=-1)\n",
    "        return p\n",
    "\n",
    "    # Regularizer\n",
    "    def reg(self):\n",
    "        return self.lamb * (torch.sum(self.betaU.weight**2) +\n",
    "                            torch.sum(self.betaI.weight**2) +\n",
    "                            torch.sum(self.gammaU.weight**2) +\n",
    "                            torch.sum(self.gammaI.weight**2))\n",
    "\n",
    "    # Loss\n",
    "    def loss(self, u, i, r):\n",
    "        pred = self.forward(u, i)\n",
    "        # match l2_loss in tensorflow (i.e., sum(x**2) / 2)\n",
    "        return nn.functional.mse_loss(pred, r) / 2 + self.reg()\n",
    "\n",
    "\n",
    "modelLFM = LatentFactorModel(mu, 10, 0.00001)\n",
    "optimizer = torch.optim.Adam(modelLFM.parameters(), lr=0.1)\n",
    "\n",
    "\n",
    "def trainingStep(model, interactions):\n",
    "    # gradient reset\n",
    "    optimizer.zero_grad()\n",
    "    # data generation\n",
    "    Nsamples = 50000\n",
    "    sampleU, sampleI, sampleR = [], [], []\n",
    "    for _ in range(Nsamples):\n",
    "        u, i, r = random.choice(interactions)\n",
    "        sampleU.append(userIDs[u])\n",
    "        sampleI.append(itemIDs[i])\n",
    "        sampleR.append(r)\n",
    "    sampleU, sampleI, sampleR = torch.LongTensor(\n",
    "        sampleU), torch.LongTensor(sampleI), torch.Tensor(sampleR)\n",
    "    # loss calculation\n",
    "    loss = model.loss(sampleU, sampleI, sampleR)\n",
    "    # gradient calculation\n",
    "    loss.backward()\n",
    "    # weight update\n",
    "    optimizer.step()\n",
    "    return loss.item()\n",
    "\n",
    "\n",
    "for i in range(50):\n",
    "    loss = trainingStep(modelLFM, interactionsTrain)\n",
    "    if (i % 10 == 9):\n",
    "        print(\"iteration \" + str(i+1) + \", loss = \" + str(loss))\n"
   ]
  },
  {
   "cell_type": "code",
   "execution_count": 80,
   "metadata": {},
   "outputs": [
    {
     "data": {
      "text/plain": [
       "1.0284807624281143"
      ]
     },
     "execution_count": 80,
     "metadata": {},
     "output_type": "execute_result"
    }
   ],
   "source": [
    "predictions = [modelLFM(torch.LongTensor([userIDs[u]]), torch.LongTensor(\n",
    "    [itemIDs[i]])).item() for u, i, _ in interactionsTest]\n",
    "MSE(predictions, labels)\n"
   ]
  },
  {
   "cell_type": "markdown",
   "metadata": {},
   "source": [
    "### 5.3"
   ]
  },
  {
   "cell_type": "markdown",
   "metadata": {},
   "source": [
    "Experiment with rounding the predictions"
   ]
  },
  {
   "cell_type": "code",
   "execution_count": 81,
   "metadata": {},
   "outputs": [],
   "source": [
    "predictionsRounded = [int(p + 0.5) for p in predictions]\n"
   ]
  },
  {
   "cell_type": "code",
   "execution_count": 82,
   "metadata": {},
   "outputs": [
    {
     "data": {
      "text/plain": [
       "1.1147066415901463"
      ]
     },
     "execution_count": 82,
     "metadata": {},
     "output_type": "execute_result"
    }
   ],
   "source": [
    "MSE(predictionsRounded, labels)\n"
   ]
  },
  {
   "cell_type": "markdown",
   "metadata": {},
   "source": [
    "Seems to result in worse performance. For a rough explanation, consider a random variable that takes a value of \"1\" half the time and \"2\" half the time; in terms of the MSE, always predicting 1.5 (and always incurring moderate errors) is preferable to always predicting either of 1 or 2 (and incurring a large error half the time)."
   ]
  },
  {
   "cell_type": "markdown",
   "metadata": {},
   "source": [
    "### 5.4 (`TensorFlow` Implementation)"
   ]
  },
  {
   "cell_type": "markdown",
   "metadata": {},
   "source": [
    "Following the BPR code from examples above"
   ]
  },
  {
   "cell_type": "code",
   "execution_count": 83,
   "metadata": {},
   "outputs": [],
   "source": [
    "class BPRbatch(tf.keras.Model):\n",
    "    def __init__(self, K, lamb):\n",
    "        super(BPRbatch, self).__init__()\n",
    "        # Initialize variables\n",
    "        self.betaI = tf.Variable(\n",
    "            tf.random.normal([len(itemIDs)], stddev=0.001))\n",
    "        self.gammaU = tf.Variable(tf.random.normal(\n",
    "            [len(userIDs), K], stddev=0.001))\n",
    "        self.gammaI = tf.Variable(tf.random.normal(\n",
    "            [len(itemIDs), K], stddev=0.001))\n",
    "        # Regularization coefficient\n",
    "        self.lamb = lamb\n",
    "\n",
    "    # Prediction for a single instance\n",
    "    def predict(self, u, i):\n",
    "        p = self.betaI[i] + tf.tensordot(self.gammaU[u], self.gammaI[i], 1)\n",
    "        return p\n",
    "\n",
    "    # Regularizer\n",
    "    def reg(self):\n",
    "        return self.lamb * (tf.nn.l2_loss(self.betaI) +\n",
    "                            tf.nn.l2_loss(self.gammaU) +\n",
    "                            tf.nn.l2_loss(self.gammaI))\n",
    "\n",
    "    def score(self, sampleU, sampleI):\n",
    "        u = tf.convert_to_tensor(sampleU, dtype=tf.int32)\n",
    "        i = tf.convert_to_tensor(sampleI, dtype=tf.int32)\n",
    "        beta_i = tf.nn.embedding_lookup(self.betaI, i)\n",
    "        gamma_u = tf.nn.embedding_lookup(self.gammaU, u)\n",
    "        gamma_i = tf.nn.embedding_lookup(self.gammaI, i)\n",
    "        x_ui = beta_i + tf.reduce_sum(tf.multiply(gamma_u, gamma_i), 1)\n",
    "        return x_ui\n",
    "\n",
    "    def call(self, sampleU, sampleI, sampleJ):\n",
    "        x_ui = self.score(sampleU, sampleI)\n",
    "        x_uj = self.score(sampleU, sampleJ)\n",
    "        return -tf.reduce_mean(tf.math.log(tf.math.sigmoid(x_ui - x_uj)))\n",
    "\n",
    "\n",
    "def trainingStepBPR(model, interactions):\n",
    "    Nsamples = 50000\n",
    "    with tf.GradientTape() as tape:\n",
    "        sampleU, sampleI, sampleJ = [], [], []\n",
    "        for _ in range(Nsamples):\n",
    "            u, i, _ = random.choice(interactions)  # positive sample\n",
    "            j = random.choice(items)  # negative sample\n",
    "            while j in itemsPerUser[u]:\n",
    "                j = random.choice(items)\n",
    "            sampleU.append(userIDs[u])\n",
    "            sampleI.append(itemIDs[i])\n",
    "            sampleJ.append(itemIDs[j])\n",
    "\n",
    "        loss = model(sampleU, sampleI, sampleJ)\n",
    "        loss += model.reg()\n",
    "    gradients = tape.gradient(loss, model.trainable_variables)\n",
    "    optimizer.apply_gradients((grad, var) for\n",
    "                              (grad, var) in zip(\n",
    "                                  gradients, model.trainable_variables)\n",
    "                              if grad is not None)\n",
    "    return loss.numpy()\n",
    "\n",
    "\n",
    "optimizer = tf.keras.optimizers.Adam(0.1)\n",
    "modelBPR = BPRbatch(10, 0.00001)\n"
   ]
  },
  {
   "cell_type": "code",
   "execution_count": 84,
   "metadata": {},
   "outputs": [
    {
     "name": "stdout",
     "output_type": "stream",
     "text": [
      "iteration 10, objective = 0.5254287\n",
      "iteration 20, objective = 0.48577458\n",
      "iteration 30, objective = 0.48419735\n",
      "iteration 40, objective = 0.48588872\n",
      "iteration 50, objective = 0.48943776\n"
     ]
    }
   ],
   "source": [
    "for i in range(50):\n",
    "    obj = trainingStepBPR(modelBPR, interactionsTrain)\n",
    "    if (i % 10 == 9):\n",
    "        print(\"iteration \" + str(i+1) + \", objective = \" + str(obj))\n"
   ]
  },
  {
   "cell_type": "code",
   "execution_count": 85,
   "metadata": {},
   "outputs": [],
   "source": [
    "interactionsTestPerUser = defaultdict(set)\n",
    "itemSet = set()\n",
    "for u, i, _ in interactionsTest:\n",
    "    interactionsTestPerUser[u].add(i)\n",
    "    itemSet.add(i)\n"
   ]
  },
  {
   "cell_type": "markdown",
   "metadata": {},
   "source": [
    "AUC implementation"
   ]
  },
  {
   "cell_type": "code",
   "execution_count": 86,
   "metadata": {},
   "outputs": [],
   "source": [
    "def AUCu(u, N):  # N samples per user\n",
    "    win = 0\n",
    "    if N > len(interactionsTestPerUser[u]):\n",
    "        N = len(interactionsTestPerUser[u])\n",
    "    positive = random.sample(interactionsTestPerUser[u], N)\n",
    "    negative = random.sample(itemSet.difference(interactionsTestPerUser[u]), N)\n",
    "    for i, j in zip(positive, negative):\n",
    "        si = modelBPR.predict(userIDs[u], itemIDs[i]).numpy()\n",
    "        sj = modelBPR.predict(userIDs[u], itemIDs[j]).numpy()\n",
    "        if si > sj:\n",
    "            win += 1\n",
    "    return win/N\n"
   ]
  },
  {
   "cell_type": "code",
   "execution_count": 87,
   "metadata": {},
   "outputs": [],
   "source": [
    "def AUC():\n",
    "    av = []\n",
    "    for u in interactionsTestPerUser:\n",
    "        av.append(AUCu(u, 10))\n",
    "    return sum(av) / len(av)\n"
   ]
  },
  {
   "cell_type": "code",
   "execution_count": 88,
   "metadata": {},
   "outputs": [
    {
     "data": {
      "text/plain": [
       "0.7919068070383867"
      ]
     },
     "execution_count": 88,
     "metadata": {},
     "output_type": "execute_result"
    }
   ],
   "source": [
    "AUC()\n"
   ]
  },
  {
   "cell_type": "markdown",
   "metadata": {},
   "source": [
    "### 5.4 (`PyTorch` Implementation)"
   ]
  },
  {
   "cell_type": "code",
   "execution_count": 89,
   "metadata": {},
   "outputs": [
    {
     "name": "stdout",
     "output_type": "stream",
     "text": [
      "iteration 10, loss = 0.5562138557434082\n",
      "iteration 20, loss = 0.5252612829208374\n",
      "iteration 30, loss = 0.5091630816459656\n",
      "iteration 40, loss = 0.5088016986846924\n",
      "iteration 50, loss = 0.5018982887268066\n"
     ]
    }
   ],
   "source": [
    "class BPRbatch(nn.Module):\n",
    "    def __init__(self, K, lamb):\n",
    "        super(BPRbatch, self).__init__()\n",
    "        # Initialize to small random values\n",
    "        self.betaI = nn.Embedding(len(itemIDs), 1)\n",
    "        nn.init.normal_(self.betaI.weight, std=0.001)\n",
    "        self.gammaU = nn.Embedding(len(userIDs), K)\n",
    "        nn.init.normal_(self.gammaU.weight, std=0.001)\n",
    "        self.gammaI = nn.Embedding(len(itemIDs), K)\n",
    "        nn.init.normal_(self.gammaI.weight, std=0.001)\n",
    "        self.lamb = lamb\n",
    "\n",
    "    # Prediction\n",
    "    def forward(self, u, i):\n",
    "        p = self.betaI(i).squeeze(-1) + (self.gammaU(u)\n",
    "                                         * self.gammaI(i)).sum(dim=-1)\n",
    "        return p\n",
    "\n",
    "    # Regularizer\n",
    "    def reg(self):\n",
    "        return self.lamb * (torch.sum(self.betaI.weight**2) / 2 +\n",
    "                            torch.sum(self.gammaU.weight**2) / 2 +\n",
    "                            torch.sum(self.gammaI.weight**2) / 2)  # match l2_loss in tensorflow (i.e., sum(x**2) / 2)\n",
    "\n",
    "    # Loss\n",
    "    def loss(self, u, i, j):\n",
    "        x_ui = self.forward(u, i)\n",
    "        x_uj = self.forward(u, j)\n",
    "        return - torch.sigmoid(x_ui - x_uj).log().mean() + self.reg()\n",
    "\n",
    "\n",
    "modelBPR = BPRbatch(10, 0.00001)\n",
    "optimizer = torch.optim.Adam(modelBPR.parameters(), lr=0.1)\n",
    "\n",
    "\n",
    "def trainingStepBPR(model, interactions):\n",
    "    # gradient reset\n",
    "    optimizer.zero_grad()\n",
    "    # data generation\n",
    "    Nsamples = 50000\n",
    "    sampleU, sampleI, sampleJ = [], [], []\n",
    "    for _ in range(Nsamples):\n",
    "        u, i, _ = random.choice(interactions)  # positive sample\n",
    "        j = random.choice(items)  # negative sample\n",
    "        while j in itemsPerUser[u]:\n",
    "            j = random.choice(items)\n",
    "        sampleU.append(userIDs[u])\n",
    "        sampleI.append(itemIDs[i])\n",
    "        sampleJ.append(itemIDs[j])\n",
    "    sampleU, sampleI, sampleJ = torch.LongTensor(\n",
    "        sampleU), torch.LongTensor(sampleI), torch.LongTensor(sampleJ)\n",
    "    # loss calculation\n",
    "    loss = model.loss(sampleU, sampleI, sampleJ)\n",
    "    # gradient calculation\n",
    "    loss.backward()\n",
    "    # weight update\n",
    "    optimizer.step()\n",
    "    return loss.item()\n",
    "\n",
    "\n",
    "for i in range(50):\n",
    "    loss = trainingStepBPR(modelBPR, interactionsTrain)\n",
    "    if (i % 10 == 9):\n",
    "        print(\"iteration \" + str(i+1) + \", loss = \" + str(loss))\n"
   ]
  },
  {
   "cell_type": "code",
   "execution_count": 90,
   "metadata": {},
   "outputs": [],
   "source": [
    "interactionsTestPerUser = defaultdict(set)\n",
    "itemSet = set()\n",
    "for u, i, _ in interactionsTest:\n",
    "    interactionsTestPerUser[u].add(i)\n",
    "    itemSet.add(i)\n"
   ]
  },
  {
   "cell_type": "markdown",
   "metadata": {},
   "source": [
    "AUC Implementation"
   ]
  },
  {
   "cell_type": "code",
   "execution_count": 91,
   "metadata": {},
   "outputs": [],
   "source": [
    "def AUCu(u, N):  # N samples per user\n",
    "    win = 0\n",
    "    if N > len(interactionsTestPerUser[u]):\n",
    "        N = len(interactionsTestPerUser[u])\n",
    "    positive = random.sample(interactionsTestPerUser[u], N)\n",
    "    negative = random.sample(itemSet.difference(interactionsTestPerUser[u]), N)\n",
    "    for i, j in zip(positive, negative):\n",
    "        user, i, j = torch.LongTensor([userIDs[u]]), torch.LongTensor(\n",
    "            [itemIDs[i]]), torch.LongTensor([itemIDs[j]])\n",
    "        si = modelBPR(user, i).item()\n",
    "        sj = modelBPR(user, j).item()\n",
    "        if si > sj:\n",
    "            win += 1\n",
    "    return win/N\n"
   ]
  },
  {
   "cell_type": "code",
   "execution_count": 92,
   "metadata": {},
   "outputs": [],
   "source": [
    "def AUC():\n",
    "    av = []\n",
    "    for u in interactionsTestPerUser:\n",
    "        av.append(AUCu(u, 10))\n",
    "    return sum(av) / len(av)\n"
   ]
  },
  {
   "cell_type": "code",
   "execution_count": 93,
   "metadata": {},
   "outputs": [
    {
     "data": {
      "text/plain": [
       "0.7893403814456449"
      ]
     },
     "execution_count": 93,
     "metadata": {},
     "output_type": "execute_result"
    }
   ],
   "source": [
    "AUC()\n"
   ]
  },
  {
   "cell_type": "code",
   "execution_count": null,
   "metadata": {},
   "outputs": [],
   "source": []
  }
 ],
 "metadata": {
  "kernelspec": {
   "display_name": "Python 3",
   "language": "python",
   "name": "python3"
  },
  "language_info": {
   "codemirror_mode": {
    "name": "ipython",
    "version": 3
   },
   "file_extension": ".py",
   "mimetype": "text/x-python",
   "name": "python",
   "nbconvert_exporter": "python",
   "pygments_lexer": "ipython3",
   "version": "3.7.12"
  }
 },
 "nbformat": 4,
 "nbformat_minor": 2
}
