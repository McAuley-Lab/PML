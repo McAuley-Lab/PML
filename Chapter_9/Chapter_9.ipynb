{
 "cells": [
  {
   "cell_type": "code",
   "execution_count": 1,
   "metadata": {},
   "outputs": [],
   "source": [
    "import os\n",
    "import wget\n",
    "import array\n",
    "import gzip\n",
    "import matplotlib.pyplot as plt\n",
    "import random\n",
    "import tensorflow as tf\n",
    "import torch\n",
    "from torch import nn\n",
    "from collections import defaultdict\n",
    "from scipy.spatial import distance\n",
    "from sklearn.manifold import TSNE\n"
   ]
  },
  {
   "cell_type": "markdown",
   "metadata": {},
   "source": [
    "Data is available at http://cseweb.ucsd.edu/~jmcauley/pml/data/. \n",
    "- Download and save to your own directory.\n",
    "- Or, run following script to save it into `Chapter_9/data` folder automatically."
   ]
  },
  {
   "cell_type": "code",
   "execution_count": 2,
   "metadata": {},
   "outputs": [
    {
     "name": "stdout",
     "output_type": "stream",
     "text": [
      "Done!\n"
     ]
    }
   ],
   "source": [
    "filenames = [\n",
    "    'image_features_Baby.b',\n",
    "    'meta_Baby.json.gz',\n",
    "    'meta_Musical_Instruments.json.gz',\n",
    "    'image_features_Musical_Instruments.b',\n",
    "    'meta_Musical_Instruments.json.gz',\n",
    "]\n",
    "\n",
    "dataDir = './data'\n",
    "url = 'http://jmcauley.ucsd.edu/pml_data'\n",
    "\n",
    "if not os.path.exists(dataDir):\n",
    "    os.makedirs(dataDir)\n",
    "for filename in filenames:\n",
    "    wget.download(os.path.join(url, filename), out=dataDir)\n",
    "\n",
    "print(\"Done!\")\n"
   ]
  },
  {
   "cell_type": "markdown",
   "metadata": {},
   "source": [
    "# Visual compatibility model in `TensorFlow` and `PyTorch`"
   ]
  },
  {
   "cell_type": "markdown",
   "metadata": {},
   "source": [
    "This code reads image data in a specific binary format, described here: http://jmcauley.ucsd.edu/data/amazon/links.html"
   ]
  },
  {
   "cell_type": "code",
   "execution_count": 3,
   "metadata": {},
   "outputs": [],
   "source": [
    "def readImageFeatures(path):\n",
    "    f = open(path, 'rb')\n",
    "    while True:\n",
    "        asin = f.read(10).decode('utf-8')\n",
    "        if len(asin) < 10:\n",
    "            break\n",
    "        a = array.array('f')\n",
    "        a.fromfile(f, 4096)\n",
    "        yield str(asin), a.tolist()\n"
   ]
  },
  {
   "cell_type": "code",
   "execution_count": 4,
   "metadata": {},
   "outputs": [],
   "source": [
    "def parse(path):\n",
    "    g = gzip.open(path, 'r')\n",
    "    for l in g:\n",
    "        yield eval(l)\n"
   ]
  },
  {
   "cell_type": "markdown",
   "metadata": {},
   "source": [
    "## `TensorFlow` Implementation"
   ]
  },
  {
   "cell_type": "code",
   "execution_count": 5,
   "metadata": {},
   "outputs": [
    {
     "name": "stderr",
     "output_type": "stream",
     "text": [
      "2022-03-24 15:29:18.013495: E tensorflow/stream_executor/cuda/cuda_driver.cc:271] failed call to cuInit: CUDA_ERROR_NO_DEVICE: no CUDA-capable device is detected\n",
      "2022-03-24 15:29:18.013537: I tensorflow/stream_executor/cuda/cuda_diagnostics.cc:169] retrieving CUDA diagnostic information for host: Zhankui\n",
      "2022-03-24 15:29:18.013545: I tensorflow/stream_executor/cuda/cuda_diagnostics.cc:176] hostname: Zhankui\n",
      "2022-03-24 15:29:18.013666: I tensorflow/stream_executor/cuda/cuda_diagnostics.cc:200] libcuda reported version is: 470.103.1\n",
      "2022-03-24 15:29:18.013689: I tensorflow/stream_executor/cuda/cuda_diagnostics.cc:204] kernel reported version is: 470.103.1\n",
      "2022-03-24 15:29:18.013696: I tensorflow/stream_executor/cuda/cuda_diagnostics.cc:310] kernel version seems to match DSO: 470.103.1\n",
      "2022-03-24 15:29:18.014058: I tensorflow/core/platform/cpu_feature_guard.cc:151] This TensorFlow binary is optimized with oneAPI Deep Neural Network Library (oneDNN) to use the following CPU instructions in performance-critical operations:  AVX2 FMA\n",
      "To enable them in other operations, rebuild TensorFlow with the appropriate compiler flags.\n"
     ]
    }
   ],
   "source": [
    "X = []\n",
    "asinPos = {}\n",
    "\n",
    "for asin, f in readImageFeatures(os.path.join(dataDir, 'image_features_Baby.b')):\n",
    "    asinPos[asin] = len(X)\n",
    "    X.append(tf.constant(f, shape=[1, len(f)]))\n"
   ]
  },
  {
   "cell_type": "markdown",
   "metadata": {},
   "source": [
    "Extract metadata describing ground-truth compatibility relationships among items"
   ]
  },
  {
   "cell_type": "code",
   "execution_count": 6,
   "metadata": {},
   "outputs": [],
   "source": [
    "compat = []\n",
    "asinList = list(asinPos.keys())\n",
    "for l in parse(os.path.join(dataDir, 'meta_Baby.json.gz')):\n",
    "    a1 = l['asin']\n",
    "    if 'related' in l and 'also_bought' in l['related']:\n",
    "        for a2 in l['related']['also_bought']:\n",
    "            if a1 in asinPos and a2 in asinPos:\n",
    "                compat.append((asinPos[a1], asinPos[a2], 1))\n",
    "                compat.append((random.randint(0, len(X)-1),\n",
    "                              random.randint(0, len(X)-1), 0))\n"
   ]
  },
  {
   "cell_type": "markdown",
   "metadata": {},
   "source": [
    "Number of compatible pairs"
   ]
  },
  {
   "cell_type": "code",
   "execution_count": 7,
   "metadata": {},
   "outputs": [
    {
     "data": {
      "text/plain": [
       "1698622"
      ]
     },
     "execution_count": 7,
     "metadata": {},
     "output_type": "execute_result"
    }
   ],
   "source": [
    "len(compat)\n"
   ]
  },
  {
   "cell_type": "code",
   "execution_count": 8,
   "metadata": {},
   "outputs": [],
   "source": [
    "featDim = X[0].shape[1]  # Image feature dimensionality\n",
    "styleDim = 5  # Dimensionality of compressed (projected) representations\n"
   ]
  },
  {
   "cell_type": "code",
   "execution_count": 9,
   "metadata": {},
   "outputs": [
    {
     "data": {
      "text/plain": [
       "4096"
      ]
     },
     "execution_count": 9,
     "metadata": {},
     "output_type": "execute_result"
    }
   ],
   "source": [
    "featDim\n"
   ]
  },
  {
   "cell_type": "markdown",
   "metadata": {},
   "source": [
    "Define the compatibility model"
   ]
  },
  {
   "cell_type": "code",
   "execution_count": 10,
   "metadata": {},
   "outputs": [],
   "source": [
    "optimizer = tf.keras.optimizers.Adam(0.00001)\n"
   ]
  },
  {
   "cell_type": "code",
   "execution_count": 11,
   "metadata": {},
   "outputs": [],
   "source": [
    "class CompatibilityModel(tf.keras.Model):\n",
    "    def __init__(self, featDim, styleDim):\n",
    "        super(CompatibilityModel, self).__init__()\n",
    "        self.E1 = tf.Variable(tf.random.normal(\n",
    "            [featDim, styleDim], stddev=0.001))\n",
    "        self.E2 = tf.Variable(tf.random.normal(\n",
    "            [featDim, styleDim], stddev=0.001))\n",
    "        self.c = tf.Variable(0.0)\n",
    "\n",
    "    def predict(self, x1, x2):\n",
    "        s1 = tf.matmul(x1, self.E1)\n",
    "        s2 = tf.matmul(x2, self.E2)\n",
    "        return tf.math.sigmoid(self.c - tf.reduce_sum(tf.math.squared_difference(s1, s2)))\n",
    "\n",
    "    def call(self, x1, x2, y):\n",
    "        return -tf.math.log(self.predict(x1, x2)*(2*y - 1) - y + 1)\n",
    "\n",
    "\n",
    "model = CompatibilityModel(featDim, styleDim)\n"
   ]
  },
  {
   "cell_type": "code",
   "execution_count": 12,
   "metadata": {},
   "outputs": [],
   "source": [
    "def trainingStep(compat):\n",
    "    with tf.GradientTape() as tape:\n",
    "        (i1, i2, y) = random.choice(compat)\n",
    "        x1, x2 = X[i1], X[i2]\n",
    "        objective = model(x1, x2, y)\n",
    "    gradients = tape.gradient(objective, model.trainable_variables)\n",
    "    optimizer.apply_gradients(zip(gradients, model.trainable_variables))\n",
    "    return objective.numpy()\n"
   ]
  },
  {
   "cell_type": "code",
   "execution_count": 13,
   "metadata": {},
   "outputs": [
    {
     "name": "stdout",
     "output_type": "stream",
     "text": [
      "iteration 5000, objective = 0.7239198\n",
      "iteration 10000, objective = 0.57909244\n",
      "iteration 15000, objective = 0.75466865\n",
      "iteration 20000, objective = 0.2868323\n",
      "iteration 25000, objective = 1.1394196\n",
      "iteration 30000, objective = 0.461419\n",
      "iteration 35000, objective = 0.7189325\n",
      "iteration 40000, objective = 0.52887386\n",
      "iteration 45000, objective = 0.13579811\n",
      "iteration 50000, objective = 0.79994273\n"
     ]
    }
   ],
   "source": [
    "for i in range(50000):\n",
    "    obj = trainingStep(compat)\n",
    "    if (i % 5000 == 4999):\n",
    "        print(\"iteration \" + str(i+1) + \", objective = \" + str(obj))\n"
   ]
  },
  {
   "cell_type": "markdown",
   "metadata": {},
   "source": [
    "# Exercises"
   ]
  },
  {
   "cell_type": "markdown",
   "metadata": {},
   "source": [
    "### 9.1"
   ]
  },
  {
   "cell_type": "markdown",
   "metadata": {},
   "source": [
    "For these exercises we use musical instrument data; we do so because (a) it has fine-grained subcategories (e.g. \"accessories\", \"guitars\", etc.) which can be used for these exercises; and (b) because it is small. These exercises might ideally be run with a large category of (e.g.) clothing images, though such datasets are larger and more difficult to work with."
   ]
  },
  {
   "cell_type": "markdown",
   "metadata": {},
   "source": [
    "First collect the subcategories associated with each item (for use in Exercise 9.3)"
   ]
  },
  {
   "cell_type": "code",
   "execution_count": 14,
   "metadata": {},
   "outputs": [],
   "source": [
    "categories = dict()\n",
    "itemsPerCategory = defaultdict(set)\n",
    "for l in parse(os.path.join(dataDir, 'meta_Musical_Instruments.json.gz')):\n",
    "    cats = l['categories'][0]\n",
    "    if len(cats) < 2:\n",
    "        continue\n",
    "    # Extract the \"second level\" (or sub-) category, for products that have them (ignore others)\n",
    "    cat = cats[1]\n",
    "    categories[l['asin']] = cat\n",
    "    itemsPerCategory[cat].add(l['asin'])\n"
   ]
  },
  {
   "cell_type": "markdown",
   "metadata": {},
   "source": [
    "Read image data"
   ]
  },
  {
   "cell_type": "code",
   "execution_count": 15,
   "metadata": {},
   "outputs": [],
   "source": [
    "X = []\n",
    "asinPos = {}\n",
    "posPerCategory = defaultdict(set)\n",
    "\n",
    "for asin, f in readImageFeatures(os.path.join(dataDir, 'image_features_Musical_Instruments.b')):\n",
    "    if not asin in categories:  # Skip items for which we don't have a category\n",
    "        continue\n",
    "    asinPos[asin] = len(X)\n",
    "    posPerCategory[categories[asin]].add(asinPos[asin])\n",
    "    X.append(tf.constant(f, shape=[1, len(f)]))\n"
   ]
  },
  {
   "cell_type": "markdown",
   "metadata": {},
   "source": [
    "Extract compatibility relationships. Build our collection of \"difficult\" negatives consisting of items from the same category."
   ]
  },
  {
   "cell_type": "code",
   "execution_count": 16,
   "metadata": {},
   "outputs": [],
   "source": [
    "compat = []\n",
    "asinList = list(asinPos.keys())\n",
    "for l in parse(os.path.join(dataDir, 'meta_Musical_Instruments.json.gz')):\n",
    "    a1 = l['asin']\n",
    "    if not a1 in categories:\n",
    "        continue\n",
    "    cat = categories[a1]\n",
    "    if 'related' in l and 'also_bought' in l['related']:\n",
    "        for a2 in l['related']['also_bought']:\n",
    "            if not a2 in categories or categories[a2] != cat:\n",
    "                continue  # Only consider positive relations of the same category\n",
    "            if a1 in asinPos and a2 in asinPos:\n",
    "                compat.append((asinPos[a1], asinPos[a2], 1))\n",
    "                negSameCat = random.sample(posPerCategory[cat], 1)[0]\n",
    "                compat.append((asinPos[a1], negSameCat, 0))\n"
   ]
  },
  {
   "cell_type": "code",
   "execution_count": 17,
   "metadata": {},
   "outputs": [
    {
     "data": {
      "text/plain": [
       "809528"
      ]
     },
     "execution_count": 17,
     "metadata": {},
     "output_type": "execute_result"
    }
   ],
   "source": [
    "len(compat)\n"
   ]
  },
  {
   "cell_type": "code",
   "execution_count": 18,
   "metadata": {},
   "outputs": [],
   "source": [
    "featDim = X[0].shape[1]  # Image feature dimensionality\n",
    "styleDim = 5  # Dimensionality of compressed (projected) representations\n"
   ]
  },
  {
   "cell_type": "code",
   "execution_count": 19,
   "metadata": {},
   "outputs": [],
   "source": [
    "optimizer = tf.keras.optimizers.Adam(0.00001)\n"
   ]
  },
  {
   "cell_type": "code",
   "execution_count": 20,
   "metadata": {},
   "outputs": [],
   "source": [
    "class CompatibilityModel(tf.keras.Model):\n",
    "    def __init__(self, featDim, styleDim):\n",
    "        super(CompatibilityModel, self).__init__()\n",
    "        self.E1 = tf.Variable(tf.random.normal(\n",
    "            [featDim, styleDim], stddev=0.001))\n",
    "        self.E2 = tf.Variable(tf.random.normal(\n",
    "            [featDim, styleDim], stddev=0.001))\n",
    "        self.c = tf.Variable(0.0)\n",
    "\n",
    "    def predict(self, x1, x2):\n",
    "        s1 = tf.matmul(x1, self.E1)\n",
    "        s2 = tf.matmul(x2, self.E2)\n",
    "        return tf.math.sigmoid(self.c - tf.reduce_sum(tf.math.squared_difference(s1, s2)))\n",
    "\n",
    "    def call(self, x1, x2, y):\n",
    "        return -tf.math.log(self.predict(x1, x2)*(2*y - 1) - y + 1)\n"
   ]
  },
  {
   "cell_type": "markdown",
   "metadata": {},
   "source": [
    "### 9.2 / 9.3"
   ]
  },
  {
   "cell_type": "markdown",
   "metadata": {},
   "source": [
    "Modify the model to compute similarity based on the inner product rather than Euclidean distance"
   ]
  },
  {
   "cell_type": "code",
   "execution_count": 21,
   "metadata": {},
   "outputs": [],
   "source": [
    "class CompatibilityModelInner(tf.keras.Model):\n",
    "    def __init__(self, featDim, styleDim):\n",
    "        super(CompatibilityModel, self).__init__()\n",
    "        self.E1 = tf.Variable(tf.random.normal(\n",
    "            [featDim, styleDim], stddev=0.001))\n",
    "        self.E2 = tf.Variable(tf.random.normal(\n",
    "            [featDim, styleDim], stddev=0.001))\n",
    "        self.c = tf.Variable(0.0)\n",
    "\n",
    "    def predict(self, x1, x2):\n",
    "        s1 = tf.matmul(x1, self.E1)\n",
    "        s2 = tf.matmul(x2, self.E2)\n",
    "        return tf.math.sigmoid(self.c + tf.tensordot(s1, s2, 1))\n",
    "\n",
    "    def call(self, x1, x2, y):\n",
    "        return -tf.math.log(self.predict(x1, x2)*(2*y - 1) - y + 1)\n"
   ]
  },
  {
   "cell_type": "markdown",
   "metadata": {},
   "source": [
    "Compare models based on the inner product and Euclidean distance. Both make use of \"difficult\" negatives (Exercise 9.3)"
   ]
  },
  {
   "cell_type": "code",
   "execution_count": 22,
   "metadata": {},
   "outputs": [],
   "source": [
    "model1 = CompatibilityModel(featDim, styleDim)\n",
    "model2 = CompatibilityModel(featDim, styleDim)\n"
   ]
  },
  {
   "cell_type": "code",
   "execution_count": 23,
   "metadata": {},
   "outputs": [],
   "source": [
    "def trainingStep(model, compat):\n",
    "    with tf.GradientTape() as tape:\n",
    "        (i1, i2, y) = random.choice(compat)\n",
    "        x1, x2 = X[i1], X[i2]\n",
    "        objective = model(x1, x2, y)\n",
    "    gradients = tape.gradient(objective, model.trainable_variables)\n",
    "    optimizer.apply_gradients(zip(gradients, model.trainable_variables))\n",
    "    return objective.numpy()\n"
   ]
  },
  {
   "cell_type": "code",
   "execution_count": 24,
   "metadata": {},
   "outputs": [],
   "source": [
    "random.shuffle(compat)\n"
   ]
  },
  {
   "cell_type": "code",
   "execution_count": 25,
   "metadata": {},
   "outputs": [],
   "source": [
    "compatTrain = compat[:700000]\n",
    "compatTest = compat[700000:]\n"
   ]
  },
  {
   "cell_type": "code",
   "execution_count": 26,
   "metadata": {},
   "outputs": [
    {
     "name": "stdout",
     "output_type": "stream",
     "text": [
      "iteration 5000, objective = 0.7674893\n",
      "iteration 10000, objective = 0.78953576\n",
      "iteration 15000, objective = 0.58010614\n",
      "iteration 20000, objective = 0.71493345\n",
      "iteration 25000, objective = 0.795738\n",
      "iteration 30000, objective = 0.87193996\n",
      "iteration 35000, objective = 0.48919448\n",
      "iteration 40000, objective = 0.17854594\n",
      "iteration 45000, objective = 0.54287994\n",
      "iteration 50000, objective = 0.981735\n"
     ]
    }
   ],
   "source": [
    "for i in range(50000):\n",
    "    obj = trainingStep(model1, compatTrain)\n",
    "    if (i % 5000 == 4999):\n",
    "        print(\"iteration \" + str(i+1) + \", objective = \" + str(obj))\n"
   ]
  },
  {
   "cell_type": "code",
   "execution_count": 27,
   "metadata": {},
   "outputs": [
    {
     "name": "stdout",
     "output_type": "stream",
     "text": [
      "iteration 5000, objective = 0.8080462\n",
      "iteration 10000, objective = 0.58923113\n",
      "iteration 15000, objective = 0.8187968\n",
      "iteration 20000, objective = 0.31714982\n",
      "iteration 25000, objective = 0.117897294\n",
      "iteration 30000, objective = 0.13508478\n",
      "iteration 35000, objective = 0.73516166\n",
      "iteration 40000, objective = 0.840213\n",
      "iteration 45000, objective = 0.31883702\n",
      "iteration 50000, objective = 0.80575603\n"
     ]
    }
   ],
   "source": [
    "for i in range(50000):\n",
    "    obj = trainingStep(model2, compatTrain)\n",
    "    if (i % 5000 == 4999):\n",
    "        print(\"iteration \" + str(i+1) + \", objective = \" + str(obj))\n"
   ]
  },
  {
   "cell_type": "markdown",
   "metadata": {},
   "source": [
    "Compute accuracy (what fraction of positive relationships were predicted as positive)"
   ]
  },
  {
   "cell_type": "code",
   "execution_count": 28,
   "metadata": {},
   "outputs": [
    {
     "data": {
      "text/plain": [
       "0.8190782265722008"
      ]
     },
     "execution_count": 28,
     "metadata": {},
     "output_type": "execute_result"
    }
   ],
   "source": [
    "acc = 0\n",
    "\n",
    "for (i1, i2, y) in compatTest:\n",
    "    x1, x2 = X[i1], X[i2]\n",
    "    p = model1(x1, x2, y)\n",
    "    if (p.numpy() > 0.5) == (y == 1):\n",
    "        acc += 1\n",
    "\n",
    "acc / len(compatTest)\n"
   ]
  },
  {
   "cell_type": "code",
   "execution_count": 29,
   "metadata": {},
   "outputs": [
    {
     "data": {
      "text/plain": [
       "0.7875246512307356"
      ]
     },
     "execution_count": 29,
     "metadata": {},
     "output_type": "execute_result"
    }
   ],
   "source": [
    "acc = 0\n",
    "\n",
    "for (i1, i2, y) in compatTest:\n",
    "    x1, x2 = X[i1], X[i2]\n",
    "    p = model2(x1, x2, y)\n",
    "    if (p.numpy() > 0.5) == (y == 1):\n",
    "        acc += 1\n",
    "\n",
    "acc / len(compatTest)\n"
   ]
  },
  {
   "cell_type": "markdown",
   "metadata": {},
   "source": [
    "### 9.4"
   ]
  },
  {
   "cell_type": "markdown",
   "metadata": {},
   "source": [
    "t-SNE embedding"
   ]
  },
  {
   "cell_type": "code",
   "execution_count": 30,
   "metadata": {},
   "outputs": [],
   "source": [
    "Xembed = []\n",
    "\n",
    "for asin in asinList:\n",
    "    i = asinPos[asin]\n",
    "    x = X[i]\n",
    "    embedded = list(tf.matmul(x, model1.E1).numpy()[0])\n",
    "    Xembed.append(embedded)\n"
   ]
  },
  {
   "cell_type": "code",
   "execution_count": 31,
   "metadata": {},
   "outputs": [
    {
     "name": "stderr",
     "output_type": "stream",
     "text": [
      "/home/zhankui/anaconda3/envs/pml/lib/python3.7/site-packages/sklearn/manifold/_t_sne.py:783: FutureWarning: The default initialization in TSNE will change from 'random' to 'pca' in 1.2.\n",
      "  FutureWarning,\n",
      "/home/zhankui/anaconda3/envs/pml/lib/python3.7/site-packages/sklearn/manifold/_t_sne.py:793: FutureWarning: The default learning rate in TSNE will change from 200.0 to 'auto' in 1.2.\n",
      "  FutureWarning,\n"
     ]
    }
   ],
   "source": [
    "Xembed2 = TSNE(n_components=2).fit_transform(Xembed)\n"
   ]
  },
  {
   "cell_type": "code",
   "execution_count": 32,
   "metadata": {},
   "outputs": [],
   "source": [
    "scatterPlotsX = defaultdict(list)\n",
    "scatterPlotsY = defaultdict(list)\n",
    "for xy, asin in zip(Xembed2, asinList):\n",
    "    if asin in categories:\n",
    "        cat = categories[asin]\n",
    "        try:\n",
    "            scatterPlotsX[cat].append(xy[0])\n",
    "            scatterPlotsY[cat].append(xy[1])\n",
    "        except Exception as e:\n",
    "            pass\n"
   ]
  },
  {
   "cell_type": "markdown",
   "metadata": {},
   "source": [
    "Scatterplots by subcategory aren't particularly interesting in this case. Try e.g. price or brand for more compelling examples."
   ]
  },
  {
   "cell_type": "code",
   "execution_count": 33,
   "metadata": {},
   "outputs": [
    {
     "data": {
      "image/png": "[encoded data removed]",
      "text/plain": [
       "<Figure size 432x288 with 1 Axes>"
      ]
     },
     "metadata": {},
     "output_type": "display_data"
    },
    {
     "data": {
      "image/png": "[encoded data removed]",
      "text/plain": [
       "<Figure size 432x288 with 1 Axes>"
      ]
     },
     "metadata": {},
     "output_type": "display_data"
    },
    {
     "data": {
      "image/png": "[encoded data removed]",
      "text/plain": [
       "<Figure size 432x288 with 1 Axes>"
      ]
     },
     "metadata": {},
     "output_type": "display_data"
    }
   ],
   "source": [
    "for cat in ['Instrument Accessories', 'Stringed Instruments', 'Guitars']:\n",
    "    plt.scatter(scatterPlotsX[cat],\n",
    "                scatterPlotsY[cat], color='lightgrey', lw=0, label=cat)\n",
    "    plt.legend(loc='lower left')\n",
    "    plt.xticks([])\n",
    "    plt.yticks([])\n",
    "    plt.xlabel(\"first embedded dimension \")\n",
    "    plt.ylabel(\"second embedded dimension\")\n",
    "    plt.title(\"\\emph{TSNE}-based item embeddings\")\n",
    "    plt.show()\n"
   ]
  },
  {
   "cell_type": "markdown",
   "metadata": {},
   "source": [
    "## `PyTorch` Implementation"
   ]
  },
  {
   "cell_type": "code",
   "execution_count": 34,
   "metadata": {},
   "outputs": [],
   "source": [
    "X = []\n",
    "asinPos = {}\n",
    "\n",
    "for asin, f in readImageFeatures(os.path.join(dataDir, 'image_features_Baby.b')):\n",
    "    asinPos[asin] = len(X)\n",
    "    X.append(torch.Tensor([f]))\n"
   ]
  },
  {
   "cell_type": "markdown",
   "metadata": {},
   "source": [
    "Extract metadata describing ground-truth compatibility relationships among items"
   ]
  },
  {
   "cell_type": "code",
   "execution_count": 35,
   "metadata": {},
   "outputs": [],
   "source": [
    "compat = []\n",
    "asinList = list(asinPos.keys())\n",
    "for l in parse(os.path.join(dataDir, 'meta_Baby.json.gz')):\n",
    "    a1 = l['asin']\n",
    "    if 'related' in l and 'also_bought' in l['related']:\n",
    "        for a2 in l['related']['also_bought']:\n",
    "            if a1 in asinPos and a2 in asinPos:\n",
    "                compat.append((asinPos[a1], asinPos[a2], 1))\n",
    "                compat.append((random.randint(0, len(X)-1),\n",
    "                              random.randint(0, len(X)-1), 0))\n"
   ]
  },
  {
   "cell_type": "markdown",
   "metadata": {},
   "source": [
    "Number of compatible pairs"
   ]
  },
  {
   "cell_type": "code",
   "execution_count": 36,
   "metadata": {},
   "outputs": [
    {
     "data": {
      "text/plain": [
       "1698622"
      ]
     },
     "execution_count": 36,
     "metadata": {},
     "output_type": "execute_result"
    }
   ],
   "source": [
    "len(compat)\n"
   ]
  },
  {
   "cell_type": "markdown",
   "metadata": {},
   "source": [
    "Image and representation dimensionality"
   ]
  },
  {
   "cell_type": "code",
   "execution_count": 37,
   "metadata": {},
   "outputs": [
    {
     "data": {
      "text/plain": [
       "(4096, 5)"
      ]
     },
     "execution_count": 37,
     "metadata": {},
     "output_type": "execute_result"
    }
   ],
   "source": [
    "featDim = X[0].shape[1]  # Image feature dimensionality\n",
    "styleDim = 5  # Dimensionality of compressed (projected) representations\n",
    "\n",
    "featDim, styleDim\n"
   ]
  },
  {
   "cell_type": "markdown",
   "metadata": {},
   "source": [
    "Define the compatibility model"
   ]
  },
  {
   "cell_type": "code",
   "execution_count": 38,
   "metadata": {},
   "outputs": [],
   "source": [
    "class CompatibilityModel(nn.Module):\n",
    "    def __init__(self, featDim, styleDim):\n",
    "        super(CompatibilityModel, self).__init__()\n",
    "        self.E1 = nn.Linear(featDim, styleDim, bias=False)\n",
    "        nn.init.normal_(self.E1.weight, std=0.001)\n",
    "        self.E2 = nn.Linear(featDim, styleDim, bias=False)\n",
    "        nn.init.normal_(self.E2.weight, std=0.001)\n",
    "        self.c = nn.Parameter(torch.Tensor([0.0]))\n",
    "\n",
    "    def forward(self, x1, x2):\n",
    "        s1 = self.E1(x1)\n",
    "        s2 = self.E2(x2)\n",
    "        p = (self.c - ((s1-s2)**2).sum(dim=-1)).sigmoid()\n",
    "        return p\n",
    "\n",
    "    def loss(self, x1, x2, y):\n",
    "        return -(self.forward(x1, x2)*(2*y - 1) - y + 1).log().mean()\n",
    "\n",
    "\n",
    "model = CompatibilityModel(featDim, styleDim)\n",
    "optimizer = torch.optim.Adam(model.parameters(), lr=0.00001)\n"
   ]
  },
  {
   "cell_type": "code",
   "execution_count": 39,
   "metadata": {},
   "outputs": [],
   "source": [
    "def trainingStep(model, compat, optimizer):\n",
    "    # gradient reset\n",
    "    optimizer.zero_grad()\n",
    "    # data generation\n",
    "    (i1, i2, y) = random.choice(compat)\n",
    "    x1, x2 = X[i1], X[i2]\n",
    "    y = torch.Tensor([y])\n",
    "    # loss calculation\n",
    "    loss = model.loss(x1, x2, y)\n",
    "    # gradient calculation\n",
    "    loss.backward()\n",
    "    # weight update\n",
    "    optimizer.step()\n",
    "    return loss.item()\n"
   ]
  },
  {
   "cell_type": "code",
   "execution_count": 40,
   "metadata": {},
   "outputs": [
    {
     "name": "stdout",
     "output_type": "stream",
     "text": [
      "iteration 5000, loss = 0.6941077709197998\n",
      "iteration 10000, loss = 0.5178741812705994\n",
      "iteration 15000, loss = 0.7304853796958923\n",
      "iteration 20000, loss = 0.6167329549789429\n",
      "iteration 25000, loss = 0.5481924414634705\n",
      "iteration 30000, loss = 0.7128235101699829\n",
      "iteration 35000, loss = 0.9252533912658691\n",
      "iteration 40000, loss = 0.8074054718017578\n",
      "iteration 45000, loss = 1.0964837074279785\n",
      "iteration 50000, loss = 0.49173736572265625\n"
     ]
    }
   ],
   "source": [
    "for i in range(50000):\n",
    "    loss = trainingStep(model, compat, optimizer)\n",
    "    if (i % 5000 == 4999):\n",
    "        print(\"iteration \" + str(i+1) + \", loss = \" + str(loss))\n"
   ]
  },
  {
   "cell_type": "markdown",
   "metadata": {},
   "source": [
    "# Exercises"
   ]
  },
  {
   "cell_type": "markdown",
   "metadata": {},
   "source": [
    "### 9.1\n",
    "\n",
    "For these exercises we use musical instrument data; we do so because (a) it has fine-grained subcategories (e.g. \"accessories\", \"guitars\", etc.) which can be used for these exercises; and (b) because it is small. These exercises might ideally be run with a large category of (e.g.) clothing images, though such datasets are larger and more difficult to work with.\n",
    "\n",
    "First collect the subcategories associated with each item (for use in Exercise 9.3)"
   ]
  },
  {
   "cell_type": "code",
   "execution_count": 41,
   "metadata": {},
   "outputs": [],
   "source": [
    "categories = dict()\n",
    "itemsPerCategory = defaultdict(set)\n",
    "for l in parse(os.path.join(dataDir, 'meta_Musical_Instruments.json.gz')):\n",
    "    cats = l['categories'][0]\n",
    "    if len(cats) < 2:\n",
    "        continue\n",
    "    # Extract the \"second level\" (or sub-) category, for products that have them (ignore others)\n",
    "    cat = cats[1]\n",
    "    categories[l['asin']] = cat\n",
    "    itemsPerCategory[cat].add(l['asin'])\n"
   ]
  },
  {
   "cell_type": "markdown",
   "metadata": {},
   "source": [
    "Read image data"
   ]
  },
  {
   "cell_type": "code",
   "execution_count": 42,
   "metadata": {},
   "outputs": [],
   "source": [
    "X = []\n",
    "asinPos = {}\n",
    "posPerCategory = defaultdict(set)\n",
    "\n",
    "for asin, f in readImageFeatures(os.path.join(dataDir, 'image_features_Musical_Instruments.b')):\n",
    "    if not asin in categories:  # Skip items for which we don't have a category\n",
    "        continue\n",
    "    asinPos[asin] = len(X)\n",
    "    posPerCategory[categories[asin]].add(asinPos[asin])\n",
    "    X.append(torch.Tensor([f]))\n"
   ]
  },
  {
   "cell_type": "markdown",
   "metadata": {},
   "source": [
    "Extract compatibility relationships. Build our collection of \"difficult\" negatives consisting of items from the same category."
   ]
  },
  {
   "cell_type": "code",
   "execution_count": 43,
   "metadata": {},
   "outputs": [
    {
     "data": {
      "text/plain": [
       "809528"
      ]
     },
     "execution_count": 43,
     "metadata": {},
     "output_type": "execute_result"
    }
   ],
   "source": [
    "compat = []\n",
    "asinList = list(asinPos.keys())\n",
    "for l in parse(os.path.join(dataDir, 'meta_Musical_Instruments.json.gz')):\n",
    "    a1 = l['asin']\n",
    "    if not a1 in categories:\n",
    "        continue\n",
    "    cat = categories[a1]\n",
    "    if 'related' in l and 'also_bought' in l['related']:\n",
    "        for a2 in l['related']['also_bought']:\n",
    "            if not a2 in categories or categories[a2] != cat:\n",
    "                continue  # Only consider positive relations of the same category\n",
    "            if a1 in asinPos and a2 in asinPos:\n",
    "                compat.append((asinPos[a1], asinPos[a2], 1))\n",
    "                negSameCat = random.sample(posPerCategory[cat], 1)[0]\n",
    "                compat.append((asinPos[a1], negSameCat, 0))\n",
    "\n",
    "len(compat)\n"
   ]
  },
  {
   "cell_type": "code",
   "execution_count": 44,
   "metadata": {},
   "outputs": [],
   "source": [
    "featDim = X[0].shape[1]  # Image feature dimensionality\n",
    "styleDim = 5  # Dimensionality of compressed (projected) representations\n"
   ]
  },
  {
   "cell_type": "markdown",
   "metadata": {},
   "source": [
    "### 9.2 / 9.3\n",
    "\n",
    "Modify the model to compute similarity based on the inner product rather than Euclidean distance"
   ]
  },
  {
   "cell_type": "code",
   "execution_count": 45,
   "metadata": {},
   "outputs": [],
   "source": [
    "class CompatibilityModelInner(nn.Module):\n",
    "    def __init__(self, featDim, styleDim):\n",
    "        super(CompatibilityModelInner, self).__init__()\n",
    "        self.E1 = nn.Linear(featDim, styleDim, bias=False)\n",
    "        nn.init.normal_(self.E1.weight, std=0.001)\n",
    "        self.E2 = nn.Linear(featDim, styleDim, bias=False)\n",
    "        nn.init.normal_(self.E2.weight, std=0.001)\n",
    "        self.c = nn.Parameter(torch.Tensor([0.0]))\n",
    "\n",
    "    def forward(self, x1, x2):\n",
    "        s1 = self.E1(x1)\n",
    "        s2 = self.E2(x2)\n",
    "        p = (self.c + (s1*s2).sum(dim=-1)).sigmoid()\n",
    "        return p\n",
    "\n",
    "    def loss(self, x1, x2, y):\n",
    "        return -(self.forward(x1, x2)*(2*y - 1) - y + 1).log().mean()\n"
   ]
  },
  {
   "cell_type": "code",
   "execution_count": 46,
   "metadata": {},
   "outputs": [],
   "source": [
    "model1 = CompatibilityModel(featDim, styleDim)\n",
    "optimizer1 = torch.optim.Adam(model.parameters(), lr=0.00001)\n",
    "\n",
    "model2 = CompatibilityModelInner(featDim, styleDim)\n",
    "optimizer2 = torch.optim.Adam(model.parameters(), lr=0.00001)\n"
   ]
  },
  {
   "cell_type": "code",
   "execution_count": 47,
   "metadata": {},
   "outputs": [],
   "source": [
    "random.shuffle(compat)\n",
    "\n",
    "compatTrain = compat[:700000]\n",
    "compatTest = compat[700000:]\n"
   ]
  },
  {
   "cell_type": "code",
   "execution_count": 48,
   "metadata": {},
   "outputs": [
    {
     "name": "stdout",
     "output_type": "stream",
     "text": [
      "iteration 5000, loss = 0.8099606037139893\n",
      "iteration 10000, loss = 0.7251449823379517\n",
      "iteration 15000, loss = 0.7361866235733032\n",
      "iteration 20000, loss = 0.6583056449890137\n",
      "iteration 25000, loss = 0.6860982179641724\n",
      "iteration 30000, loss = 0.7321298122406006\n",
      "iteration 35000, loss = 0.7298062443733215\n",
      "iteration 40000, loss = 0.7608926296234131\n",
      "iteration 45000, loss = 0.7123979926109314\n",
      "iteration 50000, loss = 0.720145583152771\n"
     ]
    }
   ],
   "source": [
    "for i in range(50000):\n",
    "    loss = trainingStep(model1, compatTrain, optimizer1)\n",
    "    if (i % 5000 == 4999):\n",
    "        print(\"iteration \" + str(i+1) + \", loss = \" + str(loss))\n"
   ]
  },
  {
   "cell_type": "code",
   "execution_count": 49,
   "metadata": {},
   "outputs": [
    {
     "name": "stdout",
     "output_type": "stream",
     "text": [
      "iteration 5000, loss = 0.696386456489563\n",
      "iteration 10000, loss = 0.6946598887443542\n",
      "iteration 15000, loss = 0.6978219151496887\n",
      "iteration 20000, loss = 0.6959386467933655\n",
      "iteration 25000, loss = 0.6885499954223633\n",
      "iteration 30000, loss = 0.6953397989273071\n",
      "iteration 35000, loss = 0.6996220946311951\n",
      "iteration 40000, loss = 0.6909065246582031\n",
      "iteration 45000, loss = 0.6967208981513977\n",
      "iteration 50000, loss = 0.6856837272644043\n"
     ]
    }
   ],
   "source": [
    "for i in range(50000):\n",
    "    loss = trainingStep(model2, compatTrain, optimizer2)\n",
    "    if (i % 5000 == 4999):\n",
    "        print(\"iteration \" + str(i+1) + \", loss = \" + str(loss))\n"
   ]
  },
  {
   "cell_type": "markdown",
   "metadata": {},
   "source": [
    "Compute accuracy (what fraction of positive relationships were predicted as positive)"
   ]
  },
  {
   "cell_type": "code",
   "execution_count": 50,
   "metadata": {},
   "outputs": [
    {
     "data": {
      "text/plain": [
       "0.4997900080344752"
      ]
     },
     "execution_count": 50,
     "metadata": {},
     "output_type": "execute_result"
    }
   ],
   "source": [
    "acc = 0\n",
    "\n",
    "for (i1, i2, y) in compatTest:\n",
    "    x1, x2 = X[i1], X[i2]\n",
    "    p = model1(x1, x2)\n",
    "    if (p.item() > 0.5) == (y == 1):\n",
    "        acc += 1\n",
    "\n",
    "acc / len(compatTest)\n"
   ]
  },
  {
   "cell_type": "code",
   "execution_count": 51,
   "metadata": {},
   "outputs": [
    {
     "data": {
      "text/plain": [
       "0.4939284931706961"
      ]
     },
     "execution_count": 51,
     "metadata": {},
     "output_type": "execute_result"
    }
   ],
   "source": [
    "acc = 0\n",
    "\n",
    "for (i1, i2, y) in compatTest:\n",
    "    x1, x2 = X[i1], X[i2]\n",
    "    p = model2(x1, x2)\n",
    "    if (p.item() > 0.5) == (y == 1):\n",
    "        acc += 1\n",
    "\n",
    "acc / len(compatTest)\n"
   ]
  },
  {
   "cell_type": "markdown",
   "metadata": {},
   "source": [
    "### 9.4\n",
    "\n",
    "t-SNE embedding"
   ]
  },
  {
   "cell_type": "code",
   "execution_count": 52,
   "metadata": {},
   "outputs": [
    {
     "name": "stderr",
     "output_type": "stream",
     "text": [
      "/home/zhankui/anaconda3/envs/pml/lib/python3.7/site-packages/sklearn/manifold/_t_sne.py:783: FutureWarning: The default initialization in TSNE will change from 'random' to 'pca' in 1.2.\n",
      "  FutureWarning,\n",
      "/home/zhankui/anaconda3/envs/pml/lib/python3.7/site-packages/sklearn/manifold/_t_sne.py:793: FutureWarning: The default learning rate in TSNE will change from 200.0 to 'auto' in 1.2.\n",
      "  FutureWarning,\n"
     ]
    }
   ],
   "source": [
    "Xembed = []\n",
    "\n",
    "for asin in asinList:\n",
    "    i = asinPos[asin]\n",
    "    x = X[i]\n",
    "    embedded = list(model1.E1(x).detach().numpy()[0])\n",
    "    Xembed.append(embedded)\n",
    "\n",
    "Xembed2 = TSNE(n_components=2).fit_transform(Xembed)\n"
   ]
  },
  {
   "cell_type": "code",
   "execution_count": 53,
   "metadata": {},
   "outputs": [
    {
     "data": {
      "image/png": "[encoded data removed]",
      "text/plain": [
       "<Figure size 432x288 with 1 Axes>"
      ]
     },
     "metadata": {},
     "output_type": "display_data"
    },
    {
     "data": {
      "image/png": "[encoded data removed]",
      "text/plain": [
       "<Figure size 432x288 with 1 Axes>"
      ]
     },
     "metadata": {},
     "output_type": "display_data"
    },
    {
     "data": {
      "image/png": "[encoded data removed]",
      "text/plain": [
       "<Figure size 432x288 with 1 Axes>"
      ]
     },
     "metadata": {},
     "output_type": "display_data"
    }
   ],
   "source": [
    "scatterPlotsX = defaultdict(list)\n",
    "scatterPlotsY = defaultdict(list)\n",
    "for xy, asin in zip(Xembed2, asinList):\n",
    "    if asin in categories:\n",
    "        cat = categories[asin]\n",
    "        try:\n",
    "            scatterPlotsX[cat].append(xy[0])\n",
    "            scatterPlotsY[cat].append(xy[1])\n",
    "        except Exception as e:\n",
    "            pass\n",
    "\n",
    "for cat in ['Instrument Accessories', 'Stringed Instruments', 'Guitars']:\n",
    "    plt.scatter(scatterPlotsX[cat],\n",
    "                scatterPlotsY[cat], color='lightgrey', lw=0, label=cat)\n",
    "    plt.legend(loc='lower left')\n",
    "    plt.xticks([])\n",
    "    plt.yticks([])\n",
    "    plt.xlabel(\"first embedded dimension \")\n",
    "    plt.ylabel(\"second embedded dimension\")\n",
    "    plt.title(\"\\emph{TSNE}-based item embeddings\")\n",
    "    plt.show()\n"
   ]
  }
 ],
 "metadata": {
  "kernelspec": {
   "display_name": "Python 3",
   "language": "python",
   "name": "python3"
  },
  "language_info": {
   "codemirror_mode": {
    "name": "ipython",
    "version": 3
   },
   "file_extension": ".py",
   "mimetype": "text/x-python",
   "name": "python",
   "nbconvert_exporter": "python",
   "pygments_lexer": "ipython3",
   "version": "3.7.12"
  }
 },
 "nbformat": 4,
 "nbformat_minor": 2
}
