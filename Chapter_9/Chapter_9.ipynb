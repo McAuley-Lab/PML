{
 "cells": [
  {
   "cell_type": "code",
   "execution_count": 2,
   "metadata": {},
   "outputs": [],
   "source": [
    "import os \n",
    "import wget\n",
    "import array\n",
    "import gzip\n",
    "import matplotlib.pyplot as plt\n",
    "import random\n",
    "import tensorflow as tf\n",
    "from collections import defaultdict\n",
    "from scipy.spatial import distance\n",
    "from sklearn.manifold import TSNE"
   ]
  },
  {
   "cell_type": "markdown",
   "metadata": {},
   "source": [
    "Data is available at http://cseweb.ucsd.edu/~jmcauley/pml/data/. \n",
    "- Download and save to your own directory.\n",
    "- Or, run following script to save it into `Chapter_9/data` folder automatically."
   ]
  },
  {
   "cell_type": "code",
   "execution_count": 3,
   "metadata": {},
   "outputs": [
    {
     "name": "stdout",
     "output_type": "stream",
     "text": [
      "Done!\n"
     ]
    }
   ],
   "source": [
    "filenames = [\n",
    "    'image_features_Baby.b',\n",
    "    'meta_Baby.json.gz',\n",
    "    'meta_Musical_Instruments.json.gz',\n",
    "    'image_features_Musical_Instruments.b',\n",
    "    'meta_Musical_Instruments.json.gz',\n",
    "]\n",
    "\n",
    "dataDir = './data'\n",
    "url = 'http://jmcauley.ucsd.edu/pml_data'\n",
    "\n",
    "if not os.path.exists(dataDir):\n",
    "    os.makedirs(dataDir)\n",
    "for filename in filenames:\n",
    "    wget.download(os.path.join(url, filename), out=dataDir)\n",
    "\n",
    "print(\"Done!\")"
   ]
  },
  {
   "cell_type": "markdown",
   "metadata": {},
   "source": [
    "# Visual compatibility model"
   ]
  },
  {
   "cell_type": "markdown",
   "metadata": {},
   "source": [
    "This code reads image data in a specific binary format, described here: http://jmcauley.ucsd.edu/data/amazon/links.html"
   ]
  },
  {
   "cell_type": "code",
   "execution_count": 4,
   "metadata": {},
   "outputs": [],
   "source": [
    "def readImageFeatures(path):\n",
    "    f = open(path, 'rb')\n",
    "    while True:\n",
    "        asin = f.read(10).decode('utf-8') \n",
    "        if len(asin) < 10: break\n",
    "        a = array.array('f')\n",
    "        a.fromfile(f, 4096)\n",
    "        yield str(asin), a.tolist()"
   ]
  },
  {
   "cell_type": "code",
   "execution_count": 5,
   "metadata": {},
   "outputs": [],
   "source": [
    "def parse(path):\n",
    "    g = gzip.open(path, 'r')\n",
    "    for l in g:\n",
    "        yield eval(l)"
   ]
  },
  {
   "cell_type": "code",
   "execution_count": 10,
   "metadata": {},
   "outputs": [
    {
     "name": "stderr",
     "output_type": "stream",
     "text": [
      "2022-03-19 09:14:21.122109: I tensorflow/stream_executor/cuda/cuda_gpu_executor.cc:936] successful NUMA node read from SysFS had negative value (-1), but there must be at least one NUMA node, so returning NUMA node zero\n",
      "2022-03-19 09:14:21.128868: I tensorflow/stream_executor/cuda/cuda_gpu_executor.cc:936] successful NUMA node read from SysFS had negative value (-1), but there must be at least one NUMA node, so returning NUMA node zero\n",
      "2022-03-19 09:14:21.129176: I tensorflow/stream_executor/cuda/cuda_gpu_executor.cc:936] successful NUMA node read from SysFS had negative value (-1), but there must be at least one NUMA node, so returning NUMA node zero\n",
      "2022-03-19 09:14:21.129705: I tensorflow/core/platform/cpu_feature_guard.cc:151] This TensorFlow binary is optimized with oneAPI Deep Neural Network Library (oneDNN) to use the following CPU instructions in performance-critical operations:  AVX2 FMA\n",
      "To enable them in other operations, rebuild TensorFlow with the appropriate compiler flags.\n",
      "2022-03-19 09:14:21.130269: I tensorflow/stream_executor/cuda/cuda_gpu_executor.cc:936] successful NUMA node read from SysFS had negative value (-1), but there must be at least one NUMA node, so returning NUMA node zero\n",
      "2022-03-19 09:14:21.130517: I tensorflow/stream_executor/cuda/cuda_gpu_executor.cc:936] successful NUMA node read from SysFS had negative value (-1), but there must be at least one NUMA node, so returning NUMA node zero\n",
      "2022-03-19 09:14:21.130750: I tensorflow/stream_executor/cuda/cuda_gpu_executor.cc:936] successful NUMA node read from SysFS had negative value (-1), but there must be at least one NUMA node, so returning NUMA node zero\n",
      "2022-03-19 09:14:21.529481: I tensorflow/stream_executor/cuda/cuda_gpu_executor.cc:936] successful NUMA node read from SysFS had negative value (-1), but there must be at least one NUMA node, so returning NUMA node zero\n",
      "2022-03-19 09:14:21.529750: I tensorflow/stream_executor/cuda/cuda_gpu_executor.cc:936] successful NUMA node read from SysFS had negative value (-1), but there must be at least one NUMA node, so returning NUMA node zero\n",
      "2022-03-19 09:14:21.529970: I tensorflow/stream_executor/cuda/cuda_gpu_executor.cc:936] successful NUMA node read from SysFS had negative value (-1), but there must be at least one NUMA node, so returning NUMA node zero\n",
      "2022-03-19 09:14:21.530175: I tensorflow/core/common_runtime/gpu/gpu_device.cc:1525] Created device /job:localhost/replica:0/task:0/device:GPU:0 with 401 MB memory:  -> device: 0, name: NVIDIA GeForce RTX 2080 SUPER, pci bus id: 0000:07:00.0, compute capability: 7.5\n"
     ]
    }
   ],
   "source": [
    "X = []\n",
    "asinPos = {}\n",
    "\n",
    "for asin, f in readImageFeatures(os.path.join(dataDir, 'image_features_Baby.b')):\n",
    "    asinPos[asin] = len(X)\n",
    "    X.append(tf.constant(f, shape=[1,len(f)]))"
   ]
  },
  {
   "cell_type": "markdown",
   "metadata": {},
   "source": [
    "Extract metadata describing ground-truth compatibility relationships among items"
   ]
  },
  {
   "cell_type": "code",
   "execution_count": null,
   "metadata": {},
   "outputs": [],
   "source": [
    "compat = []\n",
    "asinList = list(asinPos.keys())\n",
    "for l in parse(os.path.join(dataDir, 'meta_Baby.json.gz')):\n",
    "    a1 = l['asin']\n",
    "    if 'related' in l and 'also_bought' in l['related']:\n",
    "        for a2 in l['related']['also_bought']:\n",
    "            if a1 in asinPos and a2 in asinPos:\n",
    "                compat.append((asinPos[a1],asinPos[a2],1))\n",
    "                compat.append((random.randint(0, len(X)-1),random.randint(0, len(X)-1), 0))"
   ]
  },
  {
   "cell_type": "markdown",
   "metadata": {},
   "source": [
    "Number of compatible pairs"
   ]
  },
  {
   "cell_type": "code",
   "execution_count": null,
   "metadata": {},
   "outputs": [
    {
     "data": {
      "text/plain": [
       "1698622"
      ]
     },
     "execution_count": 7,
     "metadata": {},
     "output_type": "execute_result"
    }
   ],
   "source": [
    "len(compat)"
   ]
  },
  {
   "cell_type": "code",
   "execution_count": null,
   "metadata": {},
   "outputs": [],
   "source": [
    "featDim = X[0].shape[1] # Image feature dimensionality\n",
    "styleDim = 5 # Dimensionality of compressed (projected) representations"
   ]
  },
  {
   "cell_type": "code",
   "execution_count": null,
   "metadata": {},
   "outputs": [
    {
     "data": {
      "text/plain": [
       "4096"
      ]
     },
     "execution_count": 9,
     "metadata": {},
     "output_type": "execute_result"
    }
   ],
   "source": [
    "featDim"
   ]
  },
  {
   "cell_type": "markdown",
   "metadata": {},
   "source": [
    "Define the compatibility model"
   ]
  },
  {
   "cell_type": "code",
   "execution_count": null,
   "metadata": {},
   "outputs": [],
   "source": [
    "optimizer = tf.keras.optimizers.Adam(0.00001)"
   ]
  },
  {
   "cell_type": "code",
   "execution_count": null,
   "metadata": {},
   "outputs": [],
   "source": [
    "class CompatibilityModel(tf.keras.Model):\n",
    "    def __init__(self, featDim, styleDim):\n",
    "        super(CompatibilityModel, self).__init__()\n",
    "        self.E1 = tf.Variable(tf.random.normal([featDim,styleDim],stddev=0.001))\n",
    "        self.E2 = tf.Variable(tf.random.normal([featDim,styleDim],stddev=0.001))\n",
    "        self.c = tf.Variable(0.0)\n",
    "        \n",
    "    def predict(self, x1, x2):\n",
    "        s1 = tf.matmul(x1, self.E1)\n",
    "        s2 = tf.matmul(x2, self.E2)\n",
    "        return tf.math.sigmoid(self.c - tf.reduce_sum(tf.math.squared_difference(s1,s2)))\n",
    "\n",
    "    def call(self, x1, x2, y):\n",
    "        return -tf.math.log(self.predict(x1,x2)*(2*y - 1) - y + 1)\n",
    "\n",
    "model = CompatibilityModel(featDim, styleDim)"
   ]
  },
  {
   "cell_type": "code",
   "execution_count": null,
   "metadata": {},
   "outputs": [],
   "source": [
    "def trainingStep(compat):\n",
    "    with tf.GradientTape() as tape:\n",
    "        (i1,i2,y) = random.choice(compat)\n",
    "        x1,x2 = X[i1],X[i2]\n",
    "        objective = model(x1,x2,y)\n",
    "    gradients = tape.gradient(objective, model.trainable_variables)\n",
    "    optimizer.apply_gradients(zip(gradients, model.trainable_variables))\n",
    "    return objective.numpy()"
   ]
  },
  {
   "cell_type": "code",
   "execution_count": null,
   "metadata": {},
   "outputs": [
    {
     "name": "stdout",
     "output_type": "stream",
     "text": [
      "iteration 5000, objective = 0.51231325\n",
      "iteration 10000, objective = 0.6379045\n",
      "iteration 15000, objective = 0.7741432\n",
      "iteration 20000, objective = 0.7855767\n",
      "iteration 25000, objective = 0.46546566\n",
      "iteration 30000, objective = 0.4155722\n",
      "iteration 35000, objective = 0.7017366\n",
      "iteration 40000, objective = 0.83796984\n",
      "iteration 45000, objective = 0.66832584\n",
      "iteration 50000, objective = 0.41149664\n"
     ]
    }
   ],
   "source": [
    "for i in range(50000):\n",
    "    obj = trainingStep(compat)\n",
    "    if (i % 5000 == 4999): print(\"iteration \" + str(i+1) + \", objective = \" + str(obj))"
   ]
  },
  {
   "cell_type": "markdown",
   "metadata": {},
   "source": [
    "# Exercises"
   ]
  },
  {
   "cell_type": "markdown",
   "metadata": {},
   "source": [
    "### 9.1"
   ]
  },
  {
   "cell_type": "markdown",
   "metadata": {},
   "source": [
    "For these exercises we use musical instrument data; we do so because (a) it has fine-grained subcategories (e.g. \"accessories\", \"guitars\", etc.) which can be used for these exercises; and (b) because it is small. These exercises might ideally be run with a large category of (e.g.) clothing images, though such datasets are larger and more difficult to work with."
   ]
  },
  {
   "cell_type": "markdown",
   "metadata": {},
   "source": [
    "First collect the subcategories associated with each item (for use in Exercise 9.3)"
   ]
  },
  {
   "cell_type": "code",
   "execution_count": null,
   "metadata": {},
   "outputs": [],
   "source": [
    "categories = dict()\n",
    "itemsPerCategory = defaultdict(set)\n",
    "for l in parse(os.path.join(dataDir, 'meta_Musical_Instruments.json.gz')):\n",
    "    cats = l['categories'][0]\n",
    "    if len(cats) < 2:\n",
    "        continue\n",
    "    cat = cats[1] # Extract the \"second level\" (or sub-) category, for products that have them (ignore others)\n",
    "    categories[l['asin']] = cat\n",
    "    itemsPerCategory[cat].add(l['asin'])"
   ]
  },
  {
   "cell_type": "markdown",
   "metadata": {},
   "source": [
    "Read image data"
   ]
  },
  {
   "cell_type": "code",
   "execution_count": null,
   "metadata": {},
   "outputs": [],
   "source": [
    "X = []\n",
    "asinPos = {}\n",
    "posPerCategory = defaultdict(set)\n",
    "\n",
    "for asin, f in readImageFeatures(os.path.join(dataDir, 'image_features_Musical_Instruments.b')):\n",
    "    if not asin in categories: # Skip items for which we don't have a category\n",
    "        continue\n",
    "    asinPos[asin] = len(X)\n",
    "    posPerCategory[categories[asin]].add(asinPos[asin])\n",
    "    X.append(tf.constant(f, shape=[1,len(f)]))"
   ]
  },
  {
   "cell_type": "markdown",
   "metadata": {},
   "source": [
    "Extract compatibility relationships. Build our collection of \"difficult\" negatives consisting of items from the same category."
   ]
  },
  {
   "cell_type": "code",
   "execution_count": null,
   "metadata": {},
   "outputs": [],
   "source": [
    "compat = []\n",
    "asinList = list(asinPos.keys())\n",
    "for l in parse(os.path.join(dataDir, 'meta_Musical_Instruments.json.gz')):\n",
    "    a1 = l['asin']\n",
    "    if not a1 in categories:\n",
    "        continue\n",
    "    cat = categories[a1]\n",
    "    if 'related' in l and 'also_bought' in l['related']:\n",
    "        for a2 in l['related']['also_bought']:\n",
    "            if not a2 in categories or categories[a2] != cat:\n",
    "                continue # Only consider positive relations of the same category\n",
    "            if a1 in asinPos and a2 in asinPos:\n",
    "                compat.append((asinPos[a1],asinPos[a2],1))\n",
    "                negSameCat = random.sample(posPerCategory[cat],1)[0]\n",
    "                compat.append((asinPos[a1],negSameCat, 0))"
   ]
  },
  {
   "cell_type": "code",
   "execution_count": 7,
   "metadata": {},
   "outputs": [
    {
     "ename": "NameError",
     "evalue": "name 'compat' is not defined",
     "output_type": "error",
     "traceback": [
      "\u001b[0;31m---------------------------------------------------------------------------\u001b[0m",
      "\u001b[0;31mNameError\u001b[0m                                 Traceback (most recent call last)",
      "\u001b[0;32m/tmp/ipykernel_22485/2399936595.py\u001b[0m in \u001b[0;36m<module>\u001b[0;34m\u001b[0m\n\u001b[0;32m----> 1\u001b[0;31m \u001b[0mlen\u001b[0m\u001b[0;34m(\u001b[0m\u001b[0mcompat\u001b[0m\u001b[0;34m)\u001b[0m\u001b[0;34m\u001b[0m\u001b[0;34m\u001b[0m\u001b[0m\n\u001b[0m",
      "\u001b[0;31mNameError\u001b[0m: name 'compat' is not defined"
     ]
    }
   ],
   "source": [
    "len(compat)"
   ]
  },
  {
   "cell_type": "code",
   "execution_count": 8,
   "metadata": {},
   "outputs": [
    {
     "ename": "IndexError",
     "evalue": "list index out of range",
     "output_type": "error",
     "traceback": [
      "\u001b[0;31m---------------------------------------------------------------------------\u001b[0m",
      "\u001b[0;31mIndexError\u001b[0m                                Traceback (most recent call last)",
      "\u001b[0;32m/tmp/ipykernel_22485/2233372809.py\u001b[0m in \u001b[0;36m<module>\u001b[0;34m\u001b[0m\n\u001b[0;32m----> 1\u001b[0;31m \u001b[0mfeatDim\u001b[0m \u001b[0;34m=\u001b[0m \u001b[0mX\u001b[0m\u001b[0;34m[\u001b[0m\u001b[0;36m0\u001b[0m\u001b[0;34m]\u001b[0m\u001b[0;34m.\u001b[0m\u001b[0mshape\u001b[0m\u001b[0;34m[\u001b[0m\u001b[0;36m1\u001b[0m\u001b[0;34m]\u001b[0m \u001b[0;31m# Image feature dimensionality\u001b[0m\u001b[0;34m\u001b[0m\u001b[0;34m\u001b[0m\u001b[0m\n\u001b[0m\u001b[1;32m      2\u001b[0m \u001b[0mstyleDim\u001b[0m \u001b[0;34m=\u001b[0m \u001b[0;36m5\u001b[0m \u001b[0;31m# Dimensionality of compressed (projected) representations\u001b[0m\u001b[0;34m\u001b[0m\u001b[0;34m\u001b[0m\u001b[0m\n",
      "\u001b[0;31mIndexError\u001b[0m: list index out of range"
     ]
    }
   ],
   "source": [
    "featDim = X[0].shape[1] # Image feature dimensionality\n",
    "styleDim = 5 # Dimensionality of compressed (projected) representations"
   ]
  },
  {
   "cell_type": "code",
   "execution_count": 9,
   "metadata": {},
   "outputs": [],
   "source": [
    "optimizer = tf.keras.optimizers.Adam(0.00001)"
   ]
  },
  {
   "cell_type": "code",
   "execution_count": 20,
   "metadata": {},
   "outputs": [],
   "source": [
    "class CompatibilityModel(tf.keras.Model):\n",
    "    def __init__(self, featDim, styleDim):\n",
    "        super(CompatibilityModel, self).__init__()\n",
    "        self.E1 = tf.Variable(tf.random.normal([featDim,styleDim],stddev=0.001))\n",
    "        self.E2 = tf.Variable(tf.random.normal([featDim,styleDim],stddev=0.001))\n",
    "        self.c = tf.Variable(0.0)\n",
    "        \n",
    "    def predict(self, x1, x2):\n",
    "        s1 = tf.matmul(x1, self.E1)\n",
    "        s2 = tf.matmul(x2, self.E2)\n",
    "        return tf.math.sigmoid(self.c - tf.reduce_sum(tf.math.squared_difference(s1,s2)))\n",
    "\n",
    "    def call(self, x1, x2, y):\n",
    "        return -tf.math.log(self.predict(x1, x2)*(2*y - 1) - y + 1)"
   ]
  },
  {
   "cell_type": "markdown",
   "metadata": {},
   "source": [
    "### 9.2 / 9.3"
   ]
  },
  {
   "cell_type": "markdown",
   "metadata": {},
   "source": [
    "Modify the model to compute similarity based on the inner product rather than Euclidean distance"
   ]
  },
  {
   "cell_type": "code",
   "execution_count": 21,
   "metadata": {},
   "outputs": [],
   "source": [
    "class CompatibilityModelInner(tf.keras.Model):\n",
    "    def __init__(self, featDim, styleDim):\n",
    "        super(CompatibilityModel, self).__init__()\n",
    "        self.E1 = tf.Variable(tf.random.normal([featDim,styleDim],stddev=0.001))\n",
    "        self.E2 = tf.Variable(tf.random.normal([featDim,styleDim],stddev=0.001))\n",
    "        self.c = tf.Variable(0.0)\n",
    "        \n",
    "    def predict(self, x1, x2):\n",
    "        s1 = tf.matmul(x1, self.E1)\n",
    "        s2 = tf.matmul(x2, self.E2)\n",
    "        return tf.math.sigmoid(self.c + tf.tensordot(s1, s2, 1))\n",
    "\n",
    "    def call(self, x1, x2, y):\n",
    "        return -tf.math.log(self.predict(x1, x2)*(2*y - 1) - y + 1)"
   ]
  },
  {
   "cell_type": "markdown",
   "metadata": {},
   "source": [
    "Compare models based on the inner product and Euclidean distance. Both make use of \"difficult\" negatives (Exercise 9.3)"
   ]
  },
  {
   "cell_type": "code",
   "execution_count": 22,
   "metadata": {},
   "outputs": [],
   "source": [
    "model1 = CompatibilityModel(featDim, styleDim)\n",
    "model2 = CompatibilityModel(featDim, styleDim)"
   ]
  },
  {
   "cell_type": "code",
   "execution_count": 23,
   "metadata": {},
   "outputs": [],
   "source": [
    "def trainingStep(model, compat):\n",
    "    with tf.GradientTape() as tape:\n",
    "        (i1,i2,y) = random.choice(compat)\n",
    "        x1,x2 = X[i1],X[i2]\n",
    "        objective = model(x1,x2,y)\n",
    "    gradients = tape.gradient(objective, model.trainable_variables)\n",
    "    optimizer.apply_gradients(zip(gradients, model.trainable_variables))\n",
    "    return objective.numpy()"
   ]
  },
  {
   "cell_type": "code",
   "execution_count": 24,
   "metadata": {},
   "outputs": [],
   "source": [
    "random.shuffle(compat)"
   ]
  },
  {
   "cell_type": "code",
   "execution_count": 25,
   "metadata": {},
   "outputs": [],
   "source": [
    "compatTrain = compat[:700000]\n",
    "compatTest = compat[700000:]"
   ]
  },
  {
   "cell_type": "code",
   "execution_count": 26,
   "metadata": {},
   "outputs": [
    {
     "name": "stdout",
     "output_type": "stream",
     "text": [
      "iteration 5000, objective = 0.83570564\n",
      "iteration 10000, objective = 0.84522265\n",
      "iteration 15000, objective = 0.6948385\n",
      "iteration 20000, objective = 0.55048937\n",
      "iteration 25000, objective = 0.53180134\n",
      "iteration 30000, objective = 0.7649663\n",
      "iteration 35000, objective = 0.30317622\n",
      "iteration 40000, objective = 0.52734387\n",
      "iteration 45000, objective = 1.1975294\n",
      "iteration 50000, objective = 0.3939314\n"
     ]
    }
   ],
   "source": [
    "for i in range(50000):\n",
    "    obj = trainingStep(model1, compat)\n",
    "    if (i % 5000 == 4999): print(\"iteration \" + str(i+1) + \", objective = \" + str(obj))"
   ]
  },
  {
   "cell_type": "code",
   "execution_count": 27,
   "metadata": {},
   "outputs": [
    {
     "name": "stdout",
     "output_type": "stream",
     "text": [
      "iteration 5000, objective = 0.71674216\n",
      "iteration 10000, objective = 1.2483406\n",
      "iteration 15000, objective = 0.6968014\n",
      "iteration 20000, objective = 0.3971393\n",
      "iteration 25000, objective = 0.5065777\n",
      "iteration 30000, objective = 0.75319344\n",
      "iteration 35000, objective = 0.77804667\n",
      "iteration 40000, objective = 0.4195373\n",
      "iteration 45000, objective = 0.39572006\n",
      "iteration 50000, objective = 0.7114118\n"
     ]
    }
   ],
   "source": [
    "for i in range(50000):\n",
    "    obj = trainingStep(model2, compat)\n",
    "    if (i % 5000 == 4999): print(\"iteration \" + str(i+1) + \", objective = \" + str(obj))"
   ]
  },
  {
   "cell_type": "markdown",
   "metadata": {},
   "source": [
    "Compute accuracy (what fraction of positive relationships were predicted as positive)"
   ]
  },
  {
   "cell_type": "code",
   "execution_count": 28,
   "metadata": {},
   "outputs": [
    {
     "data": {
      "text/plain": [
       "0.8074738879555913"
      ]
     },
     "execution_count": 28,
     "metadata": {},
     "output_type": "execute_result"
    }
   ],
   "source": [
    "acc = 0\n",
    "\n",
    "for (i1,i2,y) in compatTest:\n",
    "    x1,x2 = X[i1],X[i2]\n",
    "    p = model1(x1,x2,y)\n",
    "    if (p.numpy() > 0.5) == (y == 1):\n",
    "        acc += 1\n",
    "\n",
    "acc / len(compatTest)"
   ]
  },
  {
   "cell_type": "code",
   "execution_count": 29,
   "metadata": {},
   "outputs": [
    {
     "data": {
      "text/plain": [
       "0.8218994229785991"
      ]
     },
     "execution_count": 29,
     "metadata": {},
     "output_type": "execute_result"
    }
   ],
   "source": [
    "acc = 0\n",
    "\n",
    "for (i1,i2,y) in compatTest:\n",
    "    x1,x2 = X[i1],X[i2]\n",
    "    p = model2(x1,x2,y)\n",
    "    if (p.numpy() > 0.5) == (y == 1):\n",
    "        acc += 1\n",
    "\n",
    "acc / len(compatTest)"
   ]
  },
  {
   "cell_type": "markdown",
   "metadata": {},
   "source": [
    "### 9.4"
   ]
  },
  {
   "cell_type": "markdown",
   "metadata": {},
   "source": [
    "t-SNE embedding"
   ]
  },
  {
   "cell_type": "code",
   "execution_count": 30,
   "metadata": {},
   "outputs": [],
   "source": [
    "Xembed = []\n",
    "\n",
    "for asin in asinList:\n",
    "    i = asinPos[asin]\n",
    "    x = X[i]\n",
    "    embedded = list(tf.matmul(x, model1.E1).numpy()[0])\n",
    "    Xembed.append(embedded)"
   ]
  },
  {
   "cell_type": "code",
   "execution_count": 31,
   "metadata": {},
   "outputs": [],
   "source": [
    "Xembed2 = TSNE(n_components=2).fit_transform(Xembed)"
   ]
  },
  {
   "cell_type": "code",
   "execution_count": 32,
   "metadata": {},
   "outputs": [],
   "source": [
    "scatterPlotsX = defaultdict(list)\n",
    "scatterPlotsY = defaultdict(list)\n",
    "for xy, asin in zip(Xembed2, asinList):\n",
    "    if asin in categories:\n",
    "        cat = categories[asin]\n",
    "        try:\n",
    "            scatterPlotsX[cat].append(xy[0])\n",
    "            scatterPlotsY[cat].append(xy[1])\n",
    "        except Exception as e:\n",
    "            pass"
   ]
  },
  {
   "cell_type": "markdown",
   "metadata": {},
   "source": [
    "Scatterplots by subcategory aren't particularly interesting in this case. Try e.g. price or brand for more compelling examples."
   ]
  },
  {
   "cell_type": "code",
   "execution_count": 33,
   "metadata": {},
   "outputs": [
    {
     "data": {
      "image/png": "[encoded data removed]",
      "text/plain": [
       "<matplotlib.figure.Figure at 0x7f796dcf06a0>"
      ]
     },
     "metadata": {},
     "output_type": "display_data"
    },
    {
     "data": {
      "image/png": "[encoded data removed]",
      "text/plain": [
       "<matplotlib.figure.Figure at 0x7f7ae367d940>"
      ]
     },
     "metadata": {},
     "output_type": "display_data"
    },
    {
     "data": {
      "image/png": "[encoded data removed]",
      "text/plain": [
       "<matplotlib.figure.Figure at 0x7f796dc7c160>"
      ]
     },
     "metadata": {},
     "output_type": "display_data"
    }
   ],
   "source": [
    "for cat in ['Instrument Accessories', 'Stringed Instruments', 'Guitars']:\n",
    "    plt.scatter(scatterPlotsX[cat],\n",
    "            scatterPlotsY[cat], color='lightgrey', lw = 0, label = cat)\n",
    "    plt.legend(loc='lower left')\n",
    "    plt.xticks([])\n",
    "    plt.yticks([])\n",
    "    plt.xlabel(\"first embedded dimension \")\n",
    "    plt.ylabel(\"second embedded dimension\")\n",
    "    plt.title(\"\\emph{TSNE}-based item embeddings\")\n",
    "    plt.show()"
   ]
  },
  {
   "cell_type": "code",
   "execution_count": null,
   "metadata": {},
   "outputs": [],
   "source": []
  }
 ],
 "metadata": {
  "kernelspec": {
   "display_name": "Python 3",
   "language": "python",
   "name": "python3"
  },
  "language_info": {
   "codemirror_mode": {
    "name": "ipython",
    "version": 3
   },
   "file_extension": ".py",
   "mimetype": "text/x-python",
   "name": "python",
   "nbconvert_exporter": "python",
   "pygments_lexer": "ipython3",
   "version": "3.7.12"
  }
 },
 "nbformat": 4,
 "nbformat_minor": 2
}
