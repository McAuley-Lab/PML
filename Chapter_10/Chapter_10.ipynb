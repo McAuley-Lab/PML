{
 "cells": [
  {
   "cell_type": "code",
   "execution_count": 1,
   "metadata": {},
   "outputs": [],
   "source": [
    "import os\n",
    "import wget\n",
    "import gzip\n",
    "import math\n",
    "import matplotlib.pyplot as plt\n",
    "import random\n",
    "import scipy\n",
    "import tensorflow as tf\n",
    "import torch\n",
    "from torch import nn\n",
    "from collections import defaultdict\n",
    "from implicit import bpr\n",
    "from scipy.spatial import distance\n"
   ]
  },
  {
   "cell_type": "markdown",
   "metadata": {},
   "source": [
    "Data is available at http://cseweb.ucsd.edu/~jmcauley/pml/data/. \n",
    "- Download and save to your own directory.\n",
    "- Or, run following script to save it into `Chapter_10/data` folder automatically."
   ]
  },
  {
   "cell_type": "code",
   "execution_count": 2,
   "metadata": {},
   "outputs": [
    {
     "name": "stdout",
     "output_type": "stream",
     "text": [
      "Done!\n"
     ]
    }
   ],
   "source": [
    "filenames = [\n",
    "    'goodreads_reviews_comics_graphic.json.gz',\n",
    "    'beer.json.gz'\n",
    "]\n",
    "\n",
    "dataDir = './data'\n",
    "url = 'http://jmcauley.ucsd.edu/pml_data'\n",
    "\n",
    "if not os.path.exists(dataDir):\n",
    "    os.makedirs(dataDir)\n",
    "for filename in filenames:\n",
    "    wget.download(os.path.join(url, filename), out=dataDir)\n",
    "\n",
    "print(\"Done!\")\n"
   ]
  },
  {
   "cell_type": "markdown",
   "metadata": {},
   "source": [
    "# Basic fairness measurements - interaction and recommendation distributions"
   ]
  },
  {
   "cell_type": "markdown",
   "metadata": {},
   "source": [
    "Goodreads graphic novel data. Train a standard recommender, and compare generated recommendations to historical interactions, in terms of frequency distributions."
   ]
  },
  {
   "cell_type": "code",
   "execution_count": 3,
   "metadata": {},
   "outputs": [],
   "source": [
    "def parse(path):\n",
    "    g = gzip.open(path, 'r')\n",
    "    for l in g:\n",
    "        yield eval(l)\n"
   ]
  },
  {
   "cell_type": "code",
   "execution_count": 4,
   "metadata": {},
   "outputs": [],
   "source": [
    "data = []\n",
    "for x in parse(os.path.join(dataDir, \"goodreads_reviews_comics_graphic.json.gz\")):\n",
    "    del x['review_text']\n",
    "    data.append(x)\n"
   ]
  },
  {
   "cell_type": "code",
   "execution_count": 5,
   "metadata": {},
   "outputs": [],
   "source": [
    "random.shuffle(data)\n"
   ]
  },
  {
   "cell_type": "code",
   "execution_count": 6,
   "metadata": {},
   "outputs": [],
   "source": [
    "userIDs, itemIDs = {}, {}\n",
    "revUIDs, revIIDs = {}, {}\n",
    "for d in data:\n",
    "    u, i = d['user_id'], d['book_id']\n",
    "    if not u in userIDs:\n",
    "        userIDs[u] = len(userIDs)\n",
    "        revUIDs[userIDs[u]] = u\n",
    "    if not i in itemIDs:\n",
    "        itemIDs[i] = len(itemIDs)\n",
    "        revIIDs[itemIDs[i]] = i\n"
   ]
  },
  {
   "cell_type": "code",
   "execution_count": 7,
   "metadata": {},
   "outputs": [
    {
     "data": {
      "text/plain": [
       "(59347, 89311)"
      ]
     },
     "execution_count": 7,
     "metadata": {},
     "output_type": "execute_result"
    }
   ],
   "source": [
    "nUsers, nItems = len(userIDs), len(itemIDs)\n",
    "nUsers, nItems\n"
   ]
  },
  {
   "cell_type": "markdown",
   "metadata": {},
   "source": [
    "Problem setup follows the BPR library from \"implicit\" (see Chapter 5), but could be completed with any recommender"
   ]
  },
  {
   "cell_type": "code",
   "execution_count": 8,
   "metadata": {},
   "outputs": [],
   "source": [
    "Xiu = scipy.sparse.lil_matrix((nItems, nUsers))\n",
    "for d in data:\n",
    "    Xiu[itemIDs[d['book_id']], userIDs[d['user_id']]] = 1\n",
    "\n",
    "Xui = scipy.sparse.csr_matrix(Xiu.T)\n"
   ]
  },
  {
   "cell_type": "code",
   "execution_count": 9,
   "metadata": {},
   "outputs": [],
   "source": [
    "model = bpr.BayesianPersonalizedRanking(factors=5, use_gpu=False)\n"
   ]
  },
  {
   "cell_type": "markdown",
   "metadata": {},
   "source": [
    "Fit the model"
   ]
  },
  {
   "cell_type": "code",
   "execution_count": 10,
   "metadata": {},
   "outputs": [
    {
     "data": {
      "application/vnd.jupyter.widget-view+json": {
       "model_id": "328a78b39a404e82be9a712e071cbe33",
       "version_major": 2,
       "version_minor": 0
      },
      "text/plain": [
       "  0%|          | 0/100 [00:00<?, ?it/s]"
      ]
     },
     "metadata": {},
     "output_type": "display_data"
    }
   ],
   "source": [
    "model.fit(Xiu)\n"
   ]
  },
  {
   "cell_type": "markdown",
   "metadata": {},
   "source": [
    "Extract recommendations (example)"
   ]
  },
  {
   "cell_type": "code",
   "execution_count": 11,
   "metadata": {},
   "outputs": [
    {
     "data": {
      "text/plain": [
       "[(276, 5.194048),\n",
       " (1126, 5.139212),\n",
       " (8206, 5.1298647),\n",
       " (4425, 5.125072),\n",
       " (818, 5.1217484),\n",
       " (2108, 5.121192),\n",
       " (251, 5.0484858),\n",
       " (835, 5.0297604),\n",
       " (5399, 4.982141),\n",
       " (333, 4.932531)]"
      ]
     },
     "execution_count": 11,
     "metadata": {},
     "output_type": "execute_result"
    }
   ],
   "source": [
    "model.recommend(0, Xui)\n"
   ]
  },
  {
   "cell_type": "markdown",
   "metadata": {},
   "source": [
    "Next we extract recommendations for all users, and compare these to their interaction histories. First collect histories from historical trends:"
   ]
  },
  {
   "cell_type": "code",
   "execution_count": 12,
   "metadata": {},
   "outputs": [],
   "source": [
    "interactionTuples = []\n",
    "itemsPerUser = defaultdict(list)\n"
   ]
  },
  {
   "cell_type": "code",
   "execution_count": 13,
   "metadata": {},
   "outputs": [],
   "source": [
    "for d in data:\n",
    "    u, i = d['user_id'], d['book_id']\n",
    "    interactionTuples.append((userIDs[u], itemIDs[i]))\n",
    "    itemsPerUser[userIDs[u]].append(itemIDs[i])\n"
   ]
  },
  {
   "cell_type": "markdown",
   "metadata": {},
   "source": [
    "Next build similar data structures containing recommendations for each user"
   ]
  },
  {
   "cell_type": "code",
   "execution_count": 14,
   "metadata": {},
   "outputs": [],
   "source": [
    "recommendationTuples = []\n"
   ]
  },
  {
   "cell_type": "markdown",
   "metadata": {},
   "source": [
    "For each user, generate a set of recommendations equivalent in size to their number of interactions used for training"
   ]
  },
  {
   "cell_type": "code",
   "execution_count": 15,
   "metadata": {},
   "outputs": [],
   "source": [
    "for u in range(len(userIDs)):\n",
    "    A = model.recommend(u, Xui, N=len(itemsPerUser[u]))\n",
    "    for i, sc in A:\n",
    "        recommendationTuples.append((u, i))\n"
   ]
  },
  {
   "cell_type": "markdown",
   "metadata": {},
   "source": [
    "So far our data structures just contain lists of historical interactions and recommendations for each user. Convert these into counts for each item. This is done both for interactions (I) and recommendations (R)."
   ]
  },
  {
   "cell_type": "code",
   "execution_count": 16,
   "metadata": {},
   "outputs": [],
   "source": [
    "countsPerItemI = defaultdict(int)\n",
    "countsPerItemR = defaultdict(int)\n",
    "for u, i in interactionTuples:\n",
    "    countsPerItemI[i] += 1\n",
    "\n",
    "for u, i in recommendationTuples:\n",
    "    countsPerItemR[i] += 1\n"
   ]
  },
  {
   "cell_type": "markdown",
   "metadata": {},
   "source": [
    "Sort counts by popularity to generate plots"
   ]
  },
  {
   "cell_type": "code",
   "execution_count": 17,
   "metadata": {},
   "outputs": [],
   "source": [
    "sortPopularI = [(countsPerItemI[i], i) for i in countsPerItemI]\n",
    "sortPopularR = [(countsPerItemR[i], i) for i in countsPerItemR]\n"
   ]
  },
  {
   "cell_type": "code",
   "execution_count": 18,
   "metadata": {},
   "outputs": [],
   "source": [
    "sortPopularI.sort(reverse=True)\n",
    "sortPopularR.sort(reverse=True)\n"
   ]
  },
  {
   "cell_type": "markdown",
   "metadata": {},
   "source": [
    "Collect the information for interactions and recommendations for plotting"
   ]
  },
  {
   "cell_type": "code",
   "execution_count": 19,
   "metadata": {},
   "outputs": [],
   "source": [
    "YI = [x[0] for x in sortPopularI[:300]]  # Interaction frequency\n",
    "Ys = [x[1] for x in sortPopularI[:300]]  # Associated items\n",
    "# Recommendation frequency for those items\n",
    "YR = [countsPerItemR[x] for x in Ys]\n"
   ]
  },
  {
   "cell_type": "code",
   "execution_count": 20,
   "metadata": {},
   "outputs": [
    {
     "data": {
      "image/png": "[encoded data removed]",
      "text/plain": [
       "<Figure size 432x288 with 1 Axes>"
      ]
     },
     "metadata": {
      "needs_background": "light"
     },
     "output_type": "display_data"
    }
   ],
   "source": [
    "plt.plot(range(1, 301), YI, color='k', label=\"interactions\")\n",
    "plt.xlim(1, 200)\n",
    "plt.ylim(0, 1150)\n",
    "plt.plot(range(1, 301), YR, color='grey', label=\"recommendations\")\n",
    "plt.xlabel(\"popularity rank (interactions)\")\n",
    "plt.ylabel(\"interaction freq.\")\n",
    "plt.legend(loc=\"best\",  prop={'size': 8})\n",
    "plt.title(\"Recommendation diversity\")\n",
    "plt.show()\n"
   ]
  },
  {
   "cell_type": "code",
   "execution_count": 21,
   "metadata": {},
   "outputs": [],
   "source": [
    "YR = [x[0] for x in sortPopularR[:300]]\n",
    "Ys = [x[1] for x in sortPopularR[:300]]\n",
    "YI = [countsPerItemI[x] for x in Ys]\n"
   ]
  },
  {
   "cell_type": "code",
   "execution_count": 22,
   "metadata": {},
   "outputs": [
    {
     "data": {
      "image/png": "[encoded data removed]",
      "text/plain": [
       "<Figure size 432x288 with 1 Axes>"
      ]
     },
     "metadata": {
      "needs_background": "light"
     },
     "output_type": "display_data"
    }
   ],
   "source": [
    "plt.plot(range(1, 301), YI, color='k', label=\"interactions\")\n",
    "plt.xlim(1, 200)\n",
    "plt.ylim(0, 1150)\n",
    "plt.plot(range(1, 301), YR, color='grey', label=\"recommendations\")\n",
    "plt.xlabel(\"popularity rank (recommendations)\")\n",
    "plt.ylabel(\"interaction freq.\")\n",
    "plt.legend(loc=\"best\",  prop={'size': 8})\n",
    "plt.title(\"Recommendation diversity\")\n",
    "plt.show()\n"
   ]
  },
  {
   "cell_type": "markdown",
   "metadata": {},
   "source": [
    "# Gini goefficient"
   ]
  },
  {
   "cell_type": "markdown",
   "metadata": {},
   "source": [
    "The two implementations below compute the gini coefficient either by comparing all pairs, or by doing so for a given number of samples"
   ]
  },
  {
   "cell_type": "code",
   "execution_count": 23,
   "metadata": {},
   "outputs": [],
   "source": [
    "def gini(z, samples=1000000):\n",
    "    m = sum(z) / len(z)\n",
    "    denom = 2 * samples * m\n",
    "    numer = 0\n",
    "    for _ in range(samples):\n",
    "        i = random.choice(z)\n",
    "        j = random.choice(z)\n",
    "        numer += math.fabs(i - j)\n",
    "    return numer / denom\n",
    "\n",
    "\n",
    "def giniExact(z):\n",
    "    m = sum(z) / len(z)\n",
    "    denom = 2 * len(z)**2 * m\n",
    "    numer = 0\n",
    "    for i in range(len(z)):\n",
    "        for j in range(len(z)):\n",
    "            numer += math.fabs(z[i] - z[j])\n",
    "    return numer / denom\n"
   ]
  },
  {
   "cell_type": "markdown",
   "metadata": {},
   "source": [
    "Compute the gini coefficients of interactions versus distributions for the two distributions computed in the experiments above"
   ]
  },
  {
   "cell_type": "code",
   "execution_count": 24,
   "metadata": {},
   "outputs": [
    {
     "data": {
      "text/plain": [
       "0.7208938820228343"
      ]
     },
     "execution_count": 24,
     "metadata": {},
     "output_type": "execute_result"
    }
   ],
   "source": [
    "gini([x[0] for x in sortPopularI])\n"
   ]
  },
  {
   "cell_type": "code",
   "execution_count": 25,
   "metadata": {},
   "outputs": [
    {
     "data": {
      "text/plain": [
       "0.778433054089885"
      ]
     },
     "execution_count": 25,
     "metadata": {},
     "output_type": "execute_result"
    }
   ],
   "source": [
    "gini([x[0] for x in sortPopularR])\n"
   ]
  },
  {
   "cell_type": "markdown",
   "metadata": {},
   "source": [
    "### Average cosine similarity between interactions versus recommendations"
   ]
  },
  {
   "cell_type": "markdown",
   "metadata": {},
   "source": [
    "Given a set of items, measure the average cosine distance between them (by taking a sample of pairs, similar to our implementation of the gini coefficient). This can be used as a rough measure of the diversity of a set of recommendations."
   ]
  },
  {
   "cell_type": "code",
   "execution_count": 26,
   "metadata": {},
   "outputs": [],
   "source": [
    "def avCosine(z, samples=100):\n",
    "    av = []\n",
    "    while len(av) < samples:\n",
    "        i = random.choice(z)\n",
    "        j = random.choice(z)\n",
    "        d = 1 - distance.cosine(i, j)\n",
    "        if not math.isnan(d) and d > 0:\n",
    "            av.append(d)\n",
    "    return sum(av) / len(av)\n"
   ]
  },
  {
   "cell_type": "code",
   "execution_count": 27,
   "metadata": {},
   "outputs": [],
   "source": [
    "itemFactors = model.item_factors\n"
   ]
  },
  {
   "cell_type": "markdown",
   "metadata": {},
   "source": [
    "Compute the average cosine similarity among interactions from a particular user"
   ]
  },
  {
   "cell_type": "code",
   "execution_count": 28,
   "metadata": {},
   "outputs": [
    {
     "data": {
      "text/plain": [
       "0.6360789451375604"
      ]
     },
     "execution_count": 28,
     "metadata": {},
     "output_type": "execute_result"
    }
   ],
   "source": [
    "avCosine([itemFactors[i] for i in itemsPerUser[0]])\n"
   ]
  },
  {
   "cell_type": "markdown",
   "metadata": {},
   "source": [
    "Compute the same quantity across a large sample of recommendations and interactions for several users, as an aggregate measure of recommendation versus interaction diversity"
   ]
  },
  {
   "cell_type": "code",
   "execution_count": 29,
   "metadata": {},
   "outputs": [],
   "source": [
    "avavI = []\n",
    "avavR = []\n",
    "\n",
    "while len(avavI) < 1000:\n",
    "    u = random.choice(range(len(userIDs)))\n",
    "    if len(itemsPerUser[u]) < 10:\n",
    "        continue\n",
    "    aI = avCosine([itemFactors[i] for i in itemsPerUser[u]])\n",
    "    A = model.recommend(u, Xui, N=len(itemsPerUser[u]))\n",
    "    aR = avCosine([itemFactors[i[0]] for i in A])\n",
    "    avavI.append(aI)\n",
    "    avavR.append(aR)\n"
   ]
  },
  {
   "cell_type": "markdown",
   "metadata": {},
   "source": [
    "A lower average cosine similarity among interactions indicates that they are more diverse compared to recommendations"
   ]
  },
  {
   "cell_type": "code",
   "execution_count": 30,
   "metadata": {},
   "outputs": [
    {
     "data": {
      "text/plain": [
       "0.622365073144189"
      ]
     },
     "execution_count": 30,
     "metadata": {},
     "output_type": "execute_result"
    }
   ],
   "source": [
    "sum(avavI) / len(avavI)\n"
   ]
  },
  {
   "cell_type": "code",
   "execution_count": 31,
   "metadata": {},
   "outputs": [
    {
     "data": {
      "text/plain": [
       "0.8621030857469554"
      ]
     },
     "execution_count": 31,
     "metadata": {},
     "output_type": "execute_result"
    }
   ],
   "source": [
    "sum(avavR) / len(avavR)\n"
   ]
  },
  {
   "cell_type": "markdown",
   "metadata": {},
   "source": [
    "# Fair recommendation in `TensorFlow` and `PyTorch`\n",
    "\n",
    "## Dataset Preparation"
   ]
  },
  {
   "cell_type": "markdown",
   "metadata": {},
   "source": [
    "First, implement a latent factor model. Our basic implementation follows the Tensorflow latent factor model from Chapter 5."
   ]
  },
  {
   "cell_type": "code",
   "execution_count": 32,
   "metadata": {},
   "outputs": [],
   "source": [
    "userIDs = {}\n",
    "itemIDs = {}\n",
    "itemsPerUser = defaultdict(set)\n",
    "styles = {}\n",
    "beerNames = {}\n",
    "interactions = []\n",
    "\n",
    "for d in parse(os.path.join(dataDir, \"beer.json.gz\")):\n",
    "    if not 'user/gender' in d:\n",
    "        continue\n",
    "    g = d['user/gender'] == 'Male'\n",
    "    u = d['user/profileName']\n",
    "    i = d['beer/beerId']\n",
    "    r = d['review/overall']\n",
    "    styles[i] = d['beer/style']\n",
    "    beerNames[i] = d['beer/name']\n",
    "    if not u in userIDs:\n",
    "        userIDs[u] = len(userIDs)\n",
    "    if not i in itemIDs:\n",
    "        itemIDs[i] = len(itemIDs)\n",
    "    itemsPerUser[u].add(i)\n",
    "    interactions.append((g, u, i, r))\n"
   ]
  },
  {
   "cell_type": "code",
   "execution_count": 33,
   "metadata": {},
   "outputs": [
    {
     "data": {
      "text/plain": [
       "637221"
      ]
     },
     "execution_count": 33,
     "metadata": {},
     "output_type": "execute_result"
    }
   ],
   "source": [
    "len(interactions)\n"
   ]
  },
  {
   "cell_type": "markdown",
   "metadata": {},
   "source": [
    "Data structures to organize interactions by gender"
   ]
  },
  {
   "cell_type": "code",
   "execution_count": 34,
   "metadata": {},
   "outputs": [],
   "source": [
    "interactionsPerItemG = defaultdict(list)  # Male interactions\n",
    "interactionsPerItemGneg = defaultdict(list)  # Other interactions\n"
   ]
  },
  {
   "cell_type": "code",
   "execution_count": 35,
   "metadata": {},
   "outputs": [],
   "source": [
    "for g, u, i, r in interactions:\n",
    "    if g:\n",
    "        # Male interactions for this item\n",
    "        interactionsPerItemG[i].append((u, r))\n",
    "    else:\n",
    "        interactionsPerItemGneg[i].append((u, r))\n"
   ]
  },
  {
   "cell_type": "code",
   "execution_count": 36,
   "metadata": {},
   "outputs": [],
   "source": [
    "# Set of items associated with male interactions\n",
    "itemsG = set(interactionsPerItemG.keys())\n",
    "itemsGneg = set(interactionsPerItemGneg.keys())\n",
    "itemsBoth = itemsG.intersection(itemsGneg)\n"
   ]
  },
  {
   "cell_type": "code",
   "execution_count": 37,
   "metadata": {},
   "outputs": [],
   "source": [
    "mu = sum([r for _, _, _, r in interactions]) / \\\n",
    "    len(interactions)  # For initialization\n"
   ]
  },
  {
   "cell_type": "markdown",
   "metadata": {},
   "source": [
    "## `TensorFlow` Implementation"
   ]
  },
  {
   "cell_type": "code",
   "execution_count": 38,
   "metadata": {},
   "outputs": [],
   "source": [
    "optimizer = tf.keras.optimizers.Adam(0.1)\n"
   ]
  },
  {
   "cell_type": "markdown",
   "metadata": {},
   "source": [
    "Latent factor model. The \"absoluteFairness\" function is new; others are equivalent to our model from Chapter 5."
   ]
  },
  {
   "cell_type": "code",
   "execution_count": 39,
   "metadata": {},
   "outputs": [],
   "source": [
    "class LatentFactorModel(tf.keras.Model):\n",
    "    def __init__(self, mu, K, lamb, lambFair):\n",
    "        super(LatentFactorModel, self).__init__()\n",
    "        self.alpha = tf.Variable(mu)\n",
    "        self.betaU = tf.Variable(\n",
    "            tf.random.normal([len(userIDs)], stddev=0.001))\n",
    "        self.betaI = tf.Variable(\n",
    "            tf.random.normal([len(itemIDs)], stddev=0.001))\n",
    "        self.gammaU = tf.Variable(tf.random.normal(\n",
    "            [len(userIDs), K], stddev=0.001))\n",
    "        self.gammaI = tf.Variable(tf.random.normal(\n",
    "            [len(itemIDs), K], stddev=0.001))\n",
    "        self.lamb = lamb\n",
    "        self.lambFair = lambFair\n",
    "\n",
    "    def predict(self, u, i):\n",
    "        p = self.alpha + self.betaU[u] + self.betaI[i] +\\\n",
    "            tf.tensordot(self.gammaU[u], self.gammaI[i], 1)\n",
    "        return p\n",
    "\n",
    "    def reg(self):\n",
    "        return self.lamb * (tf.reduce_sum(self.betaU**2) +\n",
    "                            tf.reduce_sum(self.betaI**2) +\n",
    "                            tf.reduce_sum(self.gammaU**2) +\n",
    "                            tf.reduce_sum(self.gammaI**2))\n",
    "\n",
    "    def predictSample(self, sampleU, sampleI):\n",
    "        u = tf.convert_to_tensor(sampleU, dtype=tf.int32)\n",
    "        i = tf.convert_to_tensor(sampleI, dtype=tf.int32)\n",
    "        beta_u = tf.nn.embedding_lookup(self.betaU, u)\n",
    "        beta_i = tf.nn.embedding_lookup(self.betaI, i)\n",
    "        gamma_u = tf.nn.embedding_lookup(self.gammaU, u)\n",
    "        gamma_i = tf.nn.embedding_lookup(self.gammaI, i)\n",
    "        pred = self.alpha + beta_u + beta_i +\\\n",
    "            tf.reduce_sum(tf.multiply(gamma_u, gamma_i), 1)\n",
    "        return pred\n",
    "\n",
    "    # For a single item. This score should be averaged over several items\n",
    "    def absoluteUnfairness(self, i):\n",
    "        G = interactionsPerItemG[i]\n",
    "        Gneg = interactionsPerItemGneg[i]\n",
    "        # interactions take the form (u,r)\n",
    "        rG = tf.reduce_mean(tf.convert_to_tensor([r for _, r in G]))\n",
    "        rGneg = tf.reduce_mean(tf.convert_to_tensor([r for _, r in Gneg]))\n",
    "        pG = tf.reduce_mean(\n",
    "            self.predictSample([userIDs[u] for u, _ in G], [itemIDs[i]]*len(G)))\n",
    "        pGneg = tf.reduce_mean(\n",
    "            self.predictSample([userIDs[u] for u, _ in Gneg], [itemIDs[i]]*len(Gneg)))\n",
    "        Uabs = tf.abs(tf.abs(pG - rG) - tf.abs(pGneg - rGneg))\n",
    "        return self.lambFair * Uabs\n",
    "\n",
    "    def call(self, sampleU, sampleI, sampleR):\n",
    "        pred = self.predictSample(sampleU, sampleI)\n",
    "        r = tf.convert_to_tensor(sampleR, dtype=tf.float32)\n",
    "        return tf.nn.l2_loss(pred - r) / len(sampleR)\n"
   ]
  },
  {
   "cell_type": "code",
   "execution_count": 40,
   "metadata": {},
   "outputs": [
    {
     "name": "stderr",
     "output_type": "stream",
     "text": [
      "2022-03-24 16:30:36.433541: E tensorflow/stream_executor/cuda/cuda_driver.cc:271] failed call to cuInit: CUDA_ERROR_NO_DEVICE: no CUDA-capable device is detected\n",
      "2022-03-24 16:30:36.433576: I tensorflow/stream_executor/cuda/cuda_diagnostics.cc:169] retrieving CUDA diagnostic information for host: Zhankui\n",
      "2022-03-24 16:30:36.433580: I tensorflow/stream_executor/cuda/cuda_diagnostics.cc:176] hostname: Zhankui\n",
      "2022-03-24 16:30:36.433702: I tensorflow/stream_executor/cuda/cuda_diagnostics.cc:200] libcuda reported version is: 470.103.1\n",
      "2022-03-24 16:30:36.433718: I tensorflow/stream_executor/cuda/cuda_diagnostics.cc:204] kernel reported version is: 470.103.1\n",
      "2022-03-24 16:30:36.433722: I tensorflow/stream_executor/cuda/cuda_diagnostics.cc:310] kernel version seems to match DSO: 470.103.1\n",
      "2022-03-24 16:30:36.434036: I tensorflow/core/platform/cpu_feature_guard.cc:151] This TensorFlow binary is optimized with oneAPI Deep Neural Network Library (oneDNN) to use the following CPU instructions in performance-critical operations:  AVX2 FMA\n",
      "To enable them in other operations, rebuild TensorFlow with the appropriate compiler flags.\n"
     ]
    }
   ],
   "source": [
    "modelFair = LatentFactorModel(mu, 10, 0.000001, 0.000001)\n"
   ]
  },
  {
   "cell_type": "code",
   "execution_count": 41,
   "metadata": {},
   "outputs": [],
   "source": [
    "def trainingStep(model, interactions):\n",
    "    Nsamples = 5000\n",
    "    Nfair = 50\n",
    "    with tf.GradientTape() as tape:\n",
    "        sampleU, sampleI, sampleR = [], [], []\n",
    "        for _ in range(Nsamples):\n",
    "            _, u, i, r = random.choice(interactions)\n",
    "            sampleU.append(userIDs[u])\n",
    "            sampleI.append(itemIDs[i])\n",
    "            sampleR.append(r)\n",
    "\n",
    "        loss = model(sampleU, sampleI, sampleR)\n",
    "        loss += sum([model.absoluteUnfairness(i)\n",
    "                     for i in random.sample(itemsBoth, Nfair)])/Nfair\n",
    "        loss += model.reg()\n",
    "    gradients = tape.gradient(loss, model.trainable_variables)\n",
    "    optimizer.apply_gradients((grad, var) for\n",
    "                              (grad, var) in zip(\n",
    "                                  gradients, model.trainable_variables)\n",
    "                              if grad is not None)\n",
    "    return loss.numpy()\n"
   ]
  },
  {
   "cell_type": "code",
   "execution_count": 42,
   "metadata": {},
   "outputs": [
    {
     "name": "stdout",
     "output_type": "stream",
     "text": [
      "iteration 50, objective = 0.26605088\n",
      "iteration 100, objective = 0.28741658\n"
     ]
    }
   ],
   "source": [
    "for i in range(100):\n",
    "    obj = trainingStep(modelFair, interactions)\n",
    "    if (i % 50 == 49):\n",
    "        print(\"iteration \" + str(i+1) + \", objective = \" + str(obj))\n"
   ]
  },
  {
   "cell_type": "markdown",
   "metadata": {},
   "source": [
    "Same model, but not including the fairness terms"
   ]
  },
  {
   "cell_type": "code",
   "execution_count": 43,
   "metadata": {},
   "outputs": [],
   "source": [
    "modelUnfair = LatentFactorModel(mu, 10, 0.000001, 0.000001)\n"
   ]
  },
  {
   "cell_type": "code",
   "execution_count": 44,
   "metadata": {},
   "outputs": [],
   "source": [
    "def trainingStepUnfair(model, interactions):\n",
    "    Nsamples = 5000\n",
    "    with tf.GradientTape() as tape:\n",
    "        sampleU, sampleI, sampleR = [], [], []\n",
    "        for _ in range(Nsamples):\n",
    "            _, u, i, r = random.choice(interactions)\n",
    "            sampleU.append(userIDs[u])\n",
    "            sampleI.append(itemIDs[i])\n",
    "            sampleR.append(r)\n",
    "\n",
    "        loss = model(sampleU, sampleI, sampleR)\n",
    "        loss += model.reg()\n",
    "    gradients = tape.gradient(loss, model.trainable_variables)\n",
    "    optimizer.apply_gradients((grad, var) for\n",
    "                              (grad, var) in zip(\n",
    "                                  gradients, model.trainable_variables)\n",
    "                              if grad is not None)\n",
    "    return loss.numpy()\n"
   ]
  },
  {
   "cell_type": "code",
   "execution_count": 45,
   "metadata": {},
   "outputs": [
    {
     "name": "stdout",
     "output_type": "stream",
     "text": [
      "iteration 50, objective = 0.5806019\n",
      "iteration 100, objective = 0.42937765\n"
     ]
    }
   ],
   "source": [
    "for i in range(100):\n",
    "    obj = trainingStepUnfair(modelUnfair, interactions)\n",
    "    if (i % 50 == 49):\n",
    "        print(\"iteration \" + str(i+1) + \", objective = \" + str(obj))\n"
   ]
  },
  {
   "cell_type": "markdown",
   "metadata": {},
   "source": [
    "# Maximal marginal relevance (MMR)"
   ]
  },
  {
   "cell_type": "markdown",
   "metadata": {},
   "source": [
    "Similarity between items (in this case cosine)"
   ]
  },
  {
   "cell_type": "code",
   "execution_count": 46,
   "metadata": {},
   "outputs": [],
   "source": [
    "def cosine(v, w):\n",
    "    return float(tf.reduce_sum(v*w, 0) / (tf.norm(v) * tf.norm(w)))\n"
   ]
  },
  {
   "cell_type": "code",
   "execution_count": 47,
   "metadata": {},
   "outputs": [],
   "source": [
    "def sim(itemEmbeddings, i, j):\n",
    "    gamma_i = itemEmbeddings[i]\n",
    "    gamma_j = itemEmbeddings[j]\n",
    "    return cosine(gamma_i, gamma_j)\n"
   ]
  },
  {
   "cell_type": "markdown",
   "metadata": {},
   "source": [
    "Find the most similar item among a candidate set"
   ]
  },
  {
   "cell_type": "code",
   "execution_count": 48,
   "metadata": {},
   "outputs": [],
   "source": [
    "def maxSim(itemEmbeddings, i, seq):\n",
    "    if len(seq) == 0:\n",
    "        return 0\n",
    "    return max([sim(itemEmbeddings, i, j) for j in seq])\n"
   ]
  },
  {
   "cell_type": "markdown",
   "metadata": {},
   "source": [
    "Select a random user to receive recommendations"
   ]
  },
  {
   "cell_type": "code",
   "execution_count": 49,
   "metadata": {},
   "outputs": [],
   "source": [
    "u = random.choice(list(userIDs.keys()))\n"
   ]
  },
  {
   "cell_type": "code",
   "execution_count": 50,
   "metadata": {},
   "outputs": [],
   "source": [
    "itemSet = set(itemIDs.keys())\n"
   ]
  },
  {
   "cell_type": "markdown",
   "metadata": {},
   "source": [
    "Define a function to get the next recommendation given an initial list, i.e., the mamimal marginally relevant item. Lambda (lamb) controls the tradeoff between compatibility an diversity."
   ]
  },
  {
   "cell_type": "code",
   "execution_count": 51,
   "metadata": {},
   "outputs": [],
   "source": [
    "def getNextRec(model, compatScores, itemEmbeddings, seq, lamb):\n",
    "    scores = [(lamb * s - (1 - lamb) * maxSim(itemEmbeddings, i, seq), i)\n",
    "              for (s, i) in compatScores if not i in seq]\n",
    "    (maxScore, maxItem) = max(scores)\n",
    "    return maxItem\n"
   ]
  },
  {
   "cell_type": "markdown",
   "metadata": {},
   "source": [
    "Before re-ranking, generate a list of compatibility scores, i.e., a ranked list of items for a particular user"
   ]
  },
  {
   "cell_type": "code",
   "execution_count": 52,
   "metadata": {},
   "outputs": [],
   "source": [
    "candidates = list(itemSet.difference(itemsPerUser[u]))\n",
    "compatScores = list(zip([float(f)\n",
    "                         for f in modelUnfair.predictSample([userIDs[u]]*len(candidates),\n",
    "                                                            [itemIDs[i] for i in candidates])], candidates))\n",
    "itemEmbeddings = dict(zip(candidates,\n",
    "                          tf.nn.embedding_lookup(modelUnfair.gammaI, [itemIDs[i] for i in candidates])))\n",
    "\n",
    "compatScores.sort(reverse=True)\n"
   ]
  },
  {
   "cell_type": "markdown",
   "metadata": {},
   "source": [
    "Generate a list of recommendations for the user by repeatedly calling the retrieving the maximal marginally relevant recommendation. First, just get the most relevant items (lambda=1) without encouraging diversity."
   ]
  },
  {
   "cell_type": "markdown",
   "metadata": {},
   "source": [
    "Note that this implementation is not particularly optimized, and takes several seconds to generate a list of recommendations."
   ]
  },
  {
   "cell_type": "code",
   "execution_count": 53,
   "metadata": {},
   "outputs": [
    {
     "data": {
      "text/plain": [
       "['Black IPA',\n",
       " 'Kriekselikroxen',\n",
       " 'Habanero Stout',\n",
       " 'Bolero Brown',\n",
       " 'Slice Of Bread',\n",
       " 'Kazbegi Hunter Lager',\n",
       " 'Riot',\n",
       " 'Chamomile Wheat',\n",
       " 'Summer Bitter',\n",
       " 'Smoked & Oaked']"
      ]
     },
     "execution_count": 53,
     "metadata": {},
     "output_type": "execute_result"
    }
   ],
   "source": [
    "recs = []\n",
    "while len(recs) < 10:\n",
    "    i = getNextRec(modelUnfair, compatScores[:1000], itemEmbeddings, recs, 1.0)\n",
    "    recs.append(i)\n",
    "[beerNames[i] for i in recs]\n"
   ]
  },
  {
   "cell_type": "markdown",
   "metadata": {},
   "source": [
    "More Recommendations for different relevance/diversity tradeoffs. Note that the tradeoff parameter is quite sensitive to the specific scale of the model parameters."
   ]
  },
  {
   "cell_type": "code",
   "execution_count": 54,
   "metadata": {},
   "outputs": [
    {
     "data": {
      "text/plain": [
       "['Black IPA',\n",
       " 'X.O. Tripplebock',\n",
       " 'Chamomile Wheat',\n",
       " 'Smoked & Oaked',\n",
       " \"Brewer's Reserve Old Godfather Barley Wine\",\n",
       " 'Riot',\n",
       " 'Kriekselikroxen',\n",
       " 'Bolero Brown',\n",
       " 'Unibroue 17 Grande RÃ©serve',\n",
       " 'Habanero Stout']"
      ]
     },
     "execution_count": 54,
     "metadata": {},
     "output_type": "execute_result"
    }
   ],
   "source": [
    "recs = []\n",
    "while len(recs) < 10:\n",
    "    i = getNextRec(model, compatScores[:1000], itemEmbeddings, recs, 0.25)\n",
    "    recs.append(i)\n",
    "[beerNames[i] for i in recs]\n"
   ]
  },
  {
   "cell_type": "code",
   "execution_count": 55,
   "metadata": {},
   "outputs": [
    {
     "data": {
      "text/plain": [
       "['Black IPA',\n",
       " 'X.O. Tripplebock',\n",
       " 'Brecky',\n",
       " 'Frostnipper Winter Warmer',\n",
       " 'Chamomile Wheat',\n",
       " 'Nut Brown Ale',\n",
       " \"Down 'N Dirty Chocolate Oatmeal Stout\",\n",
       " 'Black Magic Porter',\n",
       " 'Spring Ale',\n",
       " \"Bishop's Farewell\"]"
      ]
     },
     "execution_count": 55,
     "metadata": {},
     "output_type": "execute_result"
    }
   ],
   "source": [
    "recs = []\n",
    "while len(recs) < 10:\n",
    "    i = getNextRec(model, compatScores[:1000], itemEmbeddings, recs, 0.1)\n",
    "    recs.append(i)\n",
    "[beerNames[i] for i in recs]\n"
   ]
  },
  {
   "cell_type": "markdown",
   "metadata": {},
   "source": [
    "# Exercises"
   ]
  },
  {
   "cell_type": "markdown",
   "metadata": {},
   "source": [
    "### 10.1"
   ]
  },
  {
   "cell_type": "markdown",
   "metadata": {},
   "source": [
    "First just try out a different similarity function (based on the inner product)"
   ]
  },
  {
   "cell_type": "code",
   "execution_count": 56,
   "metadata": {},
   "outputs": [],
   "source": [
    "def sim(itemEmbeddings, i, j):\n",
    "    gamma_i = itemEmbeddings[i]\n",
    "    gamma_j = itemEmbeddings[j]\n",
    "    return tf.sigmoid(-tf.reduce_sum(gamma_i * gamma_j, 0)).numpy()\n"
   ]
  },
  {
   "cell_type": "code",
   "execution_count": 57,
   "metadata": {},
   "outputs": [],
   "source": [
    "def maxSim(itemEmbeddings, i, seq):\n",
    "    if len(seq) == 0:\n",
    "        return 0\n",
    "    return max([sim(itemEmbeddings, i, j) for j in seq])\n"
   ]
  },
  {
   "cell_type": "code",
   "execution_count": 58,
   "metadata": {},
   "outputs": [],
   "source": [
    "def getNextRec(model, compatScores, itemEmbeddings, seq, lamb):\n",
    "    rels = dict([(i, s) for (s, i) in compatScores if not i in seq])\n",
    "    divs = dict([(i, maxSim(itemEmbeddings, i, seq))\n",
    "                for (s, i) in compatScores if not i in seq])\n",
    "    scores = [(lamb * rels[i] - (1 - lamb) * divs[i], i)\n",
    "              for (s, i) in compatScores if not i in seq]\n",
    "    (maxScore, maxItem) = max(scores)\n",
    "    return rels[maxItem], divs[maxItem], maxItem\n"
   ]
  },
  {
   "cell_type": "code",
   "execution_count": 59,
   "metadata": {},
   "outputs": [],
   "source": [
    "u = random.choice(list(userIDs.keys()))\n"
   ]
  },
  {
   "cell_type": "code",
   "execution_count": 60,
   "metadata": {},
   "outputs": [],
   "source": [
    "candidates = list(itemSet.difference(itemsPerUser[u]))\n",
    "compatScores = list(zip([float(f)\n",
    "                         for f in modelUnfair.predictSample([userIDs[u]]*len(candidates),\n",
    "                                                            [itemIDs[i] for i in candidates])], candidates))\n",
    "itemEmbeddings = dict(zip(candidates,\n",
    "                          tf.nn.embedding_lookup(modelUnfair.gammaI, [itemIDs[i] for i in candidates])))\n",
    "\n",
    "compatScores.sort(reverse=True)\n"
   ]
  },
  {
   "cell_type": "markdown",
   "metadata": {},
   "source": [
    "Experiment with different relevance/diversity tradeoffs"
   ]
  },
  {
   "cell_type": "code",
   "execution_count": 61,
   "metadata": {},
   "outputs": [],
   "source": [
    "xs = []\n",
    "ys = []\n",
    "for lamb in [1.0, 0.99, 0.9, 0.75, 0.5, 0.25, 0.1, 0.01, 0.001]:\n",
    "    rels = []\n",
    "    divs = []\n",
    "    recs = []\n",
    "    while len(recs) < 5:\n",
    "        r, d, i = getNextRec(\n",
    "            modelUnfair, compatScores[:1000], itemEmbeddings, recs, lamb)\n",
    "        rels.append(r)\n",
    "        divs.append(d)\n",
    "        recs.append(i)\n",
    "    xs.append(sum(rels)/len(rels))\n",
    "    ys.append(sum(divs)/len(divs))\n"
   ]
  },
  {
   "cell_type": "markdown",
   "metadata": {},
   "source": [
    "And plot the results"
   ]
  },
  {
   "cell_type": "code",
   "execution_count": 62,
   "metadata": {},
   "outputs": [
    {
     "data": {
      "image/png": "[encoded data removed]",
      "text/plain": [
       "<Figure size 432x288 with 1 Axes>"
      ]
     },
     "metadata": {
      "needs_background": "light"
     },
     "output_type": "display_data"
    }
   ],
   "source": [
    "plt.plot(xs, ys, color='k')\n",
    "plt.xlabel(\"average relevance\")\n",
    "plt.ylabel(\"average diversity\")\n",
    "plt.title(\"relevance/diversity tradeoff\")\n",
    "plt.show()\n"
   ]
  },
  {
   "cell_type": "markdown",
   "metadata": {},
   "source": [
    "## `PyTorch` Implementation"
   ]
  },
  {
   "cell_type": "code",
   "execution_count": 63,
   "metadata": {},
   "outputs": [],
   "source": [
    "class LatentFactorModel(nn.Module):\n",
    "    def __init__(self, mu, K, lamb, lambFair):\n",
    "        super(LatentFactorModel, self).__init__()\n",
    "        # Initialize to average\n",
    "        self.alpha = nn.Parameter(torch.Tensor([mu]))\n",
    "        # Initialize to small random values\n",
    "        self.betaU = nn.Embedding(len(userIDs), 1)\n",
    "        nn.init.normal_(self.betaU.weight, std=0.001)\n",
    "        self.betaI = nn.Embedding(len(itemIDs), 1)\n",
    "        nn.init.normal_(self.betaI.weight, std=0.001)\n",
    "        self.gammaU = nn.Embedding(len(userIDs), K)\n",
    "        nn.init.normal_(self.gammaU.weight, std=0.001)\n",
    "        self.gammaI = nn.Embedding(len(itemIDs), K)\n",
    "        nn.init.normal_(self.gammaI.weight, std=0.001)\n",
    "        self.lamb = lamb\n",
    "        self.lambFair = lambFair\n",
    "\n",
    "    # Prediction\n",
    "    def forward(self, u, i):\n",
    "        p = self.alpha + self.betaU(u).squeeze(-1) + self.betaI(i).squeeze(-1) + \\\n",
    "            (self.gammaU(u) * self.gammaI(i)).sum(dim=-1)\n",
    "        return p\n",
    "\n",
    "    # Regularizer\n",
    "    def reg(self):\n",
    "        return self.lamb * (torch.sum(self.betaU.weight**2) +\n",
    "                            torch.sum(self.betaI.weight**2) +\n",
    "                            torch.sum(self.gammaU.weight**2) +\n",
    "                            torch.sum(self.gammaI.weight**2))\n",
    "\n",
    "    # For a single item. This score should be averaged over several items\n",
    "    def absoluteUnfairness(self, i):\n",
    "        G = interactionsPerItemG[i]\n",
    "        Gneg = interactionsPerItemGneg[i]\n",
    "        # interactions take the form (u,r)\n",
    "        rG = torch.Tensor([r for _, r in G]).mean()\n",
    "        rGneg = torch.Tensor([r for _, r in Gneg]).mean()\n",
    "        pG = self.forward(torch.LongTensor(\n",
    "            [userIDs[u] for u, _ in G]), torch.LongTensor([itemIDs[i]]*len(G))).mean()\n",
    "        pGneg = self.forward(torch.LongTensor(\n",
    "            [userIDs[u] for u, _ in Gneg]), torch.LongTensor([itemIDs[i]]*len(Gneg))).mean()\n",
    "        Uabs = torch.abs(torch.abs(pG - rG) - torch.abs(pGneg - rGneg))\n",
    "        return self.lambFair * Uabs\n",
    "\n",
    "    # Loss\n",
    "    def loss(self, u, i, r):\n",
    "        pred = self.forward(u, i)\n",
    "        # mse_loss in pytorch is 2 * l2_loss in tensorflow\n",
    "        return nn.functional.mse_loss(pred, r) + self.reg()\n"
   ]
  },
  {
   "cell_type": "code",
   "execution_count": 64,
   "metadata": {},
   "outputs": [],
   "source": [
    "modelFair = LatentFactorModel(mu, 10, 0.000001, 0.000001)\n",
    "optimizer = torch.optim.Adam(modelFair.parameters(), lr=0.1)\n"
   ]
  },
  {
   "cell_type": "code",
   "execution_count": 65,
   "metadata": {},
   "outputs": [],
   "source": [
    "def trainingStep(model, interactions):\n",
    "    # gradient reset\n",
    "    optimizer.zero_grad()\n",
    "    # data generation\n",
    "    Nsamples = 50000\n",
    "    Nfair = 50\n",
    "    sampleU, sampleI, sampleR = [], [], []\n",
    "    for _ in range(Nsamples):\n",
    "        _, u, i, r = random.choice(interactions)\n",
    "        sampleU.append(userIDs[u])\n",
    "        sampleI.append(itemIDs[i])\n",
    "        sampleR.append(r)\n",
    "    sampleU, sampleI, sampleR = torch.LongTensor(\n",
    "        sampleU), torch.LongTensor(sampleI), torch.Tensor(sampleR)\n",
    "    # loss calculation\n",
    "    loss = model.loss(sampleU, sampleI, sampleR)\n",
    "    loss += sum([model.absoluteUnfairness(i)\n",
    "                for i in random.sample(itemsBoth, Nfair)]) / Nfair\n",
    "    # gradient calculation\n",
    "    loss.backward()\n",
    "    # weight update\n",
    "    optimizer.step()\n",
    "    return loss.item()\n"
   ]
  },
  {
   "cell_type": "code",
   "execution_count": 66,
   "metadata": {},
   "outputs": [
    {
     "name": "stdout",
     "output_type": "stream",
     "text": [
      "iteration 10, loss = 0.37620335817337036\n",
      "iteration 20, loss = 0.3431888222694397\n",
      "iteration 30, loss = 0.32452094554901123\n",
      "iteration 40, loss = 0.3099097013473511\n",
      "iteration 50, loss = 0.30067178606987\n",
      "iteration 60, loss = 0.29872679710388184\n",
      "iteration 70, loss = 0.2932773232460022\n",
      "iteration 80, loss = 0.2935100197792053\n",
      "iteration 90, loss = 0.29322904348373413\n",
      "iteration 100, loss = 0.2934666574001312\n"
     ]
    }
   ],
   "source": [
    "for i in range(100):\n",
    "    loss = trainingStep(modelFair, interactions)\n",
    "    if (i % 10 == 9):\n",
    "        print(\"iteration \" + str(i+1) + \", loss = \" + str(loss))\n"
   ]
  },
  {
   "cell_type": "markdown",
   "metadata": {},
   "source": [
    "Same model, but not including the fairness terms"
   ]
  },
  {
   "cell_type": "code",
   "execution_count": 67,
   "metadata": {},
   "outputs": [],
   "source": [
    "modelUnfair = LatentFactorModel(mu, 10, 0.000001, 0.000001)\n",
    "optimizer = torch.optim.Adam(modelUnfair.parameters(), lr=0.1)\n"
   ]
  },
  {
   "cell_type": "code",
   "execution_count": 68,
   "metadata": {},
   "outputs": [
    {
     "name": "stdout",
     "output_type": "stream",
     "text": [
      "iteration 10, objective = 0.3729541003704071\n",
      "iteration 20, objective = 0.3486887514591217\n",
      "iteration 30, objective = 0.32848846912384033\n",
      "iteration 40, objective = 0.31049981713294983\n",
      "iteration 50, objective = 0.2988719046115875\n",
      "iteration 60, objective = 0.2990160286426544\n",
      "iteration 70, objective = 0.2929946780204773\n",
      "iteration 80, objective = 0.2937666177749634\n",
      "iteration 90, objective = 0.2894299030303955\n",
      "iteration 100, objective = 0.2935916781425476\n"
     ]
    }
   ],
   "source": [
    "def trainingStepUnfair(model, interactions):\n",
    "    # gradient reset\n",
    "    optimizer.zero_grad()\n",
    "    # data generation\n",
    "    Nsamples = 50000\n",
    "    sampleU, sampleI, sampleR = [], [], []\n",
    "    for _ in range(Nsamples):\n",
    "        _, u, i, r = random.choice(interactions)\n",
    "        sampleU.append(userIDs[u])\n",
    "        sampleI.append(itemIDs[i])\n",
    "        sampleR.append(r)\n",
    "    sampleU, sampleI, sampleR = torch.LongTensor(\n",
    "        sampleU), torch.LongTensor(sampleI), torch.Tensor(sampleR)\n",
    "    # loss calculation\n",
    "    loss = model.loss(sampleU, sampleI, sampleR)\n",
    "    # gradient calculation\n",
    "    loss.backward()\n",
    "    # weight update\n",
    "    optimizer.step()\n",
    "    return loss.item()\n",
    "\n",
    "\n",
    "for i in range(100):\n",
    "    obj = trainingStepUnfair(modelUnfair, interactions)\n",
    "    if (i % 10 == 9):\n",
    "        print(\"iteration \" + str(i+1) + \", objective = \" + str(obj))\n"
   ]
  },
  {
   "cell_type": "markdown",
   "metadata": {},
   "source": [
    "# Maximal marginal relevance (MMR)"
   ]
  },
  {
   "cell_type": "markdown",
   "metadata": {},
   "source": [
    "Similarity between items (in this case cosine)"
   ]
  },
  {
   "cell_type": "code",
   "execution_count": 69,
   "metadata": {},
   "outputs": [],
   "source": [
    "def cosine(v, w):\n",
    "    return (torch.sum(v * w, dim=-1) / (torch.norm(v) * torch.norm(w))).item()\n",
    "\n",
    "\n",
    "def sim(itemEmbeddings, i, j):\n",
    "    gamma_i = itemEmbeddings[i]\n",
    "    gamma_j = itemEmbeddings[j]\n",
    "    return cosine(gamma_i, gamma_j)\n"
   ]
  },
  {
   "cell_type": "markdown",
   "metadata": {},
   "source": [
    "Find the most similar item among a candidate set"
   ]
  },
  {
   "cell_type": "code",
   "execution_count": 70,
   "metadata": {},
   "outputs": [],
   "source": [
    "def maxSim(itemEmbeddings, i, seq):\n",
    "    if len(seq) == 0:\n",
    "        return 0\n",
    "    return max([sim(itemEmbeddings, i, j) for j in seq])\n"
   ]
  },
  {
   "cell_type": "markdown",
   "metadata": {},
   "source": [
    "Select a random user to receive recommendations"
   ]
  },
  {
   "cell_type": "code",
   "execution_count": 71,
   "metadata": {},
   "outputs": [],
   "source": [
    "u = random.choice(list(userIDs.keys()))\n",
    "itemSet = set(itemIDs.keys())\n"
   ]
  },
  {
   "cell_type": "markdown",
   "metadata": {},
   "source": [
    "Define a function to get the next recommendation given an initial list, i.e., the mamimal marginally relevant item. Lambda (lamb) controls the tradeoff between compatibility an diversity."
   ]
  },
  {
   "cell_type": "code",
   "execution_count": 72,
   "metadata": {},
   "outputs": [],
   "source": [
    "def getNextRec(model, compatScores, itemEmbeddings, seq, lamb):\n",
    "    scores = [(lamb * s - (1 - lamb) * maxSim(itemEmbeddings, i, seq), i)\n",
    "              for (s, i) in compatScores if not i in seq]\n",
    "    (maxScore, maxItem) = max(scores)\n",
    "    return maxItem\n"
   ]
  },
  {
   "cell_type": "markdown",
   "metadata": {},
   "source": [
    "Before re-ranking, generate a list of compatibility scores, i.e., a ranked list of items for a particular user"
   ]
  },
  {
   "cell_type": "code",
   "execution_count": 73,
   "metadata": {},
   "outputs": [],
   "source": [
    "candidates = list(itemSet.difference(itemsPerUser[u]))\n",
    "compatScores = list(zip([float(f)\n",
    "                         for f in modelUnfair(torch.LongTensor([userIDs[u]]*len(candidates)),\n",
    "                         torch.LongTensor([itemIDs[i] for i in candidates]))], candidates))\n",
    "itemEmbeddings = dict(zip(candidates,\n",
    "                          modelUnfair.gammaI.weight.data[[itemIDs[i] for i in candidates]]))\n",
    "\n",
    "compatScores.sort(reverse=True)\n"
   ]
  },
  {
   "cell_type": "markdown",
   "metadata": {},
   "source": [
    "Generate a list of recommendations for the user by repeatedly calling the retrieving the maximal marginally relevant recommendation. First, just get the most relevant items (lambda=1) without encouraging diversity."
   ]
  },
  {
   "cell_type": "markdown",
   "metadata": {},
   "source": [
    "Note that this implementation is not particularly optimized, and takes several seconds to generate a list of recommendations."
   ]
  },
  {
   "cell_type": "code",
   "execution_count": 74,
   "metadata": {},
   "outputs": [
    {
     "data": {
      "text/plain": [
       "['Oatmeal Stout',\n",
       " 'Dave',\n",
       " 'Terrapin Oak Aged Wake-n-Bake Coffee Oatmeal Imperial Stout',\n",
       " 'Josiah Miller IPA',\n",
       " 'Killer Bee',\n",
       " 'XXXX Quad',\n",
       " 'Rare Bourbon County Stout',\n",
       " 'Penguin XX Imperial Stout',\n",
       " 'Boyne River Brown Ale',\n",
       " \"Lips Of Faith - Eric's Ale (Bourbon Barrel Aged)\"]"
      ]
     },
     "execution_count": 74,
     "metadata": {},
     "output_type": "execute_result"
    }
   ],
   "source": [
    "recs = []\n",
    "while len(recs) < 10:\n",
    "    i = getNextRec(modelUnfair, compatScores[:1000], itemEmbeddings, recs, 1.0)\n",
    "    recs.append(i)\n",
    "[beerNames[i] for i in recs]\n"
   ]
  },
  {
   "cell_type": "markdown",
   "metadata": {},
   "source": [
    "More Recommendations for different relevance/diversity tradeoffs. Note that the tradeoff parameter is quite sensitive to the specific scale of the model parameters."
   ]
  },
  {
   "cell_type": "code",
   "execution_count": 75,
   "metadata": {},
   "outputs": [
    {
     "data": {
      "text/plain": [
       "['Oatmeal Stout',\n",
       " 'Registration Ale',\n",
       " \"The Dude's Oat Soda\",\n",
       " 'Killer Bee',\n",
       " 'Vanilla Bean Aged Dark Lord',\n",
       " 'Workingman',\n",
       " \"Brewer's Whim Series: IPA (Generic Alias)\",\n",
       " 'Yellow Bus',\n",
       " 'Cantillon Cuvee Moeder',\n",
       " 'Beaver Stubble Stout']"
      ]
     },
     "execution_count": 75,
     "metadata": {},
     "output_type": "execute_result"
    }
   ],
   "source": [
    "recs = []\n",
    "while len(recs) < 10:\n",
    "    i = getNextRec(model, compatScores[:1000], itemEmbeddings, recs, 0.25)\n",
    "    recs.append(i)\n",
    "[beerNames[i] for i in recs]\n"
   ]
  },
  {
   "cell_type": "code",
   "execution_count": 76,
   "metadata": {},
   "outputs": [
    {
     "data": {
      "text/plain": [
       "['Oatmeal Stout',\n",
       " 'Registration Ale',\n",
       " \"The Dude's Oat Soda\",\n",
       " 'Session Ale #40: Wood St. Kvass',\n",
       " \"Brewer's Whim Series: IPA (Generic Alias)\",\n",
       " 'Workingman',\n",
       " 'APA',\n",
       " 'Black Damnation II - Mocha Bomb',\n",
       " 'Beaver Stubble Stout',\n",
       " 'Yellow Bus']"
      ]
     },
     "execution_count": 76,
     "metadata": {},
     "output_type": "execute_result"
    }
   ],
   "source": [
    "recs = []\n",
    "while len(recs) < 10:\n",
    "    i = getNextRec(model, compatScores[:1000], itemEmbeddings, recs, 0.1)\n",
    "    recs.append(i)\n",
    "[beerNames[i] for i in recs]\n"
   ]
  },
  {
   "cell_type": "markdown",
   "metadata": {},
   "source": [
    "# Exercises"
   ]
  },
  {
   "cell_type": "markdown",
   "metadata": {},
   "source": [
    "### 10.1\n",
    "\n",
    "First just try out a different similarity function (based on the inner product)"
   ]
  },
  {
   "cell_type": "code",
   "execution_count": 77,
   "metadata": {},
   "outputs": [],
   "source": [
    "def sim(itemEmbeddings, i, j):\n",
    "    gamma_i = itemEmbeddings[i]\n",
    "    gamma_j = itemEmbeddings[j]\n",
    "    return (gamma_i * gamma_j).sum(dim=-1).sigmoid().item()\n"
   ]
  },
  {
   "cell_type": "code",
   "execution_count": 78,
   "metadata": {},
   "outputs": [],
   "source": [
    "def getNextRec(model, compatScores, itemEmbeddings, seq, lamb):\n",
    "    rels = dict([(i, s) for (s, i) in compatScores if not i in seq])\n",
    "    divs = dict([(i, maxSim(itemEmbeddings, i, seq))\n",
    "                for (s, i) in compatScores if not i in seq])\n",
    "    scores = [(lamb * rels[i] - (1 - lamb) * divs[i], i)\n",
    "              for (s, i) in compatScores if not i in seq]\n",
    "    (maxScore, maxItem) = max(scores)\n",
    "    return rels[maxItem], divs[maxItem], maxItem\n"
   ]
  },
  {
   "cell_type": "code",
   "execution_count": 79,
   "metadata": {},
   "outputs": [],
   "source": [
    "u = random.choice(list(userIDs.keys()))\n"
   ]
  },
  {
   "cell_type": "code",
   "execution_count": 80,
   "metadata": {},
   "outputs": [],
   "source": [
    "candidates = list(itemSet.difference(itemsPerUser[u]))\n",
    "compatScores = list(zip([float(f)\n",
    "                         for f in modelUnfair(torch.LongTensor([userIDs[u]]*len(candidates)),\n",
    "                         torch.LongTensor([itemIDs[i] for i in candidates]))], candidates))\n",
    "itemEmbeddings = dict(zip(candidates,\n",
    "                          modelUnfair.gammaI.weight.data[[itemIDs[i] for i in candidates]]))\n",
    "\n",
    "compatScores.sort(reverse=True)\n"
   ]
  },
  {
   "cell_type": "markdown",
   "metadata": {},
   "source": [
    "Experiment with different relevance/diversity tradeoffs"
   ]
  },
  {
   "cell_type": "code",
   "execution_count": 81,
   "metadata": {},
   "outputs": [],
   "source": [
    "xs = []\n",
    "ys = []\n",
    "for lamb in [1.0, 0.99, 0.9, 0.75, 0.5, 0.25, 0.1, 0.01, 0.001]:\n",
    "    rels = []\n",
    "    divs = []\n",
    "    recs = []\n",
    "    while len(recs) < 5:\n",
    "        r, d, i = getNextRec(\n",
    "            modelUnfair, compatScores[:1000], itemEmbeddings, recs, lamb)\n",
    "        rels.append(r)\n",
    "        divs.append(d)\n",
    "        recs.append(i)\n",
    "    xs.append(sum(rels)/len(rels))\n",
    "    ys.append(sum(divs)/len(divs))\n"
   ]
  },
  {
   "cell_type": "markdown",
   "metadata": {},
   "source": [
    "And plot the results"
   ]
  },
  {
   "cell_type": "code",
   "execution_count": 82,
   "metadata": {},
   "outputs": [
    {
     "data": {
      "image/png": "[encoded data removed]",
      "text/plain": [
       "<Figure size 432x288 with 1 Axes>"
      ]
     },
     "metadata": {
      "needs_background": "light"
     },
     "output_type": "display_data"
    }
   ],
   "source": [
    "plt.plot(xs, ys, color='k')\n",
    "plt.xlabel(\"average relevance\")\n",
    "plt.ylabel(\"average diversity\")\n",
    "plt.title(\"relevance/diversity tradeoff\")\n",
    "plt.show()\n"
   ]
  },
  {
   "cell_type": "markdown",
   "metadata": {},
   "source": [
    "### 10.2"
   ]
  },
  {
   "cell_type": "markdown",
   "metadata": {},
   "source": [
    "Concentration effects"
   ]
  },
  {
   "cell_type": "code",
   "execution_count": 83,
   "metadata": {},
   "outputs": [],
   "source": [
    "data = []\n",
    "for x in parse(os.path.join(dataDir, \"goodreads_reviews_comics_graphic.json.gz\")):\n",
    "    del x['review_text']\n",
    "    data.append(x)\n"
   ]
  },
  {
   "cell_type": "code",
   "execution_count": 84,
   "metadata": {},
   "outputs": [],
   "source": [
    "random.shuffle(data)\n"
   ]
  },
  {
   "cell_type": "code",
   "execution_count": 85,
   "metadata": {},
   "outputs": [],
   "source": [
    "userIDs, itemIDs = {}, {}\n",
    "revUIDs, revIIDs = {}, {}\n",
    "for d in data:\n",
    "    u, i = d['user_id'], d['book_id']\n",
    "    if not u in userIDs:\n",
    "        userIDs[u] = len(userIDs)\n",
    "        revUIDs[userIDs[u]] = u\n",
    "    if not i in itemIDs:\n",
    "        itemIDs[i] = len(itemIDs)\n",
    "        revIIDs[itemIDs[i]] = i\n"
   ]
  },
  {
   "cell_type": "code",
   "execution_count": 86,
   "metadata": {},
   "outputs": [
    {
     "data": {
      "text/plain": [
       "(59347, 89311)"
      ]
     },
     "execution_count": 86,
     "metadata": {},
     "output_type": "execute_result"
    }
   ],
   "source": [
    "nUsers, nItems = len(userIDs), len(itemIDs)\n",
    "nUsers, nItems\n"
   ]
  },
  {
   "cell_type": "code",
   "execution_count": 87,
   "metadata": {},
   "outputs": [],
   "source": [
    "Xiu = scipy.sparse.lil_matrix((nItems, nUsers))\n",
    "for d in data:\n",
    "    Xiu[itemIDs[d['book_id']], userIDs[d['user_id']]] = 1\n",
    "\n",
    "Xui = scipy.sparse.csr_matrix(Xiu.T)\n"
   ]
  },
  {
   "cell_type": "code",
   "execution_count": 88,
   "metadata": {},
   "outputs": [
    {
     "data": {
      "application/vnd.jupyter.widget-view+json": {
       "model_id": "01f3d9853ba04d5499326394d293bf61",
       "version_major": 2,
       "version_minor": 0
      },
      "text/plain": [
       "  0%|          | 0/100 [00:00<?, ?it/s]"
      ]
     },
     "metadata": {},
     "output_type": "display_data"
    }
   ],
   "source": [
    "model = bpr.BayesianPersonalizedRanking(factors=5, use_gpu=False)\n",
    "model.fit(Xiu)\n"
   ]
  },
  {
   "cell_type": "markdown",
   "metadata": {},
   "source": [
    "Measure concentration in terms of the Gini coefficient"
   ]
  },
  {
   "cell_type": "code",
   "execution_count": 89,
   "metadata": {},
   "outputs": [],
   "source": [
    "interactionTuples = []\n",
    "itemsPerUser = defaultdict(list)\n",
    "usersPerItem = defaultdict(list)\n",
    "\n",
    "for d in data:\n",
    "    u, i = d['user_id'], d['book_id']\n",
    "    interactionTuples.append((userIDs[u], itemIDs[i]))\n",
    "    itemsPerUser[userIDs[u]].append(itemIDs[i])\n",
    "    usersPerItem[itemIDs[i]].append(userIDs[u])\n"
   ]
  },
  {
   "cell_type": "code",
   "execution_count": 90,
   "metadata": {},
   "outputs": [],
   "source": [
    "recommendationTuples1 = []\n",
    "for u in range(len(userIDs)):\n",
    "    A = model.recommend(u, Xui, N=len(itemsPerUser[u]))\n",
    "    for i, sc in A:\n",
    "        recommendationTuples1.append((u, i))\n"
   ]
  },
  {
   "cell_type": "code",
   "execution_count": 91,
   "metadata": {},
   "outputs": [],
   "source": [
    "countsPerItemI = defaultdict(int)\n",
    "countsPerItemR1 = defaultdict(int)\n",
    "\n",
    "for u, i in interactionTuples:\n",
    "    countsPerItemI[i] += 1\n",
    "\n",
    "for u, i in recommendationTuples1:\n",
    "    countsPerItemR1[i] += 1\n"
   ]
  },
  {
   "cell_type": "markdown",
   "metadata": {},
   "source": [
    "Aplly a small penalty for items that are highly recommended (resulting a reduction of concentration). This is essentially just a simple re-ranking strategy."
   ]
  },
  {
   "cell_type": "code",
   "execution_count": 92,
   "metadata": {},
   "outputs": [],
   "source": [
    "recommendationTuples2 = []\n",
    "for u in range(len(userIDs)):\n",
    "    N = len(itemsPerUser[u])\n",
    "    A = model.recommend(u, Xui, max(N, 100))\n",
    "    Aadj = []\n",
    "    for i, sc in A:\n",
    "        # Rerank by penalizing highly-recommended items\n",
    "        Aadj.append((sc - 0.1*countsPerItemR1[i], i))\n",
    "    Aadj.sort(reverse=True)\n",
    "    for sc, i in Aadj[:N]:\n",
    "        recommendationTuples2.append((u, i))\n"
   ]
  },
  {
   "cell_type": "code",
   "execution_count": 93,
   "metadata": {},
   "outputs": [],
   "source": [
    "countsPerItemR2 = defaultdict(int)\n",
    "\n",
    "for u, i in recommendationTuples2:\n",
    "    countsPerItemR2[i] += 1\n"
   ]
  },
  {
   "cell_type": "markdown",
   "metadata": {},
   "source": [
    "Compare interaction data, recommendations, and \"corrected\" recommendations in terms of concentration"
   ]
  },
  {
   "cell_type": "code",
   "execution_count": 94,
   "metadata": {},
   "outputs": [],
   "source": [
    "sortPopularI = [(countsPerItemI[i], i) for i in countsPerItemI]\n",
    "sortPopularR1 = [(countsPerItemR1[i], i) for i in countsPerItemR1]\n",
    "sortPopularR2 = [(countsPerItemR2[i], i) for i in countsPerItemR2]\n"
   ]
  },
  {
   "cell_type": "code",
   "execution_count": 95,
   "metadata": {},
   "outputs": [],
   "source": [
    "sortPopularI.sort(reverse=True)\n",
    "sortPopularR1.sort(reverse=True)\n",
    "sortPopularR2.sort(reverse=True)\n"
   ]
  },
  {
   "cell_type": "code",
   "execution_count": 96,
   "metadata": {},
   "outputs": [
    {
     "data": {
      "text/plain": [
       "0.7208343510172622"
      ]
     },
     "execution_count": 96,
     "metadata": {},
     "output_type": "execute_result"
    }
   ],
   "source": [
    "gini([x[0] for x in sortPopularI])\n"
   ]
  },
  {
   "cell_type": "code",
   "execution_count": 97,
   "metadata": {},
   "outputs": [
    {
     "data": {
      "text/plain": [
       "0.7816414195538576"
      ]
     },
     "execution_count": 97,
     "metadata": {},
     "output_type": "execute_result"
    }
   ],
   "source": [
    "gini([x[0] for x in sortPopularR1])\n"
   ]
  },
  {
   "cell_type": "code",
   "execution_count": 98,
   "metadata": {},
   "outputs": [
    {
     "data": {
      "text/plain": [
       "0.6837148130870416"
      ]
     },
     "execution_count": 98,
     "metadata": {},
     "output_type": "execute_result"
    }
   ],
   "source": [
    "gini([x[0] for x in sortPopularR2])\n"
   ]
  },
  {
   "cell_type": "markdown",
   "metadata": {},
   "source": [
    "Ultimately we got a model with lower concentration than the original data. Could adjust the penalty term to control the concentration amount."
   ]
  },
  {
   "cell_type": "markdown",
   "metadata": {},
   "source": [
    "### 10.3"
   ]
  },
  {
   "cell_type": "markdown",
   "metadata": {},
   "source": [
    "Measure parity in terms of beer ABV (alcohol level). Do high- (or low-) alcohol items tend to get recommended more than we would expect from interaction data?"
   ]
  },
  {
   "cell_type": "code",
   "execution_count": 99,
   "metadata": {},
   "outputs": [],
   "source": [
    "userIDs = {}\n",
    "itemIDs = {}\n",
    "itemsPerUser = defaultdict(list)\n",
    "usersPerItem = defaultdict(list)\n",
    "styles = {}\n",
    "beerNames = {}\n",
    "interactions = []\n",
    "\n",
    "atr = dict()\n",
    "\n",
    "for d in parse(os.path.join(dataDir, \"beer.json.gz\")):\n",
    "    if not 'user/gender' in d:\n",
    "        continue\n",
    "    try:\n",
    "        a = d['beer/ABV'] > 7.5\n",
    "    except Exception as e:\n",
    "        continue\n",
    "    u = d['user/profileName']\n",
    "    i = d['beer/beerId']\n",
    "    r = d['review/overall']\n",
    "    styles[i] = d['beer/style']\n",
    "    beerNames[i] = d['beer/name']\n",
    "    if not u in userIDs:\n",
    "        userIDs[u] = len(userIDs)\n",
    "    if not i in itemIDs:\n",
    "        itemIDs[i] = len(itemIDs)\n",
    "    itemsPerUser[userIDs[u]].append(i)\n",
    "    usersPerItem[itemIDs[i]].append(u)\n",
    "    interactions.append((u, i, r))\n",
    "    atr[itemIDs[i]] = a\n"
   ]
  },
  {
   "cell_type": "code",
   "execution_count": 100,
   "metadata": {},
   "outputs": [
    {
     "data": {
      "text/plain": [
       "(8402, 34866)"
      ]
     },
     "execution_count": 100,
     "metadata": {},
     "output_type": "execute_result"
    }
   ],
   "source": [
    "nUsers, nItems = len(userIDs), len(itemIDs)\n",
    "nUsers, nItems\n"
   ]
  },
  {
   "cell_type": "markdown",
   "metadata": {},
   "source": [
    "Start by training a BPR model (using the implicit library)"
   ]
  },
  {
   "cell_type": "code",
   "execution_count": 101,
   "metadata": {},
   "outputs": [],
   "source": [
    "Xiu = scipy.sparse.lil_matrix((nItems, nUsers))\n",
    "for (u, i, r) in interactions:\n",
    "    Xiu[itemIDs[i], userIDs[u]] = 1\n",
    "\n",
    "Xui = scipy.sparse.csr_matrix(Xiu.T)\n"
   ]
  },
  {
   "cell_type": "code",
   "execution_count": 102,
   "metadata": {},
   "outputs": [
    {
     "data": {
      "application/vnd.jupyter.widget-view+json": {
       "model_id": "2a4265d895fd4a0c8c6404540b4049d2",
       "version_major": 2,
       "version_minor": 0
      },
      "text/plain": [
       "  0%|          | 0/100 [00:00<?, ?it/s]"
      ]
     },
     "metadata": {},
     "output_type": "display_data"
    }
   ],
   "source": [
    "model = bpr.BayesianPersonalizedRanking(factors=5, use_gpu=False)\n",
    "model.fit(Xiu)\n"
   ]
  },
  {
   "cell_type": "markdown",
   "metadata": {},
   "source": [
    "Frequency of positive (high alcohol) versus negative (low alcohol) among interactions"
   ]
  },
  {
   "cell_type": "code",
   "execution_count": 103,
   "metadata": {},
   "outputs": [
    {
     "data": {
      "text/plain": [
       "(216825, 395700)"
      ]
     },
     "execution_count": 103,
     "metadata": {},
     "output_type": "execute_result"
    }
   ],
   "source": [
    "apos, aneg = 0, 0\n",
    "\n",
    "for (u, i, r) in interactions:\n",
    "    if atr[itemIDs[i]]:\n",
    "        apos += 1\n",
    "    else:\n",
    "        aneg += 1\n",
    "\n",
    "apos, aneg\n"
   ]
  },
  {
   "cell_type": "markdown",
   "metadata": {},
   "source": [
    "Frequency among recommendations (low alcohol items end up being slightly over-recommended)"
   ]
  },
  {
   "cell_type": "code",
   "execution_count": 104,
   "metadata": {},
   "outputs": [
    {
     "data": {
      "text/plain": [
       "(199317, 413208)"
      ]
     },
     "execution_count": 104,
     "metadata": {},
     "output_type": "execute_result"
    }
   ],
   "source": [
    "apos, aneg = 0, 0\n",
    "\n",
    "for u in range(len(userIDs)):\n",
    "    A = model.recommend(u, Xui, N=len(itemsPerUser[u]))\n",
    "    for i, sc in A:\n",
    "        if atr[i]:\n",
    "            apos += 1\n",
    "        else:\n",
    "            aneg += 1\n",
    "\n",
    "apos, aneg\n"
   ]
  },
  {
   "cell_type": "markdown",
   "metadata": {},
   "source": [
    "As in 10.2, correct using a re-ranking strategy with a simple penalty term (in this case encouraging high-alcohol items to be recommended). Again this could be adjusted to achieve the desired calibration."
   ]
  },
  {
   "cell_type": "code",
   "execution_count": 105,
   "metadata": {},
   "outputs": [
    {
     "data": {
      "text/plain": [
       "(235361, 377164)"
      ]
     },
     "execution_count": 105,
     "metadata": {},
     "output_type": "execute_result"
    }
   ],
   "source": [
    "apos, aneg = 0, 0\n",
    "\n",
    "for u in range(len(userIDs)):\n",
    "    N = len(itemsPerUser[u])\n",
    "    A = model.recommend(u, Xui, N*2)\n",
    "    Aadj = []\n",
    "    for i, sc in A:\n",
    "        Aadj.append((sc + 0.1*atr[i], i))\n",
    "    Aadj.sort(reverse=True)\n",
    "    for sc, i in Aadj[:N]:\n",
    "        if atr[i]:\n",
    "            apos += 1\n",
    "        else:\n",
    "            aneg += 1\n",
    "\n",
    "apos, aneg\n"
   ]
  },
  {
   "cell_type": "code",
   "execution_count": null,
   "metadata": {},
   "outputs": [],
   "source": []
  }
 ],
 "metadata": {
  "kernelspec": {
   "display_name": "Python 3",
   "language": "python",
   "name": "python3"
  },
  "language_info": {
   "codemirror_mode": {
    "name": "ipython",
    "version": 3
   },
   "file_extension": ".py",
   "mimetype": "text/x-python",
   "name": "python",
   "nbconvert_exporter": "python",
   "pygments_lexer": "ipython3",
   "version": "3.7.12"
  }
 },
 "nbformat": 4,
 "nbformat_minor": 2
}
