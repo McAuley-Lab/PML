{
 "cells": [
  {
   "cell_type": "code",
   "execution_count": 1,
   "metadata": {},
   "outputs": [
    {
     "name": "stderr",
     "output_type": "stream",
     "text": [
      "/home/zhankui/anaconda3/envs/pml/lib/python3.7/site-packages/tqdm/auto.py:22: TqdmWarning: IProgress not found. Please update jupyter and ipywidgets. See https://ipywidgets.readthedocs.io/en/stable/user_install.html\n",
      "  from .autonotebook import tqdm as notebook_tqdm\n"
     ]
    }
   ],
   "source": [
    "import os \n",
    "import wget\n",
    "import gzip\n",
    "import math\n",
    "import matplotlib.pyplot as plt\n",
    "import random\n",
    "import scipy\n",
    "import tensorflow as tf\n",
    "from collections import defaultdict\n",
    "from implicit import bpr\n",
    "from scipy.spatial import distance"
   ]
  },
  {
   "cell_type": "markdown",
   "metadata": {},
   "source": [
    "Data is available at http://cseweb.ucsd.edu/~jmcauley/pml/data/. \n",
    "- Download and save to your own directory.\n",
    "- Or, run following script to save it into `Chapter_10/data` folder automatically."
   ]
  },
  {
   "cell_type": "code",
   "execution_count": 2,
   "metadata": {},
   "outputs": [
    {
     "name": "stdout",
     "output_type": "stream",
     "text": [
      "Done!\n"
     ]
    }
   ],
   "source": [
    "filenames = [\n",
    "    'goodreads_reviews_comics_graphic.json.gz',\n",
    "    'beer.json.gz'\n",
    "]\n",
    "\n",
    "dataDir = './data'\n",
    "url = 'http://jmcauley.ucsd.edu/pml_data'\n",
    "\n",
    "if not os.path.exists(dataDir):\n",
    "    os.makedirs(dataDir)\n",
    "for filename in filenames:\n",
    "    wget.download(os.path.join(url, filename), out=dataDir)\n",
    "\n",
    "print(\"Done!\")"
   ]
  },
  {
   "cell_type": "markdown",
   "metadata": {},
   "source": [
    "# Basic fairness measurements - interaction and recommendation distributions"
   ]
  },
  {
   "cell_type": "markdown",
   "metadata": {},
   "source": [
    "Goodreads graphic novel data. Train a standard recommender, and compare generated recommendations to historical interactions, in terms of frequency distributions."
   ]
  },
  {
   "cell_type": "code",
   "execution_count": 3,
   "metadata": {},
   "outputs": [],
   "source": [
    "def parse(path):\n",
    "    g = gzip.open(path, 'r')\n",
    "    for l in g:\n",
    "        yield eval(l)"
   ]
  },
  {
   "cell_type": "code",
   "execution_count": 4,
   "metadata": {},
   "outputs": [],
   "source": [
    "data = []\n",
    "for x in parse(os.path.join(dataDir, \"goodreads_reviews_comics_graphic.json.gz\")):\n",
    "    del x['review_text']\n",
    "    data.append(x)"
   ]
  },
  {
   "cell_type": "code",
   "execution_count": 5,
   "metadata": {},
   "outputs": [],
   "source": [
    "random.shuffle(data)"
   ]
  },
  {
   "cell_type": "code",
   "execution_count": 6,
   "metadata": {},
   "outputs": [],
   "source": [
    "userIDs,itemIDs = {},{}\n",
    "revUIDs,revIIDs = {},{}\n",
    "for d in data:\n",
    "    u,i = d['user_id'],d['book_id']\n",
    "    if not u in userIDs:\n",
    "        userIDs[u] = len(userIDs)\n",
    "        revUIDs[userIDs[u]] = u\n",
    "    if not i in itemIDs:\n",
    "        itemIDs[i] = len(itemIDs)\n",
    "        revIIDs[itemIDs[i]] = i"
   ]
  },
  {
   "cell_type": "code",
   "execution_count": 7,
   "metadata": {},
   "outputs": [
    {
     "data": {
      "text/plain": [
       "(59347, 89311)"
      ]
     },
     "execution_count": 7,
     "metadata": {},
     "output_type": "execute_result"
    }
   ],
   "source": [
    "nUsers,nItems = len(userIDs),len(itemIDs)\n",
    "nUsers,nItems"
   ]
  },
  {
   "cell_type": "markdown",
   "metadata": {},
   "source": [
    "Problem setup follows the BPR library from \"implicit\" (see Chapter 5), but could be completed with any recommender"
   ]
  },
  {
   "cell_type": "code",
   "execution_count": 8,
   "metadata": {},
   "outputs": [],
   "source": [
    "Xiu = scipy.sparse.lil_matrix((nItems, nUsers))\n",
    "for d in data:\n",
    "    Xiu[itemIDs[d['book_id']],userIDs[d['user_id']]] = 1\n",
    "    \n",
    "Xui = scipy.sparse.csr_matrix(Xiu.T)"
   ]
  },
  {
   "cell_type": "code",
   "execution_count": 29,
   "metadata": {},
   "outputs": [],
   "source": [
    "model = bpr.BayesianPersonalizedRanking(factors = 5, use_gpu = False)"
   ]
  },
  {
   "cell_type": "markdown",
   "metadata": {},
   "source": [
    "Fit the model"
   ]
  },
  {
   "cell_type": "code",
   "execution_count": 30,
   "metadata": {},
   "outputs": [
    {
     "name": "stderr",
     "output_type": "stream",
     "text": [
      "100%|██████████| 100/100 [00:02<00:00, 33.62it/s, train_auc=88.90%, skipped=2.41%]\n"
     ]
    }
   ],
   "source": [
    "model.fit(Xiu)"
   ]
  },
  {
   "cell_type": "markdown",
   "metadata": {},
   "source": [
    "Extract recommendations (example)"
   ]
  },
  {
   "cell_type": "code",
   "execution_count": 31,
   "metadata": {},
   "outputs": [
    {
     "data": {
      "text/plain": [
       "[(6486, 1.889856),\n",
       " (1489, 1.7520949),\n",
       " (1065, 1.6937006),\n",
       " (4062, 1.6836636),\n",
       " (41, 1.5747803),\n",
       " (10417, 1.5741626),\n",
       " (5328, 1.570247),\n",
       " (5078, 1.5630256),\n",
       " (6350, 1.5610315),\n",
       " (3508, 1.5565355)]"
      ]
     },
     "execution_count": 31,
     "metadata": {},
     "output_type": "execute_result"
    }
   ],
   "source": [
    "model.recommend(0, Xui)"
   ]
  },
  {
   "cell_type": "markdown",
   "metadata": {},
   "source": [
    "Next we extract recommendations for all users, and compare these to their interaction histories. First collect histories from historical trends:"
   ]
  },
  {
   "cell_type": "code",
   "execution_count": 32,
   "metadata": {},
   "outputs": [],
   "source": [
    "interactionTuples = []\n",
    "itemsPerUser = defaultdict(list)"
   ]
  },
  {
   "cell_type": "code",
   "execution_count": 33,
   "metadata": {},
   "outputs": [],
   "source": [
    "for d in data:\n",
    "    u,i = d['user_id'],d['book_id']\n",
    "    interactionTuples.append((userIDs[u],itemIDs[i]))\n",
    "    itemsPerUser[userIDs[u]].append(itemIDs[i])"
   ]
  },
  {
   "cell_type": "markdown",
   "metadata": {},
   "source": [
    "Next build similar data structures containing recommendations for each user"
   ]
  },
  {
   "cell_type": "code",
   "execution_count": 34,
   "metadata": {},
   "outputs": [],
   "source": [
    "recommendationTuples = []"
   ]
  },
  {
   "cell_type": "markdown",
   "metadata": {},
   "source": [
    "For each user, generate a set of recommendations equivalent in size to their number of interactions used for training"
   ]
  },
  {
   "cell_type": "code",
   "execution_count": 35,
   "metadata": {},
   "outputs": [],
   "source": [
    "for u in range(len(userIDs)):\n",
    "    A = model.recommend(u, Xui, N = len(itemsPerUser[u]))\n",
    "    for i, sc in A:\n",
    "        recommendationTuples.append((u,i))"
   ]
  },
  {
   "cell_type": "markdown",
   "metadata": {},
   "source": [
    "So far our data structures just contain lists of historical interactions and recommendations for each user. Convert these into counts for each item. This is done both for interactions (I) and recommendations (R)."
   ]
  },
  {
   "cell_type": "code",
   "execution_count": 36,
   "metadata": {},
   "outputs": [],
   "source": [
    "countsPerItemI = defaultdict(int)\n",
    "countsPerItemR = defaultdict(int)\n",
    "for u,i in interactionTuples:\n",
    "    countsPerItemI[i] += 1\n",
    "\n",
    "for u,i in recommendationTuples:\n",
    "    countsPerItemR[i] += 1"
   ]
  },
  {
   "cell_type": "markdown",
   "metadata": {},
   "source": [
    "Sort counts by popularity to generate plots"
   ]
  },
  {
   "cell_type": "code",
   "execution_count": 37,
   "metadata": {},
   "outputs": [],
   "source": [
    "sortPopularI = [(countsPerItemI[i], i) for i in countsPerItemI]\n",
    "sortPopularR = [(countsPerItemR[i], i) for i in countsPerItemR]"
   ]
  },
  {
   "cell_type": "code",
   "execution_count": 38,
   "metadata": {},
   "outputs": [],
   "source": [
    "sortPopularI.sort(reverse=True)\n",
    "sortPopularR.sort(reverse=True)"
   ]
  },
  {
   "cell_type": "markdown",
   "metadata": {},
   "source": [
    "Collect the information for interactions and recommendations for plotting"
   ]
  },
  {
   "cell_type": "code",
   "execution_count": 39,
   "metadata": {},
   "outputs": [],
   "source": [
    "YI = [x[0] for x in sortPopularI[:300]] # Interaction frequency\n",
    "Ys = [x[1] for x in sortPopularI[:300]] # Associated items\n",
    "YR = [countsPerItemR[x] for x in Ys] # Recommendation frequency for those items"
   ]
  },
  {
   "cell_type": "code",
   "execution_count": 40,
   "metadata": {},
   "outputs": [
    {
     "data": {
      "image/png": "[encoded data removed]",
      "text/plain": [
       "<Figure size 432x288 with 1 Axes>"
      ]
     },
     "metadata": {
      "needs_background": "light"
     },
     "output_type": "display_data"
    }
   ],
   "source": [
    "plt.plot(range(1,301),YI, color='k', label = \"interactions\")\n",
    "plt.xlim(1,200)\n",
    "plt.ylim(0,1150)\n",
    "plt.plot(range(1,301),YR, color='grey', label = \"recommendations\")\n",
    "plt.xlabel(\"popularity rank (interactions)\")\n",
    "plt.ylabel(\"interaction freq.\")\n",
    "plt.legend(loc=\"best\",  prop={'size': 8})\n",
    "plt.title(\"Recommendation diversity\")\n",
    "plt.show()"
   ]
  },
  {
   "cell_type": "code",
   "execution_count": 41,
   "metadata": {},
   "outputs": [],
   "source": [
    "YR = [x[0] for x in sortPopularR[:300]]\n",
    "Ys = [x[1] for x in sortPopularR[:300]]\n",
    "YI = [countsPerItemI[x] for x in Ys]"
   ]
  },
  {
   "cell_type": "code",
   "execution_count": 42,
   "metadata": {},
   "outputs": [
    {
     "data": {
      "image/png": "[encoded data removed]",
      "text/plain": [
       "<Figure size 432x288 with 1 Axes>"
      ]
     },
     "metadata": {
      "needs_background": "light"
     },
     "output_type": "display_data"
    }
   ],
   "source": [
    "plt.plot(range(1,301),YI, color='k', label = \"interactions\")\n",
    "plt.xlim(1,200)\n",
    "plt.ylim(0,1150)\n",
    "plt.plot(range(1,301),YR, color='grey', label = \"recommendations\")\n",
    "plt.xlabel(\"popularity rank (recommendations)\")\n",
    "plt.ylabel(\"interaction freq.\")\n",
    "plt.legend(loc=\"best\",  prop={'size': 8})\n",
    "plt.title(\"Recommendation diversity\")\n",
    "plt.show()"
   ]
  },
  {
   "cell_type": "markdown",
   "metadata": {},
   "source": [
    "# Gini goefficient"
   ]
  },
  {
   "cell_type": "markdown",
   "metadata": {},
   "source": [
    "The two implementations below compute the gini coefficient either by comparing all pairs, or by doing so for a given number of samples"
   ]
  },
  {
   "cell_type": "code",
   "execution_count": 43,
   "metadata": {},
   "outputs": [],
   "source": [
    "def gini(z, samples=1000000):\n",
    "    m = sum(z) / len(z)\n",
    "    denom = 2 * samples * m\n",
    "    numer = 0\n",
    "    for _ in range(samples):\n",
    "        i = random.choice(z)\n",
    "        j = random.choice(z)\n",
    "        numer += math.fabs(i - j)\n",
    "    return numer / denom\n",
    "\n",
    "def giniExact(z):\n",
    "    m = sum(z) / len(z)\n",
    "    denom = 2 * len(z)**2 * m\n",
    "    numer = 0\n",
    "    for i in range(len(z)):\n",
    "        for j in range(len(z)):\n",
    "            numer += math.fabs(z[i] - z[j])\n",
    "    return numer / denom"
   ]
  },
  {
   "cell_type": "markdown",
   "metadata": {},
   "source": [
    "Compute the gini coefficients of interactions versus distributions for the two distributions computed in the experiments above"
   ]
  },
  {
   "cell_type": "code",
   "execution_count": 44,
   "metadata": {},
   "outputs": [
    {
     "data": {
      "text/plain": [
       "0.7192450460801196"
      ]
     },
     "execution_count": 44,
     "metadata": {},
     "output_type": "execute_result"
    }
   ],
   "source": [
    "gini([x[0] for x in sortPopularI])"
   ]
  },
  {
   "cell_type": "code",
   "execution_count": 45,
   "metadata": {},
   "outputs": [
    {
     "data": {
      "text/plain": [
       "0.7701235635166631"
      ]
     },
     "execution_count": 45,
     "metadata": {},
     "output_type": "execute_result"
    }
   ],
   "source": [
    "gini([x[0] for x in sortPopularR])"
   ]
  },
  {
   "cell_type": "markdown",
   "metadata": {},
   "source": [
    "### Average cosine similarity between interactions versus recommendations"
   ]
  },
  {
   "cell_type": "markdown",
   "metadata": {},
   "source": [
    "Given a set of items, measure the average cosine distance between them (by taking a sample of pairs, similar to our implementation of the gini coefficient). This can be used as a rough measure of the diversity of a set of recommendations."
   ]
  },
  {
   "cell_type": "code",
   "execution_count": 46,
   "metadata": {},
   "outputs": [],
   "source": [
    "def avCosine(z, samples = 100):\n",
    "    av = []\n",
    "    while len(av) < samples:\n",
    "        i = random.choice(z)\n",
    "        j = random.choice(z)\n",
    "        d = 1 - distance.cosine(i, j)\n",
    "        if not math.isnan(d) and d > 0:\n",
    "            av.append(d)\n",
    "    return sum(av) / len(av)"
   ]
  },
  {
   "cell_type": "code",
   "execution_count": 47,
   "metadata": {},
   "outputs": [],
   "source": [
    "itemFactors = model.item_factors"
   ]
  },
  {
   "cell_type": "markdown",
   "metadata": {},
   "source": [
    "Compute the average cosine similarity among interactions from a particular user"
   ]
  },
  {
   "cell_type": "code",
   "execution_count": 48,
   "metadata": {},
   "outputs": [
    {
     "data": {
      "text/plain": [
       "0.5007268412318081"
      ]
     },
     "execution_count": 48,
     "metadata": {},
     "output_type": "execute_result"
    }
   ],
   "source": [
    "avCosine([itemFactors[i] for i in itemsPerUser[0]])"
   ]
  },
  {
   "cell_type": "markdown",
   "metadata": {},
   "source": [
    "Compute the same quantity across a large sample of recommendations and interactions for several users, as an aggregate measure of recommendation versus interaction diversity"
   ]
  },
  {
   "cell_type": "code",
   "execution_count": 49,
   "metadata": {},
   "outputs": [],
   "source": [
    "avavI = []\n",
    "avavR = []\n",
    "\n",
    "while len(avavI) < 1000:\n",
    "    u = random.choice(range(len(userIDs)))\n",
    "    if len(itemsPerUser[u]) < 10:\n",
    "        continue\n",
    "    aI = avCosine([itemFactors[i] for i in itemsPerUser[u]])\n",
    "    A = model.recommend(u, Xui, N = len(itemsPerUser[u]))\n",
    "    aR = avCosine([itemFactors[i[0]] for i in A])\n",
    "    avavI.append(aI)\n",
    "    avavR.append(aR)"
   ]
  },
  {
   "cell_type": "markdown",
   "metadata": {},
   "source": [
    "A lower average cosine similarity among interactions indicates that they are more diverse compared to recommendations"
   ]
  },
  {
   "cell_type": "code",
   "execution_count": 50,
   "metadata": {},
   "outputs": [
    {
     "data": {
      "text/plain": [
       "0.6241852634136454"
      ]
     },
     "execution_count": 50,
     "metadata": {},
     "output_type": "execute_result"
    }
   ],
   "source": [
    "sum(avavI) / len(avavI)"
   ]
  },
  {
   "cell_type": "code",
   "execution_count": 51,
   "metadata": {},
   "outputs": [
    {
     "data": {
      "text/plain": [
       "0.8640437527464895"
      ]
     },
     "execution_count": 51,
     "metadata": {},
     "output_type": "execute_result"
    }
   ],
   "source": [
    "sum(avavR) / len(avavR)"
   ]
  },
  {
   "cell_type": "markdown",
   "metadata": {},
   "source": [
    "# Fair recommendation"
   ]
  },
  {
   "cell_type": "markdown",
   "metadata": {},
   "source": [
    "First, implement a latent factor model. Our basic implementation follows the Tensorflow latent factor model from Chapter 5."
   ]
  },
  {
   "cell_type": "code",
   "execution_count": 52,
   "metadata": {},
   "outputs": [],
   "source": [
    "userIDs = {}\n",
    "itemIDs = {}\n",
    "itemsPerUser = defaultdict(set)\n",
    "styles = {}\n",
    "beerNames = {}\n",
    "interactions = []\n",
    "\n",
    "for d in parse(os.path.join(dataDir, \"beer.json.gz\")):\n",
    "    if not 'user/gender' in d: continue\n",
    "    g = d['user/gender'] == 'Male'\n",
    "    u = d['user/profileName']\n",
    "    i = d['beer/beerId']\n",
    "    r = d['review/overall']\n",
    "    styles[i] = d['beer/style']\n",
    "    beerNames[i] = d['beer/name']\n",
    "    if not u in userIDs: userIDs[u] = len(userIDs)\n",
    "    if not i in itemIDs: itemIDs[i] = len(itemIDs)\n",
    "    itemsPerUser[u].add(i)\n",
    "    interactions.append((g,u,i,r))"
   ]
  },
  {
   "cell_type": "code",
   "execution_count": 53,
   "metadata": {},
   "outputs": [
    {
     "data": {
      "text/plain": [
       "637221"
      ]
     },
     "execution_count": 53,
     "metadata": {},
     "output_type": "execute_result"
    }
   ],
   "source": [
    "len(interactions)"
   ]
  },
  {
   "cell_type": "markdown",
   "metadata": {},
   "source": [
    "Data structures to organize interactions by gender"
   ]
  },
  {
   "cell_type": "code",
   "execution_count": 54,
   "metadata": {},
   "outputs": [],
   "source": [
    "interactionsPerItemG = defaultdict(list) # Male interactions\n",
    "interactionsPerItemGneg = defaultdict(list) # Other interactions"
   ]
  },
  {
   "cell_type": "code",
   "execution_count": 55,
   "metadata": {},
   "outputs": [],
   "source": [
    "for g,u,i,r in interactions:\n",
    "    if g: interactionsPerItemG[i].append((u,r)) # Male interactions for this item\n",
    "    else: interactionsPerItemGneg[i].append((u,r))"
   ]
  },
  {
   "cell_type": "code",
   "execution_count": 56,
   "metadata": {},
   "outputs": [],
   "source": [
    "itemsG = set(interactionsPerItemG.keys()) # Set of items associated with male interactions\n",
    "itemsGneg = set(interactionsPerItemGneg.keys())\n",
    "itemsBoth = itemsG.intersection(itemsGneg)"
   ]
  },
  {
   "cell_type": "code",
   "execution_count": 57,
   "metadata": {},
   "outputs": [],
   "source": [
    "mu = sum([r for _,_,_,r in interactions]) / len(interactions) # For initialization"
   ]
  },
  {
   "cell_type": "code",
   "execution_count": 58,
   "metadata": {},
   "outputs": [],
   "source": [
    "optimizer = tf.keras.optimizers.Adam(0.1)"
   ]
  },
  {
   "cell_type": "markdown",
   "metadata": {},
   "source": [
    "Latent factor model. The \"absoluteFairness\" function is new; others are equivalent to our model from Chapter 5."
   ]
  },
  {
   "cell_type": "code",
   "execution_count": 59,
   "metadata": {},
   "outputs": [],
   "source": [
    "class LatentFactorModel(tf.keras.Model):\n",
    "    def __init__(self, mu, K, lamb, lambFair):\n",
    "        super(LatentFactorModel, self).__init__()\n",
    "        self.alpha = tf.Variable(mu)\n",
    "        self.betaU = tf.Variable(tf.random.normal([len(userIDs)],stddev=0.001))\n",
    "        self.betaI = tf.Variable(tf.random.normal([len(itemIDs)],stddev=0.001))\n",
    "        self.gammaU = tf.Variable(tf.random.normal([len(userIDs),K],stddev=0.001))\n",
    "        self.gammaI = tf.Variable(tf.random.normal([len(itemIDs),K],stddev=0.001))\n",
    "        self.lamb = lamb\n",
    "        self.lambFair = lambFair\n",
    "\n",
    "    def predict(self, u, i):\n",
    "        p = self.alpha + self.betaU[u] + self.betaI[i] +\\\n",
    "            tf.tensordot(self.gammaU[u], self.gammaI[i], 1)\n",
    "        return p\n",
    "\n",
    "    def reg(self):\n",
    "        return self.lamb * (tf.reduce_sum(self.betaU**2) +\\\n",
    "                            tf.reduce_sum(self.betaI**2) +\\\n",
    "                            tf.reduce_sum(self.gammaU**2) +\\\n",
    "                            tf.reduce_sum(self.gammaI**2))\n",
    "    \n",
    "    def predictSample(self, sampleU, sampleI):\n",
    "        u = tf.convert_to_tensor(sampleU, dtype=tf.int32)\n",
    "        i = tf.convert_to_tensor(sampleI, dtype=tf.int32)\n",
    "        beta_u = tf.nn.embedding_lookup(self.betaU, u)\n",
    "        beta_i = tf.nn.embedding_lookup(self.betaI, i)\n",
    "        gamma_u = tf.nn.embedding_lookup(self.gammaU, u)\n",
    "        gamma_i = tf.nn.embedding_lookup(self.gammaI, i)\n",
    "        pred = self.alpha + beta_u + beta_i +\\\n",
    "               tf.reduce_sum(tf.multiply(gamma_u, gamma_i), 1)\n",
    "        return pred\n",
    "    \n",
    "    # For a single item. This score should be averaged over several items\n",
    "    def absoluteUnfairness(self, i):\n",
    "        G = interactionsPerItemG[i]\n",
    "        Gneg = interactionsPerItemGneg[i]\n",
    "        # interactions take the form (u,r)\n",
    "        rG    = tf.reduce_mean(tf.convert_to_tensor([r for _,r in G]))\n",
    "        rGneg = tf.reduce_mean(tf.convert_to_tensor([r for _,r in Gneg]))\n",
    "        pG    = tf.reduce_mean(\n",
    "            self.predictSample([userIDs[u] for u,_ in G], [itemIDs[i]]*len(G)))\n",
    "        pGneg = tf.reduce_mean(\n",
    "            self.predictSample([userIDs[u] for u,_ in Gneg], [itemIDs[i]]*len(Gneg)))\n",
    "        Uabs = tf.abs(tf.abs(pG - rG) - tf.abs(pGneg - rGneg))\n",
    "        return self.lambFair * Uabs\n",
    "    \n",
    "    def call(self, sampleU, sampleI, sampleR):\n",
    "        pred = self.predictSample(sampleU, sampleI)\n",
    "        r = tf.convert_to_tensor(sampleR, dtype=tf.float32)\n",
    "        return tf.nn.l2_loss(pred - r) / len(sampleR)"
   ]
  },
  {
   "cell_type": "code",
   "execution_count": 60,
   "metadata": {},
   "outputs": [
    {
     "name": "stderr",
     "output_type": "stream",
     "text": [
      "2022-03-21 23:52:45.360684: I tensorflow/stream_executor/cuda/cuda_gpu_executor.cc:936] successful NUMA node read from SysFS had negative value (-1), but there must be at least one NUMA node, so returning NUMA node zero\n",
      "2022-03-21 23:52:45.366501: I tensorflow/stream_executor/cuda/cuda_gpu_executor.cc:936] successful NUMA node read from SysFS had negative value (-1), but there must be at least one NUMA node, so returning NUMA node zero\n",
      "2022-03-21 23:52:45.366994: I tensorflow/stream_executor/cuda/cuda_gpu_executor.cc:936] successful NUMA node read from SysFS had negative value (-1), but there must be at least one NUMA node, so returning NUMA node zero\n",
      "2022-03-21 23:52:45.367648: I tensorflow/core/platform/cpu_feature_guard.cc:151] This TensorFlow binary is optimized with oneAPI Deep Neural Network Library (oneDNN) to use the following CPU instructions in performance-critical operations:  AVX2 FMA\n",
      "To enable them in other operations, rebuild TensorFlow with the appropriate compiler flags.\n",
      "2022-03-21 23:52:45.368242: I tensorflow/stream_executor/cuda/cuda_gpu_executor.cc:936] successful NUMA node read from SysFS had negative value (-1), but there must be at least one NUMA node, so returning NUMA node zero\n",
      "2022-03-21 23:52:45.368485: I tensorflow/stream_executor/cuda/cuda_gpu_executor.cc:936] successful NUMA node read from SysFS had negative value (-1), but there must be at least one NUMA node, so returning NUMA node zero\n",
      "2022-03-21 23:52:45.368707: I tensorflow/stream_executor/cuda/cuda_gpu_executor.cc:936] successful NUMA node read from SysFS had negative value (-1), but there must be at least one NUMA node, so returning NUMA node zero\n",
      "2022-03-21 23:52:45.369054: I tensorflow/stream_executor/cuda/cuda_gpu_executor.cc:936] successful NUMA node read from SysFS had negative value (-1), but there must be at least one NUMA node, so returning NUMA node zero\n",
      "2022-03-21 23:52:45.369287: I tensorflow/stream_executor/cuda/cuda_gpu_executor.cc:936] successful NUMA node read from SysFS had negative value (-1), but there must be at least one NUMA node, so returning NUMA node zero\n",
      "2022-03-21 23:52:45.369515: I tensorflow/stream_executor/cuda/cuda_gpu_executor.cc:936] successful NUMA node read from SysFS had negative value (-1), but there must be at least one NUMA node, so returning NUMA node zero\n",
      "2022-03-21 23:52:45.369733: I tensorflow/core/common_runtime/gpu/gpu_device.cc:1525] Created device /job:localhost/replica:0/task:0/device:GPU:0 with 1652 MB memory:  -> device: 0, name: NVIDIA GeForce RTX 2080 SUPER, pci bus id: 0000:07:00.0, compute capability: 7.5\n"
     ]
    }
   ],
   "source": [
    "modelFair = LatentFactorModel(mu, 10, 0.000001, 0.000001)"
   ]
  },
  {
   "cell_type": "code",
   "execution_count": 61,
   "metadata": {},
   "outputs": [],
   "source": [
    "def trainingStep(model, interactions):\n",
    "    Nsamples = 5000\n",
    "    Nfair = 50\n",
    "    with tf.GradientTape() as tape:\n",
    "        sampleU, sampleI, sampleR = [], [], []\n",
    "        for _ in range(Nsamples):\n",
    "            _,u,i,r = random.choice(interactions)\n",
    "            sampleU.append(userIDs[u])\n",
    "            sampleI.append(itemIDs[i])\n",
    "            sampleR.append(r)\n",
    "\n",
    "        loss = model(sampleU,sampleI,sampleR)\n",
    "        loss += sum([model.absoluteUnfairness(i)\n",
    "                     for i in random.sample(itemsBoth,Nfair)])/Nfair\n",
    "        loss += model.reg()\n",
    "    gradients = tape.gradient(loss, model.trainable_variables)\n",
    "    optimizer.apply_gradients((grad, var) for\n",
    "                              (grad, var) in zip(gradients, model.trainable_variables)\n",
    "                              if grad is not None)\n",
    "    return loss.numpy()"
   ]
  },
  {
   "cell_type": "code",
   "execution_count": 62,
   "metadata": {},
   "outputs": [
    {
     "name": "stdout",
     "output_type": "stream",
     "text": [
      "iteration 50, objective = 0.26203477\n",
      "iteration 100, objective = 0.27126437\n"
     ]
    }
   ],
   "source": [
    "for i in range(100):\n",
    "    obj = trainingStep(modelFair, interactions)\n",
    "    if (i % 50 == 49): print(\"iteration \" + str(i+1) + \", objective = \" + str(obj))"
   ]
  },
  {
   "cell_type": "markdown",
   "metadata": {},
   "source": [
    "Same model, but not including the fairness terms"
   ]
  },
  {
   "cell_type": "code",
   "execution_count": 63,
   "metadata": {},
   "outputs": [],
   "source": [
    "modelUnfair = LatentFactorModel(mu, 10, 0.000001, 0.000001)"
   ]
  },
  {
   "cell_type": "code",
   "execution_count": 64,
   "metadata": {},
   "outputs": [],
   "source": [
    "def trainingStepUnfair(model, interactions):\n",
    "    Nsamples = 5000\n",
    "    with tf.GradientTape() as tape:\n",
    "        sampleU, sampleI, sampleR = [], [], []\n",
    "        for _ in range(Nsamples):\n",
    "            _,u,i,r = random.choice(interactions)\n",
    "            sampleU.append(userIDs[u])\n",
    "            sampleI.append(itemIDs[i])\n",
    "            sampleR.append(r)\n",
    "\n",
    "        loss = model(sampleU,sampleI,sampleR)\n",
    "        loss += model.reg()\n",
    "    gradients = tape.gradient(loss, model.trainable_variables)\n",
    "    optimizer.apply_gradients((grad, var) for\n",
    "                              (grad, var) in zip(gradients, model.trainable_variables)\n",
    "                              if grad is not None)\n",
    "    return loss.numpy()"
   ]
  },
  {
   "cell_type": "code",
   "execution_count": 65,
   "metadata": {},
   "outputs": [
    {
     "name": "stdout",
     "output_type": "stream",
     "text": [
      "iteration 50, objective = 0.5714966\n",
      "iteration 100, objective = 0.42219454\n"
     ]
    }
   ],
   "source": [
    "for i in range(100):\n",
    "    obj = trainingStepUnfair(modelUnfair, interactions)\n",
    "    if (i % 50 == 49): print(\"iteration \" + str(i+1) + \", objective = \" + str(obj))"
   ]
  },
  {
   "cell_type": "markdown",
   "metadata": {},
   "source": [
    "# Maximal marginal relevance (MMR)"
   ]
  },
  {
   "cell_type": "markdown",
   "metadata": {},
   "source": [
    "Similarity between items (in this case cosine)"
   ]
  },
  {
   "cell_type": "code",
   "execution_count": 66,
   "metadata": {},
   "outputs": [],
   "source": [
    "def cosine(v,w):\n",
    "    return float(tf.tensordot(v, w, 1) / (tf.norm(v) * tf.norm(w)))"
   ]
  },
  {
   "cell_type": "code",
   "execution_count": 67,
   "metadata": {},
   "outputs": [],
   "source": [
    "def sim(itemEmbeddings,i,j):\n",
    "    gamma_i = itemEmbeddings[i]\n",
    "    gamma_j = itemEmbeddings[j]\n",
    "    return cosine(gamma_i, gamma_j)"
   ]
  },
  {
   "cell_type": "markdown",
   "metadata": {},
   "source": [
    "Find the most similar item among a candidate set"
   ]
  },
  {
   "cell_type": "code",
   "execution_count": 68,
   "metadata": {},
   "outputs": [],
   "source": [
    "def maxSim(itemEmbeddings,i,seq):\n",
    "    if len(seq) == 0: return 0\n",
    "    return max([sim(itemEmbeddings,i,j) for j in seq])"
   ]
  },
  {
   "cell_type": "markdown",
   "metadata": {},
   "source": [
    "Select a random user to receive recommendations"
   ]
  },
  {
   "cell_type": "code",
   "execution_count": 69,
   "metadata": {},
   "outputs": [],
   "source": [
    "u = random.choice(list(userIDs.keys()))"
   ]
  },
  {
   "cell_type": "code",
   "execution_count": 70,
   "metadata": {},
   "outputs": [],
   "source": [
    "itemSet = set(itemIDs.keys())"
   ]
  },
  {
   "cell_type": "markdown",
   "metadata": {},
   "source": [
    "Define a function to get the next recommendation given an initial list, i.e., the mamimal marginally relevant item. Lambda (lamb) controls the tradeoff between compatibility an diversity."
   ]
  },
  {
   "cell_type": "code",
   "execution_count": 71,
   "metadata": {},
   "outputs": [],
   "source": [
    "def getNextRec(model,compatScores,itemEmbeddings,seq,lamb):\n",
    "    scores = [(lamb * s - (1 - lamb) * maxSim(itemEmbeddings,i,seq), i)\n",
    "        for (s,i) in compatScores if not i in seq]\n",
    "    (maxScore,maxItem) = max(scores)\n",
    "    return maxItem"
   ]
  },
  {
   "cell_type": "markdown",
   "metadata": {},
   "source": [
    "Before re-ranking, generate a list of compatibility scores, i.e., a ranked list of items for a particular user"
   ]
  },
  {
   "cell_type": "code",
   "execution_count": 72,
   "metadata": {},
   "outputs": [],
   "source": [
    "candidates = list(itemSet.difference(itemsPerUser[u]))\n",
    "compatScores = list(zip([float(f)\n",
    "    for f in modelUnfair.predictSample([userIDs[u]]*len(candidates),\n",
    "        [itemIDs[i] for i in candidates])], candidates))\n",
    "itemEmbeddings = dict(zip(candidates,\n",
    "    tf.nn.embedding_lookup(modelUnfair.gammaI, [itemIDs[i] for i in candidates])))\n",
    "\n",
    "compatScores.sort(reverse=True)"
   ]
  },
  {
   "cell_type": "markdown",
   "metadata": {},
   "source": [
    "Generate a list of recommendations for the user by repeatedly calling the retrieving the maximal marginally relevant recommendation. First, just get the most relevant items (lambda=1) without encouraging diversity."
   ]
  },
  {
   "cell_type": "markdown",
   "metadata": {},
   "source": [
    "Note that this implementation is not particularly optimized, and takes several seconds to generate a list of recommendations."
   ]
  },
  {
   "cell_type": "code",
   "execution_count": 73,
   "metadata": {},
   "outputs": [
    {
     "data": {
      "text/plain": [
       "['Ouro Preto',\n",
       " '2:01 IRA',\n",
       " 'Empire Strikes Black Wood-Aged Imperial Stout',\n",
       " 'Hvid Tuborg (White)',\n",
       " 'Saison De La Chasse',\n",
       " 'Fauntleroy Stout',\n",
       " 'Fresh Chester Pale Ale',\n",
       " 'Pickla Pils',\n",
       " \"Hale's Cream Ale\",\n",
       " 'Chocolate Raspberry Stout']"
      ]
     },
     "execution_count": 73,
     "metadata": {},
     "output_type": "execute_result"
    }
   ],
   "source": [
    "recs = []\n",
    "while len(recs) < 10:\n",
    "    i = getNextRec(modelUnfair,compatScores[:1000],itemEmbeddings,recs,1.0)\n",
    "    recs.append(i)\n",
    "[beerNames[i] for i in recs]"
   ]
  },
  {
   "cell_type": "markdown",
   "metadata": {},
   "source": [
    "More Recommendations for different relevance/diversity tradeoffs. Note that the tradeoff parameter is quite sensitive to the specific scale of the model parameters."
   ]
  },
  {
   "cell_type": "code",
   "execution_count": 74,
   "metadata": {},
   "outputs": [
    {
     "data": {
      "text/plain": [
       "['Ouro Preto',\n",
       " 'Imperial 375 Pale Ale',\n",
       " 'Great Lakes Owens Olympic Pilsener',\n",
       " 'Dirty Horse',\n",
       " 'Hvid Tuborg (White)',\n",
       " 'Fauntleroy Stout',\n",
       " 'Empire Strikes Black Wood-Aged Imperial Stout',\n",
       " 'Moo Coo Brew',\n",
       " 'Robson Street Hefeweizen',\n",
       " 'StoneWall Ale']"
      ]
     },
     "execution_count": 74,
     "metadata": {},
     "output_type": "execute_result"
    }
   ],
   "source": [
    "recs = []\n",
    "while len(recs) < 10:\n",
    "    i = getNextRec(model,compatScores[:1000],itemEmbeddings,recs,0.25)\n",
    "    recs.append(i)\n",
    "[beerNames[i] for i in recs]"
   ]
  },
  {
   "cell_type": "code",
   "execution_count": 75,
   "metadata": {},
   "outputs": [
    {
     "data": {
      "text/plain": [
       "['Ouro Preto',\n",
       " 'Imperial 375 Pale Ale',\n",
       " 'StoneWall Ale',\n",
       " 'Imperial Red',\n",
       " 'Gose',\n",
       " \"O'Ryely IPA\",\n",
       " 'Wee Widdle Wabbit',\n",
       " 'Hvid Tuborg (White)',\n",
       " \"Olde Rabbit's Foot Bourbon Barrel-Aged Imperial Stout (2009)\",\n",
       " 'Oso Negro']"
      ]
     },
     "execution_count": 75,
     "metadata": {},
     "output_type": "execute_result"
    }
   ],
   "source": [
    "recs = []\n",
    "while len(recs) < 10:\n",
    "    i = getNextRec(model,compatScores[:1000],itemEmbeddings,recs,0.1)\n",
    "    recs.append(i)\n",
    "[beerNames[i] for i in recs]"
   ]
  },
  {
   "cell_type": "code",
   "execution_count": null,
   "metadata": {},
   "outputs": [],
   "source": []
  },
  {
   "cell_type": "markdown",
   "metadata": {},
   "source": [
    "# Exercises"
   ]
  },
  {
   "cell_type": "markdown",
   "metadata": {},
   "source": [
    "### 10.1"
   ]
  },
  {
   "cell_type": "markdown",
   "metadata": {},
   "source": [
    "First just try out a different similarity function (based on the inner product)"
   ]
  },
  {
   "cell_type": "code",
   "execution_count": 76,
   "metadata": {},
   "outputs": [],
   "source": [
    "def sim(itemEmbeddings,i,j):\n",
    "    gamma_i = itemEmbeddings[i]\n",
    "    gamma_j = itemEmbeddings[j]\n",
    "    return tf.sigmoid(-tf.tensordot(gamma_i, gamma_j, 1)).numpy()"
   ]
  },
  {
   "cell_type": "code",
   "execution_count": 77,
   "metadata": {},
   "outputs": [],
   "source": [
    "def maxSim(itemEmbeddings,i,seq):\n",
    "    if len(seq) == 0: return 0\n",
    "    return max([sim(itemEmbeddings,i,j) for j in seq])"
   ]
  },
  {
   "cell_type": "code",
   "execution_count": 78,
   "metadata": {},
   "outputs": [],
   "source": [
    "def getNextRec(model,compatScores,itemEmbeddings,seq,lamb):\n",
    "    rels = dict([(i,s) for (s,i) in compatScores if not i in seq])\n",
    "    divs = dict([(i,maxSim(itemEmbeddings,i,seq)) for (s,i) in compatScores if not i in seq])\n",
    "    scores = [(lamb * rels[i] - (1 - lamb) * divs[i], i) for (s,i) in compatScores if not i in seq]\n",
    "    (maxScore,maxItem) = max(scores)\n",
    "    return rels[maxItem],divs[maxItem],maxItem"
   ]
  },
  {
   "cell_type": "code",
   "execution_count": 79,
   "metadata": {},
   "outputs": [],
   "source": [
    "u = random.choice(list(userIDs.keys()))"
   ]
  },
  {
   "cell_type": "code",
   "execution_count": 80,
   "metadata": {},
   "outputs": [],
   "source": [
    "candidates = list(itemSet.difference(itemsPerUser[u]))\n",
    "compatScores = list(zip([float(f)\n",
    "    for f in modelUnfair.predictSample([userIDs[u]]*len(candidates),\n",
    "        [itemIDs[i] for i in candidates])], candidates))\n",
    "itemEmbeddings = dict(zip(candidates,\n",
    "    tf.nn.embedding_lookup(modelUnfair.gammaI, [itemIDs[i] for i in candidates])))\n",
    "\n",
    "compatScores.sort(reverse=True)"
   ]
  },
  {
   "cell_type": "markdown",
   "metadata": {},
   "source": [
    "Experiment with different relevance/diversity tradeoffs"
   ]
  },
  {
   "cell_type": "code",
   "execution_count": 81,
   "metadata": {},
   "outputs": [],
   "source": [
    "xs = []\n",
    "ys = []\n",
    "for lamb in [1.0,0.99,0.9,0.75,0.5,0.25,0.1,0.01,0.001]:\n",
    "    rels = []\n",
    "    divs = []\n",
    "    recs = []\n",
    "    while len(recs) < 5:\n",
    "        r,d,i = getNextRec(modelUnfair,compatScores[:1000],itemEmbeddings,recs,lamb)\n",
    "        rels.append(r)\n",
    "        divs.append(d)\n",
    "        recs.append(i)\n",
    "    xs.append(sum(rels)/len(rels))\n",
    "    ys.append(sum(divs)/len(divs))"
   ]
  },
  {
   "cell_type": "markdown",
   "metadata": {},
   "source": [
    "And plot the results"
   ]
  },
  {
   "cell_type": "code",
   "execution_count": 82,
   "metadata": {},
   "outputs": [
    {
     "data": {
      "image/png": "[encoded data removed]",
      "text/plain": [
       "<Figure size 432x288 with 1 Axes>"
      ]
     },
     "metadata": {
      "needs_background": "light"
     },
     "output_type": "display_data"
    }
   ],
   "source": [
    "plt.plot(xs,ys,color='k')\n",
    "plt.xlabel(\"average relevance\")\n",
    "plt.ylabel(\"average diversity\")\n",
    "plt.title(\"relevance/diversity tradeoff\")\n",
    "plt.show()"
   ]
  },
  {
   "cell_type": "markdown",
   "metadata": {},
   "source": [
    "### 10.2"
   ]
  },
  {
   "cell_type": "markdown",
   "metadata": {},
   "source": [
    "Concentration effects"
   ]
  },
  {
   "cell_type": "code",
   "execution_count": 84,
   "metadata": {},
   "outputs": [],
   "source": [
    "data = []\n",
    "for x in parse(os.path.join(dataDir, \"goodreads_reviews_comics_graphic.json.gz\")):\n",
    "    del x['review_text']\n",
    "    data.append(x)"
   ]
  },
  {
   "cell_type": "code",
   "execution_count": 85,
   "metadata": {},
   "outputs": [],
   "source": [
    "random.shuffle(data)"
   ]
  },
  {
   "cell_type": "code",
   "execution_count": 86,
   "metadata": {},
   "outputs": [],
   "source": [
    "userIDs,itemIDs = {},{}\n",
    "revUIDs,revIIDs = {},{}\n",
    "for d in data:\n",
    "    u,i = d['user_id'],d['book_id']\n",
    "    if not u in userIDs:\n",
    "        userIDs[u] = len(userIDs)\n",
    "        revUIDs[userIDs[u]] = u\n",
    "    if not i in itemIDs:\n",
    "        itemIDs[i] = len(itemIDs)\n",
    "        revIIDs[itemIDs[i]] = i"
   ]
  },
  {
   "cell_type": "code",
   "execution_count": 87,
   "metadata": {},
   "outputs": [
    {
     "data": {
      "text/plain": [
       "(59347, 89311)"
      ]
     },
     "execution_count": 87,
     "metadata": {},
     "output_type": "execute_result"
    }
   ],
   "source": [
    "nUsers,nItems = len(userIDs),len(itemIDs)\n",
    "nUsers,nItems"
   ]
  },
  {
   "cell_type": "code",
   "execution_count": 88,
   "metadata": {},
   "outputs": [],
   "source": [
    "Xiu = scipy.sparse.lil_matrix((nItems, nUsers))\n",
    "for d in data:\n",
    "    Xiu[itemIDs[d['book_id']],userIDs[d['user_id']]] = 1\n",
    "    \n",
    "Xui = scipy.sparse.csr_matrix(Xiu.T)"
   ]
  },
  {
   "cell_type": "code",
   "execution_count": 90,
   "metadata": {},
   "outputs": [
    {
     "name": "stderr",
     "output_type": "stream",
     "text": [
      "100%|██████████| 100/100 [00:02<00:00, 33.94it/s, train_auc=88.57%, skipped=2.38%]\n"
     ]
    }
   ],
   "source": [
    "model = bpr.BayesianPersonalizedRanking(factors = 5, use_gpu = False)\n",
    "model.fit(Xiu)"
   ]
  },
  {
   "cell_type": "markdown",
   "metadata": {},
   "source": [
    "Measure concentration in terms of the Gini coefficient"
   ]
  },
  {
   "cell_type": "code",
   "execution_count": 91,
   "metadata": {},
   "outputs": [],
   "source": [
    "interactionTuples = []\n",
    "itemsPerUser = defaultdict(list)\n",
    "usersPerItem = defaultdict(list)\n",
    "\n",
    "for d in data:\n",
    "    u,i = d['user_id'],d['book_id']\n",
    "    interactionTuples.append((userIDs[u],itemIDs[i]))\n",
    "    itemsPerUser[userIDs[u]].append(itemIDs[i])\n",
    "    usersPerItem[itemIDs[i]].append(userIDs[u])"
   ]
  },
  {
   "cell_type": "code",
   "execution_count": 92,
   "metadata": {},
   "outputs": [],
   "source": [
    "recommendationTuples1 = []\n",
    "for u in range(len(userIDs)):\n",
    "    A = model.recommend(u, Xui, N = len(itemsPerUser[u]))\n",
    "    for i, sc in A:\n",
    "        recommendationTuples1.append((u,i))    "
   ]
  },
  {
   "cell_type": "code",
   "execution_count": 93,
   "metadata": {},
   "outputs": [],
   "source": [
    "countsPerItemI = defaultdict(int)\n",
    "countsPerItemR1 = defaultdict(int)\n",
    "\n",
    "for u,i in interactionTuples:\n",
    "    countsPerItemI[i] += 1\n",
    "\n",
    "for u,i in recommendationTuples1:\n",
    "    countsPerItemR1[i] += 1"
   ]
  },
  {
   "cell_type": "markdown",
   "metadata": {},
   "source": [
    "Aplly a small penalty for items that are highly recommended (resulting a reduction of concentration). This is essentially just a simple re-ranking strategy."
   ]
  },
  {
   "cell_type": "code",
   "execution_count": 94,
   "metadata": {},
   "outputs": [],
   "source": [
    "recommendationTuples2 = []\n",
    "for u in range(len(userIDs)):\n",
    "    N = len(itemsPerUser[u])\n",
    "    A = model.recommend(u, Xui, max(N,100))\n",
    "    Aadj = []\n",
    "    for i, sc in A:\n",
    "        Aadj.append((sc - 0.1*countsPerItemR1[i], i)) # Rerank by penalizing highly-recommended items\n",
    "    Aadj.sort(reverse=True)\n",
    "    for sc, i in Aadj[:N]:\n",
    "        recommendationTuples2.append((u,i))"
   ]
  },
  {
   "cell_type": "code",
   "execution_count": 95,
   "metadata": {},
   "outputs": [],
   "source": [
    "countsPerItemR2 = defaultdict(int)\n",
    "\n",
    "for u,i in recommendationTuples2:\n",
    "    countsPerItemR2[i] += 1"
   ]
  },
  {
   "cell_type": "markdown",
   "metadata": {},
   "source": [
    "Compare interaction data, recommendations, and \"corrected\" recommendations in terms of concentration"
   ]
  },
  {
   "cell_type": "code",
   "execution_count": 96,
   "metadata": {},
   "outputs": [],
   "source": [
    "sortPopularI = [(countsPerItemI[i], i) for i in countsPerItemI]\n",
    "sortPopularR1 = [(countsPerItemR1[i], i) for i in countsPerItemR1]\n",
    "sortPopularR2 = [(countsPerItemR2[i], i) for i in countsPerItemR2]"
   ]
  },
  {
   "cell_type": "code",
   "execution_count": 97,
   "metadata": {},
   "outputs": [],
   "source": [
    "sortPopularI.sort(reverse=True)\n",
    "sortPopularR1.sort(reverse=True)\n",
    "sortPopularR2.sort(reverse=True)"
   ]
  },
  {
   "cell_type": "code",
   "execution_count": 98,
   "metadata": {},
   "outputs": [
    {
     "data": {
      "text/plain": [
       "0.7235745063899265"
      ]
     },
     "execution_count": 98,
     "metadata": {},
     "output_type": "execute_result"
    }
   ],
   "source": [
    "gini([x[0] for x in sortPopularI])"
   ]
  },
  {
   "cell_type": "code",
   "execution_count": 99,
   "metadata": {},
   "outputs": [
    {
     "data": {
      "text/plain": [
       "0.7895835507746092"
      ]
     },
     "execution_count": 99,
     "metadata": {},
     "output_type": "execute_result"
    }
   ],
   "source": [
    "gini([x[0] for x in sortPopularR1])"
   ]
  },
  {
   "cell_type": "code",
   "execution_count": 100,
   "metadata": {},
   "outputs": [
    {
     "data": {
      "text/plain": [
       "0.6935412260085039"
      ]
     },
     "execution_count": 100,
     "metadata": {},
     "output_type": "execute_result"
    }
   ],
   "source": [
    "gini([x[0] for x in sortPopularR2])"
   ]
  },
  {
   "cell_type": "markdown",
   "metadata": {},
   "source": [
    "Ultimately we got a model with lower concentration than the original data. Could adjust the penalty term to control the concentration amount."
   ]
  },
  {
   "cell_type": "markdown",
   "metadata": {},
   "source": [
    "### 10.3"
   ]
  },
  {
   "cell_type": "markdown",
   "metadata": {},
   "source": [
    "Measure parity in terms of beer ABV (alcohol level). Do high- (or low-) alcohol items tend to get recommended more than we would expect from interaction data?"
   ]
  },
  {
   "cell_type": "code",
   "execution_count": 102,
   "metadata": {},
   "outputs": [],
   "source": [
    "userIDs = {}\n",
    "itemIDs = {}\n",
    "itemsPerUser = defaultdict(list)\n",
    "usersPerItem = defaultdict(list)\n",
    "styles = {}\n",
    "beerNames = {}\n",
    "interactions = []\n",
    "\n",
    "atr = dict()\n",
    "\n",
    "for d in parse(os.path.join(dataDir, \"beer.json.gz\")):\n",
    "    if not 'user/gender' in d: continue\n",
    "    try:\n",
    "        a = d['beer/ABV'] > 7.5\n",
    "    except Exception as e:\n",
    "        continue\n",
    "    u = d['user/profileName']\n",
    "    i = d['beer/beerId']\n",
    "    r = d['review/overall']\n",
    "    styles[i] = d['beer/style']\n",
    "    beerNames[i] = d['beer/name']\n",
    "    if not u in userIDs: userIDs[u] = len(userIDs)\n",
    "    if not i in itemIDs: itemIDs[i] = len(itemIDs)\n",
    "    itemsPerUser[userIDs[u]].append(i)\n",
    "    usersPerItem[itemIDs[i]].append(u)\n",
    "    interactions.append((u,i,r))\n",
    "    atr[itemIDs[i]] = a"
   ]
  },
  {
   "cell_type": "code",
   "execution_count": 103,
   "metadata": {},
   "outputs": [
    {
     "data": {
      "text/plain": [
       "(8402, 34866)"
      ]
     },
     "execution_count": 103,
     "metadata": {},
     "output_type": "execute_result"
    }
   ],
   "source": [
    "nUsers,nItems = len(userIDs),len(itemIDs)\n",
    "nUsers,nItems"
   ]
  },
  {
   "cell_type": "markdown",
   "metadata": {},
   "source": [
    "Start by training a BPR model (using the implicit library)"
   ]
  },
  {
   "cell_type": "code",
   "execution_count": 104,
   "metadata": {},
   "outputs": [],
   "source": [
    "Xiu = scipy.sparse.lil_matrix((nItems, nUsers))\n",
    "for (u,i,r) in interactions:\n",
    "    Xiu[itemIDs[i],userIDs[u]] = 1\n",
    "    \n",
    "Xui = scipy.sparse.csr_matrix(Xiu.T)"
   ]
  },
  {
   "cell_type": "code",
   "execution_count": 105,
   "metadata": {},
   "outputs": [
    {
     "name": "stderr",
     "output_type": "stream",
     "text": [
      "100%|██████████| 100/100 [00:03<00:00, 29.97it/s, train_auc=81.78%, skipped=17.76%]\n"
     ]
    }
   ],
   "source": [
    "model = bpr.BayesianPersonalizedRanking(factors = 5, use_gpu = False)\n",
    "model.fit(Xiu)"
   ]
  },
  {
   "cell_type": "markdown",
   "metadata": {},
   "source": [
    "Frequency of positive (high alcohol) versus negative (low alcohol) among interactions"
   ]
  },
  {
   "cell_type": "code",
   "execution_count": 106,
   "metadata": {},
   "outputs": [
    {
     "data": {
      "text/plain": [
       "(216825, 395700)"
      ]
     },
     "execution_count": 106,
     "metadata": {},
     "output_type": "execute_result"
    }
   ],
   "source": [
    "apos,aneg = 0,0\n",
    "\n",
    "for (u,i,r) in interactions:\n",
    "    if atr[itemIDs[i]]:\n",
    "        apos += 1\n",
    "    else:\n",
    "        aneg += 1\n",
    "\n",
    "apos,aneg"
   ]
  },
  {
   "cell_type": "markdown",
   "metadata": {},
   "source": [
    "Frequency among recommendations (low alcohol items end up being slightly over-recommended)"
   ]
  },
  {
   "cell_type": "code",
   "execution_count": 107,
   "metadata": {},
   "outputs": [
    {
     "data": {
      "text/plain": [
       "(203880, 408645)"
      ]
     },
     "execution_count": 107,
     "metadata": {},
     "output_type": "execute_result"
    }
   ],
   "source": [
    "apos,aneg = 0,0\n",
    "\n",
    "for u in range(len(userIDs)):\n",
    "    A = model.recommend(u, Xui, N = len(itemsPerUser[u]))\n",
    "    for i, sc in A:\n",
    "        if atr[i]:\n",
    "            apos += 1\n",
    "        else:\n",
    "            aneg += 1\n",
    "            \n",
    "apos,aneg"
   ]
  },
  {
   "cell_type": "markdown",
   "metadata": {},
   "source": [
    "As in 10.2, correct using a re-ranking strategy with a simple penalty term (in this case encouraging high-alcohol items to be recommended). Again this could be adjusted to achieve the desired calibration."
   ]
  },
  {
   "cell_type": "code",
   "execution_count": 108,
   "metadata": {},
   "outputs": [
    {
     "data": {
      "text/plain": [
       "(240068, 372457)"
      ]
     },
     "execution_count": 108,
     "metadata": {},
     "output_type": "execute_result"
    }
   ],
   "source": [
    "apos,aneg = 0,0\n",
    "\n",
    "for u in range(len(userIDs)):\n",
    "    N = len(itemsPerUser[u])\n",
    "    A = model.recommend(u, Xui, N*2)\n",
    "    Aadj = []\n",
    "    for i, sc in A:\n",
    "        Aadj.append((sc + 0.1*atr[i], i))\n",
    "    Aadj.sort(reverse=True)\n",
    "    for sc, i in Aadj[:N]:\n",
    "        if atr[i]:\n",
    "            apos += 1\n",
    "        else:\n",
    "            aneg += 1\n",
    "    \n",
    "apos,aneg"
   ]
  }
 ],
 "metadata": {
  "kernelspec": {
   "display_name": "Python 3",
   "language": "python",
   "name": "python3"
  },
  "language_info": {
   "codemirror_mode": {
    "name": "ipython",
    "version": 3
   },
   "file_extension": ".py",
   "mimetype": "text/x-python",
   "name": "python",
   "nbconvert_exporter": "python",
   "pygments_lexer": "ipython3",
   "version": "3.7.12"
  }
 },
 "nbformat": 4,
 "nbformat_minor": 2
}
