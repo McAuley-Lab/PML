{
 "cells": [
  {
   "cell_type": "code",
   "execution_count": 1,
   "metadata": {},
   "outputs": [],
   "source": [
    "import os\n",
    "import wget\n",
    "import gzip\n",
    "import math\n",
    "import matplotlib.pyplot as plt\n",
    "import numpy as np\n",
    "import random\n",
    "import sklearn\n",
    "import string\n",
    "from collections import defaultdict\n",
    "from gensim.models import Word2Vec\n",
    "from nltk.stem.porter import *\n",
    "from sklearn import linear_model\n",
    "from sklearn.manifold import TSNE"
   ]
  },
  {
   "cell_type": "markdown",
   "metadata": {},
   "source": [
    "Data is available at http://cseweb.ucsd.edu/~jmcauley/pml/data/. \n",
    "- Download and save to your own directory.\n",
    "- Or, run following script to save it into `Chapter_8/data` folder automatically."
   ]
  },
  {
   "cell_type": "code",
   "execution_count": 2,
   "metadata": {},
   "outputs": [
    {
     "name": "stdout",
     "output_type": "stream",
     "text": [
      "Done!\n"
     ]
    }
   ],
   "source": [
    "filenames = [\n",
    "    'beer_50000.json',\n",
    "    'goodreads_reviews_fantasy_paranormal.json.gz',\n",
    "]\n",
    "\n",
    "dataDir = './data'\n",
    "url = 'http://jmcauley.ucsd.edu/pml_data'\n",
    "\n",
    "if not os.path.exists(dataDir):\n",
    "    os.makedirs(dataDir)\n",
    "for filename in filenames:\n",
    "    wget.download(os.path.join(url, filename), out=dataDir)\n",
    "\n",
    "print(\"Done!\")"
   ]
  },
  {
   "cell_type": "markdown",
   "metadata": {},
   "source": [
    "# Bag-of-words models"
   ]
  },
  {
   "cell_type": "code",
   "execution_count": 3,
   "metadata": {},
   "outputs": [],
   "source": [
    "def parseData(fname):\n",
    "    for l in open(fname):\n",
    "        yield eval(l)"
   ]
  },
  {
   "cell_type": "code",
   "execution_count": 4,
   "metadata": {},
   "outputs": [],
   "source": [
    "data = list(parseData(os.path.join(dataDir, \"beer_50000.json\")))[:5000]"
   ]
  },
  {
   "cell_type": "markdown",
   "metadata": {},
   "source": [
    "How many unique words are there?"
   ]
  },
  {
   "cell_type": "code",
   "execution_count": 5,
   "metadata": {},
   "outputs": [
    {
     "data": {
      "text/plain": [
       "36225"
      ]
     },
     "execution_count": 5,
     "metadata": {},
     "output_type": "execute_result"
    }
   ],
   "source": [
    "wordCount = defaultdict(int)\n",
    "for d in data:\n",
    "    for w in d['review/text'].split():\n",
    "        wordCount[w] += 1\n",
    "\n",
    "len(wordCount)"
   ]
  },
  {
   "cell_type": "markdown",
   "metadata": {},
   "source": [
    "Ignore capitalization and remove punctuation"
   ]
  },
  {
   "cell_type": "code",
   "execution_count": 6,
   "metadata": {},
   "outputs": [
    {
     "data": {
      "text/plain": [
       "19426"
      ]
     },
     "execution_count": 6,
     "metadata": {},
     "output_type": "execute_result"
    }
   ],
   "source": [
    "wordCount = defaultdict(int)\n",
    "punctuation = set(string.punctuation)\n",
    "for d in data:\n",
    "    r = ''.join([c for c in d['review/text'].lower() if not c in punctuation])\n",
    "    for w in r.split():\n",
    "        wordCount[w] += 1\n",
    "\n",
    "len(wordCount)"
   ]
  },
  {
   "cell_type": "markdown",
   "metadata": {},
   "source": [
    "With stemming"
   ]
  },
  {
   "cell_type": "code",
   "execution_count": 7,
   "metadata": {},
   "outputs": [
    {
     "data": {
      "text/plain": [
       "14847"
      ]
     },
     "execution_count": 7,
     "metadata": {},
     "output_type": "execute_result"
    }
   ],
   "source": [
    "wordCount = defaultdict(int)\n",
    "punctuation = set(string.punctuation)\n",
    "stemmer = PorterStemmer()\n",
    "for d in data:\n",
    "  r = ''.join([c for c in d['review/text'].lower() if not c in punctuation])\n",
    "  for w in r.split():\n",
    "    w = stemmer.stem(w)\n",
    "    wordCount[w] += 1\n",
    "    \n",
    "len(wordCount)"
   ]
  },
  {
   "cell_type": "markdown",
   "metadata": {},
   "source": [
    "Just build our feature vector by taking the most popular words (lowercase, punctuation removed, but no stemming)"
   ]
  },
  {
   "cell_type": "code",
   "execution_count": 8,
   "metadata": {},
   "outputs": [],
   "source": [
    "wordCount = defaultdict(int)\n",
    "punctuation = set(string.punctuation)\n",
    "for d in data:\n",
    "  r = ''.join([c for c in d['review/text'].lower() if not c in punctuation])\n",
    "  for w in r.split():\n",
    "    wordCount[w] += 1\n",
    "\n",
    "counts = [(wordCount[w], w) for w in wordCount]\n",
    "counts.sort()\n",
    "counts.reverse()"
   ]
  },
  {
   "cell_type": "code",
   "execution_count": 9,
   "metadata": {},
   "outputs": [],
   "source": [
    "words = [x[1] for x in counts[:1000]]"
   ]
  },
  {
   "cell_type": "markdown",
   "metadata": {},
   "source": [
    "# Sentiment analysis"
   ]
  },
  {
   "cell_type": "code",
   "execution_count": 10,
   "metadata": {},
   "outputs": [],
   "source": [
    "wordId = dict(zip(words, range(len(words))))\n",
    "wordSet = set(words)"
   ]
  },
  {
   "cell_type": "code",
   "execution_count": 11,
   "metadata": {},
   "outputs": [],
   "source": [
    "def feature(datum):\n",
    "    feat = [0]*len(words)\n",
    "    r = ''.join([c for c in datum['review/text'].lower() if not c in punctuation])\n",
    "    for w in r.split():\n",
    "        if w in words:\n",
    "            feat[wordId[w]] += 1\n",
    "    feat.append(1) # offset\n",
    "    return feat"
   ]
  },
  {
   "cell_type": "markdown",
   "metadata": {},
   "source": [
    "Extract bag-of-word features. For a bigger dataset, replace this with a sparse matrix to save memory (see examples in Chapter 6)"
   ]
  },
  {
   "cell_type": "code",
   "execution_count": 12,
   "metadata": {},
   "outputs": [],
   "source": [
    "X = [feature(d) for d in data]\n",
    "y = [d['review/overall'] for d in data]"
   ]
  },
  {
   "cell_type": "code",
   "execution_count": 13,
   "metadata": {},
   "outputs": [],
   "source": [
    "# Regularized regression\n",
    "clf = linear_model.Ridge(1.0, fit_intercept=False) # MSE + 1.0 l2\n",
    "clf.fit(X, y)\n",
    "theta = clf.coef_\n",
    "predictions = clf.predict(X)"
   ]
  },
  {
   "cell_type": "markdown",
   "metadata": {},
   "source": [
    "# N-grams"
   ]
  },
  {
   "cell_type": "markdown",
   "metadata": {},
   "source": [
    "Simple example..."
   ]
  },
  {
   "cell_type": "code",
   "execution_count": 14,
   "metadata": {},
   "outputs": [],
   "source": [
    "sentence = \"Dark red color, light beige foam\"\n",
    "unigrams = sentence.split()\n",
    "bigrams = list(zip(unigrams[:-1], unigrams[1:]))\n",
    "trigrams = list(zip(unigrams[:-2], unigrams[1:-1], unigrams[2:]))"
   ]
  },
  {
   "cell_type": "code",
   "execution_count": 15,
   "metadata": {},
   "outputs": [
    {
     "data": {
      "text/plain": [
       "[('Dark', 'red', 'color,'),\n",
       " ('red', 'color,', 'light'),\n",
       " ('color,', 'light', 'beige'),\n",
       " ('light', 'beige', 'foam')]"
      ]
     },
     "execution_count": 15,
     "metadata": {},
     "output_type": "execute_result"
    }
   ],
   "source": [
    "trigrams"
   ]
  },
  {
   "cell_type": "markdown",
   "metadata": {},
   "source": [
    "Extract n-grams up to length 5 (same dataset as example above)"
   ]
  },
  {
   "cell_type": "code",
   "execution_count": 16,
   "metadata": {},
   "outputs": [],
   "source": [
    "wordCount = defaultdict(int)\n",
    "punctuation = set(string.punctuation)\n",
    "for d in data:\n",
    "    r = ''.join([c for c in d['review/text'].lower() if not c in punctuation])\n",
    "    ws = r.split()\n",
    "    ws2 = [' '.join(x) for x in list(zip(ws[:-1],ws[1:]))]\n",
    "    ws3 = [' '.join(x) for x in list(zip(ws[:-2],ws[1:-1],ws[2:]))]\n",
    "    ws4 = [' '.join(x) for x in list(zip(ws[:-3],ws[1:-2],ws[2:-1],ws[3:]))]\n",
    "    ws5 = [' '.join(x) for x in list(zip(ws[:-4],ws[1:-3],ws[2:-2],ws[3:-1],ws[4:]))]\n",
    "    for w in ws + ws2 + ws3 + ws4 + ws5:\n",
    "        wordCount[w] += 1\n",
    "\n",
    "counts = [(wordCount[w], w) for w in wordCount]\n",
    "counts.sort()\n",
    "counts.reverse()"
   ]
  },
  {
   "cell_type": "code",
   "execution_count": 17,
   "metadata": {},
   "outputs": [],
   "source": [
    "words = [x[1] for x in counts[:1000]]"
   ]
  },
  {
   "cell_type": "markdown",
   "metadata": {},
   "source": [
    "A few of our 1000 most popular n-grams. Note the combination of n-grams of different lengths"
   ]
  },
  {
   "cell_type": "code",
   "execution_count": 18,
   "metadata": {},
   "outputs": [
    {
     "data": {
      "text/plain": [
       "['pint',\n",
       " 'hoppy',\n",
       " 'stout',\n",
       " 'though',\n",
       " 'lots',\n",
       " 'and the',\n",
       " 'malty',\n",
       " 'mouthfeel is',\n",
       " 'even',\n",
       " 'quickly']"
      ]
     },
     "execution_count": 18,
     "metadata": {},
     "output_type": "execute_result"
    }
   ],
   "source": [
    "words[200:210]"
   ]
  },
  {
   "cell_type": "code",
   "execution_count": 19,
   "metadata": {},
   "outputs": [],
   "source": [
    "wordId = dict(zip(words, range(len(words))))\n",
    "wordSet = set(words)"
   ]
  },
  {
   "cell_type": "code",
   "execution_count": 20,
   "metadata": {},
   "outputs": [],
   "source": [
    "def feature(datum):\n",
    "    feat = [0]*len(words)\n",
    "    r = ''.join([c for c in datum['review/text'].lower() if not c in punctuation])\n",
    "    ws = r.split()\n",
    "    ws2 = [' '.join(x) for x in list(zip(ws[:-1],ws[1:]))]\n",
    "    ws3 = [' '.join(x) for x in list(zip(ws[:-2],ws[1:-1],ws[2:]))]\n",
    "    ws4 = [' '.join(x) for x in list(zip(ws[:-3],ws[1:-2],ws[2:-1],ws[3:]))]\n",
    "    ws5 = [' '.join(x) for x in list(zip(ws[:-4],ws[1:-3],ws[2:-2],ws[3:-1],ws[4:]))]\n",
    "    for w in ws + ws2 + ws3 + ws4 + ws5:\n",
    "        if w in words:\n",
    "            feat[wordId[w]] += 1\n",
    "    feat.append(1) #offset\n",
    "    return feat"
   ]
  },
  {
   "cell_type": "markdown",
   "metadata": {},
   "source": [
    "Same as the model in the previous example above, except using n-grams rather than just unigrams"
   ]
  },
  {
   "cell_type": "code",
   "execution_count": 21,
   "metadata": {},
   "outputs": [],
   "source": [
    "X = [feature(d) for d in data]\n",
    "y = [d['review/overall'] for d in data]"
   ]
  },
  {
   "cell_type": "code",
   "execution_count": 22,
   "metadata": {},
   "outputs": [],
   "source": [
    "clf = linear_model.Ridge(1.0, fit_intercept=False) # MSE + 1.0 l2\n",
    "clf.fit(X, y)\n",
    "theta = clf.coef_\n",
    "predictions = clf.predict(X)"
   ]
  },
  {
   "cell_type": "code",
   "execution_count": 23,
   "metadata": {},
   "outputs": [],
   "source": [
    "wordSort = list(zip(theta[:-1], words))\n",
    "wordSort.sort()"
   ]
  },
  {
   "cell_type": "markdown",
   "metadata": {},
   "source": [
    "Some of the most negative and positive n-grams..."
   ]
  },
  {
   "cell_type": "code",
   "execution_count": 24,
   "metadata": {},
   "outputs": [
    {
     "data": {
      "text/plain": [
       "[(-0.39143632655626803, 'a lot of'),\n",
       " (-0.2821229351696297, 'a bit more'),\n",
       " (-0.266114117041166, 'water'),\n",
       " (-0.25302293141511417, 'the background'),\n",
       " (-0.24105277280699952, 'corn'),\n",
       " (-0.21580888155065722, 'as it warms'),\n",
       " (-0.2047088897727647, 'hint of'),\n",
       " (-0.20324036428959297, 'yellow'),\n",
       " (-0.19776086681430885, 'little more'),\n",
       " (-0.19515009289477386, 'watery'),\n",
       " (-0.1833549486926249, 'straw'),\n",
       " (-0.17846828826478417, 'a hint'),\n",
       " (-0.1749628781772613, 'around the'),\n",
       " (-0.17387445409086638, 'kind'),\n",
       " (-0.17381459136980515, 'down the'),\n",
       " (-0.17231514207705736, 'lot'),\n",
       " (-0.16887649424485857, 'weak'),\n",
       " (-0.16647751584897513, 'bad'),\n",
       " (-0.16513650187977286, 'old'),\n",
       " (-0.15815384283001288, 'up to')]"
      ]
     },
     "execution_count": 24,
     "metadata": {},
     "output_type": "execute_result"
    }
   ],
   "source": [
    "wordSort[:20]"
   ]
  },
  {
   "cell_type": "code",
   "execution_count": 25,
   "metadata": {},
   "outputs": [
    {
     "data": {
      "text/plain": [
       "[(0.15966172741192136, 'wonderful'),\n",
       " (0.16316670449503673, 'off white head'),\n",
       " (0.17379190414349227, 'a little more'),\n",
       " (0.17560247184995745, 'favorite'),\n",
       " (0.17674628573616227, 'not too'),\n",
       " (0.17724972085645027, 'i really'),\n",
       " (0.179194864201328, 'easy to'),\n",
       " (0.18200914314267735, 'i am'),\n",
       " (0.18394566780122154, 'background'),\n",
       " (0.18752400440819525, 'touch of'),\n",
       " (0.19751810949895576, 'the best'),\n",
       " (0.1993381723047037, 'hint'),\n",
       " (0.21249123771081643, 'this one is'),\n",
       " (0.21410451475904752, 'a hint of'),\n",
       " (0.2204377788013403, 'not bad'),\n",
       " (0.23768919746952694, 'of these'),\n",
       " (0.23871898220030408, 'a bad'),\n",
       " (0.24874277211061382, 'lot of'),\n",
       " (0.27486534793242434, 'a lot'),\n",
       " (0.31217415648841607, 'bit more')]"
      ]
     },
     "execution_count": 25,
     "metadata": {},
     "output_type": "execute_result"
    }
   ],
   "source": [
    "wordSort[-20:]"
   ]
  },
  {
   "cell_type": "markdown",
   "metadata": {},
   "source": [
    "# TF-IDF"
   ]
  },
  {
   "cell_type": "code",
   "execution_count": 26,
   "metadata": {},
   "outputs": [],
   "source": [
    "dataset = []"
   ]
  },
  {
   "cell_type": "markdown",
   "metadata": {},
   "source": [
    "Small set of Goodreads fantasy reviews"
   ]
  },
  {
   "cell_type": "code",
   "execution_count": 27,
   "metadata": {},
   "outputs": [],
   "source": [
    "z = gzip.open(os.path.join(dataDir, \"goodreads_reviews_fantasy_paranormal.json.gz\"))\n",
    "for l in z.readlines():\n",
    "    dataset.append(eval(l))\n",
    "    if len(dataset) == 50000:\n",
    "        break"
   ]
  },
  {
   "cell_type": "markdown",
   "metadata": {},
   "source": [
    "For example..."
   ]
  },
  {
   "cell_type": "code",
   "execution_count": 28,
   "metadata": {},
   "outputs": [
    {
     "data": {
      "text/plain": [
       "{'user_id': '8842281e1d1347389f2ab93d60773d4d',\n",
       " 'book_id': '18245960',\n",
       " 'review_id': 'dfdbb7b0eb5a7e4c26d59a937e2e5feb',\n",
       " 'rating': 5,\n",
       " 'review_text': 'This is a special book. It started slow for about the first third, then in the middle third it started to get interesting, then the last third blew my mind. This is what I love about good science fiction - it pushes your thinking about where things can go. \\n It is a 2015 Hugo winner, and translated from its original Chinese, which made it interesting in just a different way from most things I\\'ve read. For instance the intermixing of Chinese revolutionary history - how they kept accusing people of being \"reactionaries\", etc. \\n It is a book about science, and aliens. The science described in the book is impressive - its a book grounded in physics and pretty accurate as far as I could tell. Though when it got to folding protons into 8 dimensions I think he was just making stuff up - interesting to think about though. \\n But what would happen if our SETI stations received a message - if we found someone was out there - and the person monitoring and answering the signal on our side was disillusioned? That part of the book was a bit dark - I would like to think human reaction to discovering alien civilization that is hostile would be more like Enders Game where we would band together. \\n I did like how the book unveiled the Trisolaran culture through the game. It was a smart way to build empathy with them and also understand what they\\'ve gone through across so many centuries. And who know a 3 body problem was an unsolvable math problem? But I still don\\'t get who made the game - maybe that will come in the next book. \\n I loved this quote: \\n \"In the long history of scientific progress, how many protons have been smashed apart in accelerators by physicists? How many neutrons and electrons? Probably no fewer than a hundred million. Every collision was probably the end of the civilizations and intelligences in a microcosmos. In fact, even in nature, the destruction of universes must be happening at every second--for example, through the decay of neutrons. Also, a high-energy cosmic ray entering the atmosphere may destroy thousands of such miniature universes....\"',\n",
       " 'date_added': 'Sun Jul 30 07:44:10 -0700 2017',\n",
       " 'date_updated': 'Wed Aug 30 00:00:26 -0700 2017',\n",
       " 'read_at': 'Sat Aug 26 12:05:52 -0700 2017',\n",
       " 'started_at': 'Tue Aug 15 13:23:18 -0700 2017',\n",
       " 'n_votes': 28,\n",
       " 'n_comments': 1}"
      ]
     },
     "execution_count": 28,
     "metadata": {},
     "output_type": "execute_result"
    }
   ],
   "source": [
    "dataset[0]"
   ]
  },
  {
   "cell_type": "markdown",
   "metadata": {},
   "source": [
    "Similar process to extract bag-of-words representations as in previous examples"
   ]
  },
  {
   "cell_type": "code",
   "execution_count": 29,
   "metadata": {},
   "outputs": [],
   "source": [
    "wordCount = defaultdict(int)\n",
    "punctuation = set(string.punctuation)\n",
    "for d in dataset:\n",
    "    r = ''.join([c for c in d['review_text'].lower() if not c in punctuation])\n",
    "    for w in r.split():\n",
    "        wordCount[w] += 1"
   ]
  },
  {
   "cell_type": "code",
   "execution_count": 30,
   "metadata": {},
   "outputs": [],
   "source": [
    "counts = [(wordCount[w], w) for w in wordCount]\n",
    "counts.sort()\n",
    "counts.reverse()"
   ]
  },
  {
   "cell_type": "code",
   "execution_count": 31,
   "metadata": {},
   "outputs": [],
   "source": [
    "words = [x[1] for x in counts[:1000]]"
   ]
  },
  {
   "cell_type": "markdown",
   "metadata": {},
   "source": [
    "### Document frequency (df)"
   ]
  },
  {
   "cell_type": "code",
   "execution_count": 32,
   "metadata": {},
   "outputs": [],
   "source": [
    "df = defaultdict(int)\n",
    "for d in dataset:\n",
    "    r = ''.join([c for c in d['review_text'].lower() if not c in punctuation])\n",
    "    for w in set(r.split()):\n",
    "        df[w] += 1"
   ]
  },
  {
   "cell_type": "markdown",
   "metadata": {},
   "source": [
    "### Term frequency (tf)"
   ]
  },
  {
   "cell_type": "markdown",
   "metadata": {},
   "source": [
    "Here we extract frequencies for terms in a single specific review"
   ]
  },
  {
   "cell_type": "code",
   "execution_count": 33,
   "metadata": {},
   "outputs": [
    {
     "data": {
      "text/plain": [
       "{'user_id': '8842281e1d1347389f2ab93d60773d4d',\n",
       " 'book_id': '76620',\n",
       " 'review_id': '9206654986a733bd753753aa0c882813',\n",
       " 'rating': 5,\n",
       " 'review_text': \"I read this after hearing from a few people that it was among their all-time favorites. I was almost put off when I saw it was a story about rabbits, originally written as a tale by a father to his children - but I'm glad I wasn't. \\n I found the folk tales about El-ahrairah to be very impressive. The author clearly had a vivid imagination to create so much of the rabbits culture and history. But I think this book was worth reading as it's really a story about survival, leadership, and human nature. \\n Oh and Fiver rocks. And BigWig is the man.\",\n",
       " 'date_added': 'Tue Sep 02 17:03:40 -0700 2008',\n",
       " 'date_updated': 'Wed Dec 14 12:30:43 -0800 2016',\n",
       " 'read_at': 'Tue May 05 00:00:00 -0700 2015',\n",
       " 'started_at': 'Sun Apr 19 00:00:00 -0700 2015',\n",
       " 'n_votes': 30,\n",
       " 'n_comments': 2}"
      ]
     },
     "execution_count": 33,
     "metadata": {},
     "output_type": "execute_result"
    }
   ],
   "source": [
    "rev = dataset[9] # Query review\n",
    "rev"
   ]
  },
  {
   "cell_type": "code",
   "execution_count": 34,
   "metadata": {},
   "outputs": [],
   "source": [
    "tf = defaultdict(int)\n",
    "r = ''.join([c for c in rev['review_text'].lower() if not c in punctuation])\n",
    "for w in r.split():\n",
    "    # Note = rather than +=, different versions of tf could be used instead\n",
    "    tf[w] = 1\n",
    "    \n",
    "tfidf = dict(zip(words,[tf[w] * math.log2(len(dataset) / df[w]) for w in words]))\n",
    "tfidfQuery = [tf[w] * math.log2(len(dataset) / df[w]) for w in words]"
   ]
  },
  {
   "cell_type": "markdown",
   "metadata": {},
   "source": [
    "Find the highest tf-idf words in our example review"
   ]
  },
  {
   "cell_type": "code",
   "execution_count": 35,
   "metadata": {},
   "outputs": [],
   "source": [
    "maxTf = [(tf[w],w) for w in words]\n",
    "maxTf.sort(reverse=True)\n",
    "maxTfIdf = [(tfidf[w],w) for w in words]\n",
    "maxTfIdf.sort(reverse=True)"
   ]
  },
  {
   "cell_type": "code",
   "execution_count": 36,
   "metadata": {},
   "outputs": [
    {
     "data": {
      "text/plain": [
       "[(6.475214154215886, 'nature'),\n",
       " (6.1604918290613755, 'tales'),\n",
       " (5.77675046027207, 'children'),\n",
       " (5.7117950184313, 'saw'),\n",
       " (5.316168825598678, 'history'),\n",
       " (5.286585714095165, 'father'),\n",
       " (4.98210658996402, 'worth'),\n",
       " (4.910068021149542, 'glad'),\n",
       " (4.881720019873613, 'human'),\n",
       " (4.731589561708275, 'tale')]"
      ]
     },
     "execution_count": 36,
     "metadata": {},
     "output_type": "execute_result"
    }
   ],
   "source": [
    "maxTfIdf[:10]"
   ]
  },
  {
   "cell_type": "markdown",
   "metadata": {},
   "source": [
    "Cosine similarity"
   ]
  },
  {
   "cell_type": "code",
   "execution_count": 37,
   "metadata": {},
   "outputs": [],
   "source": [
    "def Cosine(x1,x2):\n",
    "    numer = 0\n",
    "    norm1 = 0\n",
    "    norm2 = 0\n",
    "    for a1,a2 in zip(x1,x2):\n",
    "        numer += a1*a2\n",
    "        norm1 += a1**2\n",
    "        norm2 += a2**2\n",
    "    if norm1*norm2:\n",
    "        return numer / math.sqrt(norm1*norm2)\n",
    "    return 0"
   ]
  },
  {
   "cell_type": "markdown",
   "metadata": {},
   "source": [
    "Find the other reviews in the corpus with the highest cosine similarity between tf-idf vectors"
   ]
  },
  {
   "cell_type": "code",
   "execution_count": 38,
   "metadata": {},
   "outputs": [],
   "source": [
    "similarities = []\n",
    "for rev2 in dataset:\n",
    "    tf = defaultdict(int)\n",
    "    r = ''.join([c for c in rev2['review_text'].lower() if not c in punctuation])\n",
    "    for w in r.split():\n",
    "        # Note = rather than +=\n",
    "        tf[w] = 1\n",
    "    tfidf2 = [tf[w] * math.log2(len(dataset) / df[w]) for w in words]\n",
    "    similarities.append((Cosine(tfidfQuery, tfidf2), rev2['review_text']))"
   ]
  },
  {
   "cell_type": "code",
   "execution_count": 39,
   "metadata": {},
   "outputs": [],
   "source": [
    "similarities.sort(reverse=True)"
   ]
  },
  {
   "cell_type": "code",
   "execution_count": 40,
   "metadata": {},
   "outputs": [
    {
     "data": {
      "text/plain": [
       "[(1.0,\n",
       "  \"I read this after hearing from a few people that it was among their all-time favorites. I was almost put off when I saw it was a story about rabbits, originally written as a tale by a father to his children - but I'm glad I wasn't. \\n I found the folk tales about El-ahrairah to be very impressive. The author clearly had a vivid imagination to create so much of the rabbits culture and history. But I think this book was worth reading as it's really a story about survival, leadership, and human nature. \\n Oh and Fiver rocks. And BigWig is the man.\"),\n",
       " (0.33623828530476574,\n",
       "  'Need a review \\n For a full explanation of the provenance and history of Arabian Nights, as well as an alternative translation, see \\n https://www.theatlantic.com/entertain... \\n For children, see \\n Aladdin and Other Tales from the Arabian Nights, Dawood, 1960 \\n https://www.goodreads.com/review/show...'),\n",
       " (0.2944751254505903,\n",
       "  'Awesome! Love this author and his story world. Found quite a few errors/typos in the text, but the story is worth reading.'),\n",
       " (0.2944520286327877,\n",
       "  \"At first I was iffy about this book but it intrigued by the viewpoint it was written from then before I knew it is was sucked in and couldn't put it down!! I almost cried when I saw there was 3 more books.\"),\n",
       " (0.2902791374813246,\n",
       "  \"I was delighted by this book ...the only fault is that it was too short ! What a fantastic idea; a refuge for the children who have had adventures & now cannot fit back into the identity assigned to them. How many of us are not comfortable in the families we were born to? I loved the way the different doorways were sorted; one would think that adventures shared would be a bonding moment. Rivalries will be ever present ; guess that is human nature. I don't want to describe too much & ruin the magic; this author is the heir apparent to Neil Gaiman. Im so glad she has more books to discover !\"),\n",
       " (0.27867963900816956,\n",
       "  \"Loved this tale and look forward to reading much more of Gem Sivad's tales.\"),\n",
       " (0.2755108699963019,\n",
       "  \"I'm really liking these books. It was good to learn more about the vampire lore in these ones and I'm glad that Jane found some companionship in this book, but I wasn't liking the kidnapped children storyline.\"),\n",
       " (0.2685687782658902,\n",
       "  'An amazing story. The first taste of the Tolkien universe, this children tales has it all and is superbly written. A must absolutely read.'),\n",
       " (0.260579392737578,\n",
       "  \"I'm enjoying reading this series. I wish I would have read this before I saw the movie...but oh well.\"),\n",
       " (0.2602744050799704,\n",
       "  \"See full review for Enchanted at: https://toomanybooksnotenoughshelves.... \\n Sunday Woodcutter is the seventh daughter of a seventh daughter. Because she is such a thing, she has magical properties. Her gift bestowed upon her by her Fairy Godmother Joy is that whatever she writes comes true. It has had harsh implications in the past, so Sunday just writes about her family history. She had six older sisters and three older brothers. Jack Junior died tragically thanks in large part to the royal family of Arilland. Monday was married off to a prince and they never see her anymore. Tuesday died. Wednesday is a little bit strange. Thursday married a pirate king and sends them gifts whenever she can. Friday has a pure heart and a talent with needle and thread and uses it to make clothes for the poor children. Saturday is tomboyish and spends her days with her father and brother in the wood with her axe. Sunday is very lonely, until she meets an enchanted frog who she fasts befriends. \\n But the irony - of course - is that the frog (Grumble) is actually the crown prince Rumbold. Thanks to one of her Sunday's kisses, he becomes his human self without any remembrance of his year prior to becoming a frog. All he knows is he is desperately in love with Sunday and needs her to be his at any cost. So, like in most fairy tales, a few balls are held with all the maidens in the kingdom invited. But maybe they aren't meant to live happily ever after... \\n As I've said in my previous posts, I really like fairy-tale retellings and this book seemed to be right up my alley. But...it wasn't to be.\")]"
      ]
     },
     "execution_count": 40,
     "metadata": {},
     "output_type": "execute_result"
    }
   ],
   "source": [
    "similarities[:10]"
   ]
  },
  {
   "cell_type": "markdown",
   "metadata": {},
   "source": [
    "# word2vec (gensim)"
   ]
  },
  {
   "cell_type": "markdown",
   "metadata": {},
   "source": [
    "A few utility data structures (used later)"
   ]
  },
  {
   "cell_type": "code",
   "execution_count": 41,
   "metadata": {},
   "outputs": [],
   "source": [
    "beerStyles = {} # Style of each item\n",
    "categories = set() # Set of item categories\n",
    "reviewsPerUser = defaultdict(list)\n",
    "beerIdToName = {} # Map an ID to the name of the product"
   ]
  },
  {
   "cell_type": "code",
   "execution_count": 42,
   "metadata": {},
   "outputs": [],
   "source": [
    "z = open(os.path.join(dataDir, \"beer_50000.json\"))\n",
    "\n",
    "reviews = []\n",
    "reviewDicts = []\n",
    "\n",
    "for l in z:\n",
    "    d = eval(l)\n",
    "    reviews.append(d['review/text'])\n",
    "    beerStyles[d['beer/beerId']] = d['beer/style']\n",
    "    categories.add(d['beer/style'])\n",
    "    beerIdToName[d['beer/beerId']] = d['beer/name']\n",
    "    reviewsPerUser[d['user/profileName']].append((d['review/timeUnix'], d['beer/beerId']))\n",
    "    reviewDicts.append(d)\n",
    "    if len(reviews) == 50000:\n",
    "        break"
   ]
  },
  {
   "cell_type": "markdown",
   "metadata": {},
   "source": [
    "Tokenize the reviews, so that each review becomes a list of words"
   ]
  },
  {
   "cell_type": "code",
   "execution_count": 43,
   "metadata": {},
   "outputs": [],
   "source": [
    "reviewTokens = []"
   ]
  },
  {
   "cell_type": "code",
   "execution_count": 44,
   "metadata": {},
   "outputs": [],
   "source": [
    "punctuation = set(string.punctuation)\n",
    "for r in reviews:\n",
    "    r = ''.join([c for c in r.lower() if not c in punctuation])\n",
    "    tokens = []\n",
    "    for w in r.split():\n",
    "        tokens.append(w)\n",
    "    reviewTokens.append(tokens)"
   ]
  },
  {
   "cell_type": "markdown",
   "metadata": {},
   "source": [
    "Example of a tokenized review"
   ]
  },
  {
   "cell_type": "code",
   "execution_count": 45,
   "metadata": {},
   "outputs": [
    {
     "data": {
      "text/plain": [
       "['a',\n",
       " 'lot',\n",
       " 'of',\n",
       " 'foam',\n",
       " 'but',\n",
       " 'a',\n",
       " 'lot',\n",
       " 'in',\n",
       " 'the',\n",
       " 'smell',\n",
       " 'some',\n",
       " 'banana',\n",
       " 'and',\n",
       " 'then',\n",
       " 'lactic',\n",
       " 'and',\n",
       " 'tart',\n",
       " 'not',\n",
       " 'a',\n",
       " 'good',\n",
       " 'start',\n",
       " 'quite',\n",
       " 'dark',\n",
       " 'orange',\n",
       " 'in',\n",
       " 'color',\n",
       " 'with',\n",
       " 'a',\n",
       " 'lively',\n",
       " 'carbonation',\n",
       " 'now',\n",
       " 'visible',\n",
       " 'under',\n",
       " 'the',\n",
       " 'foam',\n",
       " 'again',\n",
       " 'tending',\n",
       " 'to',\n",
       " 'lactic',\n",
       " 'sourness',\n",
       " 'same',\n",
       " 'for',\n",
       " 'the',\n",
       " 'taste',\n",
       " 'with',\n",
       " 'some',\n",
       " 'yeast',\n",
       " 'and',\n",
       " 'banana']"
      ]
     },
     "execution_count": 45,
     "metadata": {},
     "output_type": "execute_result"
    }
   ],
   "source": [
    "reviewTokens[0]"
   ]
  },
  {
   "cell_type": "markdown",
   "metadata": {},
   "source": [
    "Fit the word2vec model"
   ]
  },
  {
   "cell_type": "code",
   "execution_count": 46,
   "metadata": {},
   "outputs": [],
   "source": [
    "model = Word2Vec(reviewTokens,\n",
    "                 min_count=5, # Words/items with fewer instances are discarded\n",
    "                 vector_size=10, # Model dimensionality\n",
    "                 window=3, # Window size\n",
    "                 sg=1) # Skip-gram model"
   ]
  },
  {
   "cell_type": "markdown",
   "metadata": {},
   "source": [
    "Extract word representation for a particular word"
   ]
  },
  {
   "cell_type": "code",
   "execution_count": 47,
   "metadata": {},
   "outputs": [
    {
     "data": {
      "text/plain": [
       "array([-0.15706667,  0.12135503, -0.03660804,  0.8428384 ,  0.9300465 ,\n",
       "        0.44028518,  0.42346454,  0.3768172 , -1.3731192 , -0.3212263 ],\n",
       "      dtype=float32)"
      ]
     },
     "execution_count": 47,
     "metadata": {},
     "output_type": "execute_result"
    }
   ],
   "source": [
    "model.wv['yeast']"
   ]
  },
  {
   "cell_type": "markdown",
   "metadata": {},
   "source": [
    "Find similar words to a given query"
   ]
  },
  {
   "cell_type": "code",
   "execution_count": 48,
   "metadata": {},
   "outputs": [
    {
     "data": {
      "text/plain": [
       "[('floral', 0.9921375513076782),\n",
       " ('citrus', 0.9904512763023376),\n",
       " ('citric', 0.9889377355575562),\n",
       " ('spicy', 0.984530508518219),\n",
       " ('flowery', 0.984245240688324),\n",
       " ('grapefruity', 0.9804825186729431),\n",
       " ('piney', 0.9802461862564087),\n",
       " ('piny', 0.9785940051078796),\n",
       " ('pine', 0.9781995415687561),\n",
       " ('earthy', 0.9767197966575623)]"
      ]
     },
     "execution_count": 48,
     "metadata": {},
     "output_type": "execute_result"
    }
   ],
   "source": [
    "model.wv.similar_by_word(\"grassy\")"
   ]
  },
  {
   "cell_type": "markdown",
   "metadata": {},
   "source": [
    "# item2vec"
   ]
  },
  {
   "cell_type": "markdown",
   "metadata": {},
   "source": [
    "Almost the same as word2vec, but \"documents\" are made up of sequences of item IDs rather than words"
   ]
  },
  {
   "cell_type": "code",
   "execution_count": 49,
   "metadata": {},
   "outputs": [],
   "source": [
    "reviewLists = []\n",
    "for u in reviewsPerUser:\n",
    "    rl = list(reviewsPerUser[u])\n",
    "    rl.sort()\n",
    "    reviewLists.append([x[1] for x in rl])"
   ]
  },
  {
   "cell_type": "code",
   "execution_count": 50,
   "metadata": {},
   "outputs": [],
   "source": [
    "model10 = Word2Vec(reviewLists,\n",
    "                 min_count=5, # Words/items with fewer instances are discarded\n",
    "                 vector_size=10, # Model dimensionality\n",
    "                 window=3, # Window size\n",
    "                 sg=1) # Skip-gram model"
   ]
  },
  {
   "cell_type": "code",
   "execution_count": 51,
   "metadata": {},
   "outputs": [
    {
     "data": {
      "text/plain": [
       "'Crystal Bitter Ale'"
      ]
     },
     "execution_count": 51,
     "metadata": {},
     "output_type": "execute_result"
    }
   ],
   "source": [
    "beerIdToName['7360']"
   ]
  },
  {
   "cell_type": "code",
   "execution_count": 52,
   "metadata": {},
   "outputs": [
    {
     "data": {
      "text/plain": [
       "[('48301', 0.9902342557907104),\n",
       " ('6029', 0.9889376759529114),\n",
       " ('4371', 0.9888631701469421),\n",
       " ('13112', 0.9875540137290955),\n",
       " ('49360', 0.9865210056304932),\n",
       " ('5360', 0.9858759641647339),\n",
       " ('4374', 0.9854435324668884),\n",
       " ('57959', 0.9852198958396912),\n",
       " ('67507', 0.9848983883857727),\n",
       " ('59315', 0.9837827086448669)]"
      ]
     },
     "execution_count": 52,
     "metadata": {},
     "output_type": "execute_result"
    }
   ],
   "source": [
    "model10.wv.similar_by_word('7360')"
   ]
  },
  {
   "cell_type": "code",
   "execution_count": 53,
   "metadata": {},
   "outputs": [
    {
     "name": "stdout",
     "output_type": "stream",
     "text": [
      "Oatmeal Ellie\n",
      "Cascade Amber\n",
      "Brown's Point ESB\n",
      "IPA\n",
      "Reckoning\n",
      "IPA\n",
      "Rajah's Royal IPA\n",
      "Bad Knees Barrel Aged Old Ale\n",
      "Mornington Peninsula Brown Ale\n",
      "Master ZlatÃ½ 15Â°\n"
     ]
    }
   ],
   "source": [
    "for b in model10.wv.similar_by_word('7360'):\n",
    "    print(beerIdToName[b[0]])"
   ]
  },
  {
   "cell_type": "markdown",
   "metadata": {},
   "source": [
    "# t-SNE embedding"
   ]
  },
  {
   "cell_type": "markdown",
   "metadata": {},
   "source": [
    "Visualize the embeddings from the model above using t-SNE"
   ]
  },
  {
   "cell_type": "code",
   "execution_count": 54,
   "metadata": {},
   "outputs": [],
   "source": [
    "X = []\n",
    "beers = []\n",
    "for b in beerIdToName:\n",
    "    try:\n",
    "        X.append(list(model10.wv[b]))\n",
    "        beers.append(b)\n",
    "    except Exception as e:\n",
    "        pass"
   ]
  },
  {
   "cell_type": "markdown",
   "metadata": {},
   "source": [
    "Fit a model with just two components for the sake of visualization"
   ]
  },
  {
   "cell_type": "code",
   "execution_count": 55,
   "metadata": {},
   "outputs": [
    {
     "name": "stderr",
     "output_type": "stream",
     "text": [
      "/home/zhankui/anaconda3/envs/pml/lib/python3.7/site-packages/sklearn/manifold/_t_sne.py:783: FutureWarning: The default initialization in TSNE will change from 'random' to 'pca' in 1.2.\n",
      "  FutureWarning,\n",
      "/home/zhankui/anaconda3/envs/pml/lib/python3.7/site-packages/sklearn/manifold/_t_sne.py:793: FutureWarning: The default learning rate in TSNE will change from 200.0 to 'auto' in 1.2.\n",
      "  FutureWarning,\n"
     ]
    }
   ],
   "source": [
    "X_embedded = TSNE(n_components=2).fit_transform(X)"
   ]
  },
  {
   "cell_type": "markdown",
   "metadata": {},
   "source": [
    "Generate scatterplots using the embedded points (one scatter plot per category)"
   ]
  },
  {
   "cell_type": "code",
   "execution_count": 56,
   "metadata": {},
   "outputs": [],
   "source": [
    "scatterPlotsX = defaultdict(list)\n",
    "scatterPlotsY = defaultdict(list)\n",
    "for xy, b in zip(X, beers):\n",
    "    cat = beerStyles[b]\n",
    "    try:\n",
    "        scatterPlotsX[cat].append(xy[0])\n",
    "        scatterPlotsY[cat].append(xy[1])\n",
    "    except Exception as e:\n",
    "        pass"
   ]
  },
  {
   "cell_type": "markdown",
   "metadata": {},
   "source": [
    "Plot data from a few categories (more interesting with a larger dataset)"
   ]
  },
  {
   "cell_type": "code",
   "execution_count": 57,
   "metadata": {},
   "outputs": [
    {
     "data": {
      "image/png": "[encoded data removed]",
      "text/plain": [
       "<Figure size 432x288 with 1 Axes>"
      ]
     },
     "metadata": {},
     "output_type": "display_data"
    }
   ],
   "source": [
    "plt.scatter(scatterPlotsX['American Adjunct Lager'],\n",
    "            scatterPlotsY['American Adjunct Lager'], color='k', lw=0, label=\"Adjunct Lager\")\n",
    "plt.scatter(scatterPlotsX['American Porter'],\n",
    "            scatterPlotsY['American Porter'], color='grey', lw=0, label = \"Porter\")\n",
    "plt.scatter(scatterPlotsX['Smoked Beer'],\n",
    "            scatterPlotsY['Smoked Beer'], color='lightgrey', lw = 0, label = \"Smoked Beer\")\n",
    "plt.legend(loc='lower left')\n",
    "plt.xticks([])\n",
    "plt.yticks([])\n",
    "plt.xlabel(\"first embedded dimension \")\n",
    "plt.ylabel(\"second embedded dimension\")\n",
    "plt.title(\"\\emph{TSNE}-based item embeddings\")\n",
    "plt.show()"
   ]
  },
  {
   "cell_type": "markdown",
   "metadata": {},
   "source": [
    "# Exercises"
   ]
  },
  {
   "cell_type": "markdown",
   "metadata": {},
   "source": [
    "### 8.1 / 8.2"
   ]
  },
  {
   "cell_type": "markdown",
   "metadata": {},
   "source": [
    "Simple sentiment analysis pipeline"
   ]
  },
  {
   "cell_type": "code",
   "execution_count": 58,
   "metadata": {},
   "outputs": [],
   "source": [
    "def parseData(fname):\n",
    "    for l in open(fname):\n",
    "        yield eval(l)"
   ]
  },
  {
   "cell_type": "code",
   "execution_count": 59,
   "metadata": {},
   "outputs": [],
   "source": [
    "data = list(parseData(os.path.join(dataDir, \"beer_50000.json\")))[:5000]"
   ]
  },
  {
   "cell_type": "code",
   "execution_count": 60,
   "metadata": {},
   "outputs": [],
   "source": [
    "random.shuffle(data)"
   ]
  },
  {
   "cell_type": "markdown",
   "metadata": {},
   "source": [
    "Add a couple of \"options\" for the representation (in this case whether we should convert to lower case, remove puncuation). More could be added."
   ]
  },
  {
   "cell_type": "code",
   "execution_count": 61,
   "metadata": {},
   "outputs": [],
   "source": [
    "def feature(datum, words, wordId, tolower=True, removePunct=True):\n",
    "    feat = [0]*len(words)\n",
    "    r = datum['review/text']\n",
    "    if tolower:\n",
    "        r = r.lower()\n",
    "    if removePunct:\n",
    "        r = ''.join([c for c in r if not c in punctuation])\n",
    "    for w in r.split():\n",
    "        if w in words:\n",
    "            feat[wordId[w]] += 1\n",
    "    feat.append(1) # offset\n",
    "    return feat"
   ]
  },
  {
   "cell_type": "markdown",
   "metadata": {},
   "source": [
    "Condense the pipeline code (see Chapter 3) into a single function"
   ]
  },
  {
   "cell_type": "code",
   "execution_count": 62,
   "metadata": {},
   "outputs": [],
   "source": [
    "def pipeline(dSize = 1000, tolower=True, removePunct=True):\n",
    "    wordCount = defaultdict(int)\n",
    "    punctuation = set(string.punctuation)\n",
    "    for d in data: # Strictly, should just use the *training* data to extract word counts\n",
    "        r = d['review/text']\n",
    "        if tolower:\n",
    "            r = r.lower()\n",
    "        if removePunct:\n",
    "            r = ''.join([c for c in r if not c in punctuation])\n",
    "        for w in r.split():\n",
    "            wordCount[w] += 1\n",
    "\n",
    "    counts = [(wordCount[w], w) for w in wordCount]\n",
    "    counts.sort()\n",
    "    counts.reverse()\n",
    "    \n",
    "    words = [x[1] for x in counts[:dSize]]\n",
    "    \n",
    "    wordId = dict(zip(words, range(len(words))))\n",
    "    wordSet = set(words)\n",
    "    \n",
    "    X = [feature(d, words, wordId, tolower, removePunct) for d in data]\n",
    "    y = [d['review/overall'] for d in data]\n",
    "    \n",
    "    Ntrain,Nvalid,Ntest = 4000,500,500\n",
    "    Xtrain,Xvalid,Xtest = X[:Ntrain],X[Ntrain:Ntrain+Nvalid],X[Ntrain+Nvalid:]\n",
    "    ytrain,yvalid,ytest = y[:Ntrain],y[Ntrain:Ntrain+Nvalid],y[Ntrain+Nvalid:]\n",
    "    \n",
    "    bestModel = None\n",
    "    bestVal = None\n",
    "    bestLamb = None\n",
    "    \n",
    "    ls = [0.01, 0.1, 1, 10, 100, 1000, 10000]\n",
    "    errorTrain = []\n",
    "    errorValid = []\n",
    "\n",
    "    for l in ls:\n",
    "        model = sklearn.linear_model.Ridge(l)\n",
    "        model.fit(Xtrain, ytrain)\n",
    "        predictTrain = model.predict(Xtrain)\n",
    "        MSEtrain = sum((ytrain - predictTrain)**2)/len(ytrain)\n",
    "        errorTrain.append(MSEtrain)\n",
    "        predictValid = model.predict(Xvalid)\n",
    "        MSEvalid = sum((yvalid - predictValid)**2)/len(yvalid)\n",
    "        errorValid.append(MSEvalid)\n",
    "        print(\"l = \" + str(l) + \", validation MSE = \" + str(MSEvalid))\n",
    "        if bestVal == None or MSEvalid < bestVal:\n",
    "            bestVal = MSEvalid\n",
    "            bestModel = model\n",
    "            bestLamb = l\n",
    "            \n",
    "    predictTest = bestModel.predict(Xtest)\n",
    "    MSEtest = sum((ytest - predictTest)**2)/len(ytest)\n",
    "    MSEtest\n",
    "    \n",
    "    plt.xticks([])\n",
    "    plt.xlabel(r\"$\\lambda$\")\n",
    "    plt.ylabel(r\"error (MSE)\")\n",
    "    plt.title(r\"Validation Pipeline\")\n",
    "    plt.xscale('log')\n",
    "    plt.plot(ls, errorTrain, color='k', linestyle='--', label='training error')\n",
    "    plt.plot(ls, errorValid, color='grey',zorder=4,label=\"validation error\")\n",
    "    plt.plot([bestLamb], [MSEtest], linestyle='', marker='x', color='k', label=\"test error\")\n",
    "    plt.legend(loc='best')\n",
    "    plt.show()"
   ]
  },
  {
   "cell_type": "markdown",
   "metadata": {},
   "source": [
    "Run models with different feature representation options and dictionary sizes"
   ]
  },
  {
   "cell_type": "code",
   "execution_count": 63,
   "metadata": {},
   "outputs": [
    {
     "name": "stdout",
     "output_type": "stream",
     "text": [
      "l = 0.01, validation MSE = 0.9307009934191642\n",
      "l = 0.1, validation MSE = 0.9217558581288334\n",
      "l = 1, validation MSE = 0.8508519384871486\n",
      "l = 10, validation MSE = 0.6229448597385991\n",
      "l = 100, validation MSE = 0.4657128930525531\n",
      "l = 1000, validation MSE = 0.47911707939523773\n",
      "l = 10000, validation MSE = 0.5635510877872827\n"
     ]
    },
    {
     "data": {
      "image/png": "[encoded data removed]",
      "text/plain": [
       "<Figure size 432x288 with 1 Axes>"
      ]
     },
     "metadata": {
      "needs_background": "light"
     },
     "output_type": "display_data"
    }
   ],
   "source": [
    "pipeline(2000, False, False)"
   ]
  },
  {
   "cell_type": "code",
   "execution_count": 64,
   "metadata": {},
   "outputs": [
    {
     "name": "stdout",
     "output_type": "stream",
     "text": [
      "l = 0.01, validation MSE = 0.5210260411676192\n",
      "l = 0.1, validation MSE = 0.520525070790201\n",
      "l = 1, validation MSE = 0.515773549466803\n",
      "l = 10, validation MSE = 0.4845338070551939\n",
      "l = 100, validation MSE = 0.43405459058445606\n",
      "l = 1000, validation MSE = 0.456502418222912\n",
      "l = 10000, validation MSE = 0.537922528208773\n"
     ]
    },
    {
     "data": {
      "image/png": "[encoded data removed]",
      "text/plain": [
       "<Figure size 432x288 with 1 Axes>"
      ]
     },
     "metadata": {
      "needs_background": "light"
     },
     "output_type": "display_data"
    }
   ],
   "source": [
    "pipeline(1000, True, True)"
   ]
  },
  {
   "cell_type": "markdown",
   "metadata": {},
   "source": [
    "### 8.3"
   ]
  },
  {
   "cell_type": "markdown",
   "metadata": {},
   "source": [
    "Use item2vec to make recommendations (following code from exercises in Chapter 4)"
   ]
  },
  {
   "cell_type": "code",
   "execution_count": 65,
   "metadata": {},
   "outputs": [],
   "source": [
    "def recScore(i, userHistory):\n",
    "    historyInVocab = [w for w in userHistory if w in model10.wv]\n",
    "    if len(historyInVocab) == 0:\n",
    "        return 0\n",
    "    sc = model10.wv.distance(str(i), historyInVocab[-1])\n",
    "    return sc\n",
    "\n",
    "def rec(userHistory):\n",
    "    historyInVocab = [w for w in userHistory if w in model10.wv]\n",
    "    if len(historyInVocab) == 0:\n",
    "        return 0\n",
    "    return model10.wv.most_similar(positive = historyInVocab, topn=10)"
   ]
  },
  {
   "cell_type": "code",
   "execution_count": 66,
   "metadata": {},
   "outputs": [
    {
     "data": {
      "text/plain": [
       "0.22419297695159912"
      ]
     },
     "execution_count": 66,
     "metadata": {},
     "output_type": "execute_result"
    }
   ],
   "source": [
    "recScore(20539, reviewLists[0])"
   ]
  },
  {
   "cell_type": "code",
   "execution_count": 67,
   "metadata": {},
   "outputs": [
    {
     "data": {
      "text/plain": [
       "[('4872', 0.9914255142211914),\n",
       " ('31063', 0.9814524054527283),\n",
       " ('30034', 0.9814499020576477),\n",
       " ('12073', 0.9812331795692444),\n",
       " ('1418', 0.9807156920433044),\n",
       " ('36367', 0.9803662300109863),\n",
       " ('14014', 0.9797950983047485),\n",
       " ('12734', 0.9787745475769043),\n",
       " ('17160', 0.9782428741455078),\n",
       " ('19309', 0.9782235622406006)]"
      ]
     },
     "execution_count": 67,
     "metadata": {},
     "output_type": "execute_result"
    }
   ],
   "source": [
    "rec(reviewLists[0])"
   ]
  },
  {
   "cell_type": "markdown",
   "metadata": {},
   "source": [
    "### 8.4"
   ]
  },
  {
   "cell_type": "markdown",
   "metadata": {},
   "source": [
    "(see tf-idf retrieval examples above)"
   ]
  },
  {
   "cell_type": "markdown",
   "metadata": {},
   "source": [
    "### 8.5"
   ]
  },
  {
   "cell_type": "markdown",
   "metadata": {},
   "source": [
    "Predict the rating using item2vec item similarity scores. Adapts models from Chapter 4."
   ]
  },
  {
   "cell_type": "code",
   "execution_count": 68,
   "metadata": {},
   "outputs": [],
   "source": [
    "ratingMean = sum([d['review/overall'] for d in reviewDicts]) / len(reviewDicts)"
   ]
  },
  {
   "cell_type": "code",
   "execution_count": 69,
   "metadata": {},
   "outputs": [],
   "source": [
    "itemAverages = defaultdict(list)\n",
    "reviewsPerUser = defaultdict(list)\n",
    "    \n",
    "for d in reviewDicts:\n",
    "    i = d['beer/beerId']\n",
    "    u = d['user/profileName']\n",
    "    itemAverages[i].append(d['review/overall'])\n",
    "    reviewsPerUser[u].append(d)\n",
    "    \n",
    "for i in itemAverages:\n",
    "    itemAverages[i] = sum(itemAverages[i]) / len(itemAverages[i])"
   ]
  },
  {
   "cell_type": "code",
   "execution_count": 70,
   "metadata": {},
   "outputs": [],
   "source": [
    "def predictRating(user,item):\n",
    "    ratings = []\n",
    "    similarities = []\n",
    "    if not str(item) in model10.wv:\n",
    "        return ratingMean\n",
    "    for d in reviewsPerUser[user]:\n",
    "        i2 = d['beer/beerId']\n",
    "        if i2 == item: continue\n",
    "        ratings.append(d['review/overall'] - itemAverages[i2])\n",
    "        if str(i2) in model10.wv:\n",
    "            similarities.append(model10.wv.distance(str(item), str(i2)))\n",
    "    if (sum(similarities) > 0):\n",
    "        weightedRatings = [(x*y) for x,y in zip(ratings,similarities)]\n",
    "        return itemAverages[item] + sum(weightedRatings) / sum(similarities)\n",
    "    else:\n",
    "        return ratingMean"
   ]
  },
  {
   "cell_type": "code",
   "execution_count": 71,
   "metadata": {},
   "outputs": [],
   "source": [
    "u,i = reviewDicts[0]['user/profileName'],reviewDicts[0]['beer/beerId']"
   ]
  },
  {
   "cell_type": "code",
   "execution_count": 72,
   "metadata": {},
   "outputs": [
    {
     "data": {
      "text/plain": [
       "3.88871"
      ]
     },
     "execution_count": 72,
     "metadata": {},
     "output_type": "execute_result"
    }
   ],
   "source": [
    "predictRating(u,i)"
   ]
  },
  {
   "cell_type": "code",
   "execution_count": 73,
   "metadata": {},
   "outputs": [
    {
     "data": {
      "text/plain": [
       "3.88871"
      ]
     },
     "execution_count": 73,
     "metadata": {},
     "output_type": "execute_result"
    }
   ],
   "source": [
    "ratingMean"
   ]
  },
  {
   "cell_type": "code",
   "execution_count": 74,
   "metadata": {},
   "outputs": [],
   "source": [
    "alwaysPredictMean = [ratingMean for _ in reviewDicts]"
   ]
  },
  {
   "cell_type": "code",
   "execution_count": 75,
   "metadata": {},
   "outputs": [],
   "source": [
    "labels = [d['review/overall'] for d in reviewDicts]"
   ]
  },
  {
   "cell_type": "code",
   "execution_count": 76,
   "metadata": {},
   "outputs": [],
   "source": [
    "predictions = [predictRating(d['user/profileName'],d['beer/beerId']) for d in reviewDicts]"
   ]
  },
  {
   "cell_type": "code",
   "execution_count": 77,
   "metadata": {},
   "outputs": [],
   "source": [
    "def MSE(predictions, labels):\n",
    "    differences = [(x-y)**2 for x,y in zip(predictions,labels)]\n",
    "    return sum(differences) / len(differences)"
   ]
  },
  {
   "cell_type": "code",
   "execution_count": 78,
   "metadata": {},
   "outputs": [
    {
     "data": {
      "text/plain": [
       "0.4924295358999677"
      ]
     },
     "execution_count": 78,
     "metadata": {},
     "output_type": "execute_result"
    }
   ],
   "source": [
    "MSE(alwaysPredictMean, labels)"
   ]
  },
  {
   "cell_type": "code",
   "execution_count": 79,
   "metadata": {},
   "outputs": [
    {
     "data": {
      "text/plain": [
       "0.41646764685709614"
      ]
     },
     "execution_count": 79,
     "metadata": {},
     "output_type": "execute_result"
    }
   ],
   "source": [
    "MSE(predictions, labels)"
   ]
  }
 ],
 "metadata": {
  "kernelspec": {
   "display_name": "Python 3",
   "language": "python",
   "name": "python3"
  },
  "language_info": {
   "codemirror_mode": {
    "name": "ipython",
    "version": 3
   },
   "file_extension": ".py",
   "mimetype": "text/x-python",
   "name": "python",
   "nbconvert_exporter": "python",
   "pygments_lexer": "ipython3",
   "version": "3.7.12"
  }
 },
 "nbformat": 4,
 "nbformat_minor": 2
}
